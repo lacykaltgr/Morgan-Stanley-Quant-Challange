{
  "nbformat": 4,
  "nbformat_minor": 0,
  "metadata": {
    "colab": {
      "provenance": [],
      "include_colab_link": true
    },
    "kernelspec": {
      "name": "python3",
      "display_name": "Python 3"
    },
    "language_info": {
      "name": "python"
    }
  },
  "cells": [
    {
      "cell_type": "markdown",
      "metadata": {
        "id": "view-in-github",
        "colab_type": "text"
      },
      "source": [
        "<a href=\"https://colab.research.google.com/github/lacykaltgr/quant/blob/main/quant.ipynb\" target=\"_parent\"><img src=\"https://colab.research.google.com/assets/colab-badge.svg\" alt=\"Open In Colab\"/></a>"
      ]
    },
    {
      "cell_type": "code",
      "execution_count": 2,
      "metadata": {
        "colab": {
          "base_uri": "https://localhost:8080/"
        },
        "id": "fxqi0jj6r1x0",
        "outputId": "f8af2375-5991-4f42-af87-1b15e1f9ec9d"
      },
      "outputs": [
        {
          "output_type": "stream",
          "name": "stdout",
          "text": [
            "Mounted at /content/drive\n"
          ]
        }
      ],
      "source": [
        "from google.colab import drive\n",
        "drive.mount('/content/drive')"
      ]
    },
    {
      "cell_type": "markdown",
      "source": [
        "# Setup"
      ],
      "metadata": {
        "id": "o42LfRisTqTI"
      }
    },
    {
      "cell_type": "code",
      "source": [
        "import pandas as pd\n",
        "import numpy as np"
      ],
      "metadata": {
        "id": "gYfYs6LWs_qY"
      },
      "execution_count": 3,
      "outputs": []
    },
    {
      "cell_type": "code",
      "source": [
        "quant_folder_location = \"/content/drive/MyDrive/quant\"\n",
        "county_location_file_path = quant_folder_location + \"/agri/minnesota_county_location.csv\"\n",
        "county_agr_prod_file_path = quant_folder_location + \"/agri/minnesota_county_yearly_agricultural_production.csv\"\n",
        "station_location_file_path = quant_folder_location + \"/weather/minnesota_station_location.csv\"\n",
        "\n",
        "def station_weather_fp(station_name):\n",
        "  return quant_folder_location + \"/weather/minnesota_daily/\" + str(station_name) + \".csv\""
      ],
      "metadata": {
        "id": "HlpjPkaztxe8"
      },
      "execution_count": 148,
      "outputs": []
    },
    {
      "cell_type": "code",
      "source": [
        "county_locations_df = pd.read_csv(county_location_file_path)\n",
        "county_agr_prod_df = pd.read_csv(county_agr_prod_file_path, decimal=',')\n",
        "station_location_df = pd.read_csv(station_location_file_path)\n",
        "\n",
        "station_weather_df_list = []\n",
        "station_codes = np.unique(station_location_df.Code)\n",
        "for code in station_codes:\n",
        "  try:\n",
        "      station_df = pd.read_csv(station_weather_fp(code), header=None, index_col=False, names=[\"date\", \"avg\", \"min\", \"max\", \"rain\"])\n",
        "      station_weather_df_list.append(station_df)\n",
        "  except:\n",
        "      station_codes.remove(code)\n",
        "      print(f\"Hibás/üres fájl: {code}\")"
      ],
      "metadata": {
        "id": "s3DPxLZjtsAV"
      },
      "execution_count": 205,
      "outputs": []
    },
    {
      "cell_type": "code",
      "source": [
        "len(station_codes) == len(station_weather_df_list)\n",
        "station_weather_df_list[1].info()"
      ],
      "metadata": {
        "colab": {
          "base_uri": "https://localhost:8080/"
        },
        "id": "j1whCyUT0tu1",
        "outputId": "9e822dab-509c-4d2f-bb4e-ba3297277aa6"
      },
      "execution_count": 91,
      "outputs": [
        {
          "output_type": "stream",
          "name": "stdout",
          "text": [
            "<class 'pandas.core.frame.DataFrame'>\n",
            "RangeIndex: 30678 entries, 0 to 30677\n",
            "Data columns (total 5 columns):\n",
            " #   Column  Non-Null Count  Dtype  \n",
            "---  ------  --------------  -----  \n",
            " 0   date    30678 non-null  object \n",
            " 1   avg     14700 non-null  float64\n",
            " 2   min     30191 non-null  float64\n",
            " 3   max     30189 non-null  float64\n",
            " 4   rain    30651 non-null  float64\n",
            "dtypes: float64(4), object(1)\n",
            "memory usage: 1.2+ MB\n"
          ]
        }
      ]
    },
    {
      "cell_type": "markdown",
      "source": [
        "# Prepare weather data\n"
      ],
      "metadata": {
        "id": "8JmR0-bWTceU"
      }
    },
    {
      "cell_type": "code",
      "source": [
        "for station in station_weather_df_list:\n",
        "  station[\"date\"] = pd.to_datetime(station[\"date\"])\n",
        "  station[\"rain\"] = station[\"rain\"].fillna(0)\n",
        "  station[\"avg\"] = station[\"avg\"].interpolate(method=\"linear\")\n",
        "  station[\"min\"] = station[\"min\"].interpolate(method=\"linear\")\n",
        "  station[\"max\"] = station[\"max\"].interpolate(method=\"linear\")\n",
        "\n",
        "station_weather_df_list[3].info()"
      ],
      "metadata": {
        "id": "4idZtw-e6MUL",
        "colab": {
          "base_uri": "https://localhost:8080/"
        },
        "outputId": "0a4b5c6b-7c58-44aa-d6e1-916446e9464a"
      },
      "execution_count": 92,
      "outputs": [
        {
          "output_type": "stream",
          "name": "stdout",
          "text": [
            "<class 'pandas.core.frame.DataFrame'>\n",
            "RangeIndex: 27204 entries, 0 to 27203\n",
            "Data columns (total 5 columns):\n",
            " #   Column  Non-Null Count  Dtype         \n",
            "---  ------  --------------  -----         \n",
            " 0   date    27204 non-null  datetime64[ns]\n",
            " 1   avg     27203 non-null  float64       \n",
            " 2   min     27204 non-null  float64       \n",
            " 3   max     27204 non-null  float64       \n",
            " 4   rain    27204 non-null  float64       \n",
            "dtypes: datetime64[ns](1), float64(4)\n",
            "memory usage: 1.0 MB\n"
          ]
        }
      ]
    },
    {
      "cell_type": "code",
      "source": [
        "for i, (station_data, code) in enumerate(zip(station_weather_df_list, station_codes)):\n",
        "  lat = station_location_df[station_location_df[\"Code\"] == code ].Latitude.values[0]\n",
        "  lon = station_location_df[station_location_df[\"Code\"] == code ].Longitude.values[0]\n",
        "  station_weather_df_list[i] = station_data.assign(code = code, lat = lat, lon = lon)\n",
        "\n",
        "combined_weather_df = pd.concat(station_weather_df_list, axis=0)\n",
        "combined_weather_df.info()"
      ],
      "metadata": {
        "colab": {
          "base_uri": "https://localhost:8080/"
        },
        "id": "cH2IoUgn1VsJ",
        "outputId": "9de812bd-86d9-46a1-e4e3-8ead6ae283e8"
      },
      "execution_count": 93,
      "outputs": [
        {
          "output_type": "stream",
          "name": "stdout",
          "text": [
            "<class 'pandas.core.frame.DataFrame'>\n",
            "Int64Index: 603227 entries, 0 to 53\n",
            "Data columns (total 8 columns):\n",
            " #   Column  Non-Null Count   Dtype         \n",
            "---  ------  --------------   -----         \n",
            " 0   date    603227 non-null  datetime64[ns]\n",
            " 1   avg     517292 non-null  float64       \n",
            " 2   min     602679 non-null  float64       \n",
            " 3   max     602679 non-null  float64       \n",
            " 4   rain    603227 non-null  float64       \n",
            " 5   code    603227 non-null  object        \n",
            " 6   lat     603227 non-null  float64       \n",
            " 7   lon     603227 non-null  float64       \n",
            "dtypes: datetime64[ns](1), float64(6), object(1)\n",
            "memory usage: 41.4+ MB\n"
          ]
        }
      ]
    },
    {
      "cell_type": "code",
      "source": [
        "fillable_weather_df = combined_weather_df[combined_weather_df[\"min\"].notnull() & combined_weather_df[\"max\"].notnull()]\n",
        "fillable_weather_df.info()"
      ],
      "metadata": {
        "colab": {
          "base_uri": "https://localhost:8080/"
        },
        "id": "WFIqYR6Az-1v",
        "outputId": "a6994cbf-fbb3-4ab6-b943-c2757c0b2e52"
      },
      "execution_count": 94,
      "outputs": [
        {
          "output_type": "stream",
          "name": "stdout",
          "text": [
            "<class 'pandas.core.frame.DataFrame'>\n",
            "Int64Index: 602679 entries, 0 to 53\n",
            "Data columns (total 8 columns):\n",
            " #   Column  Non-Null Count   Dtype         \n",
            "---  ------  --------------   -----         \n",
            " 0   date    602679 non-null  datetime64[ns]\n",
            " 1   avg     517292 non-null  float64       \n",
            " 2   min     602679 non-null  float64       \n",
            " 3   max     602679 non-null  float64       \n",
            " 4   rain    602679 non-null  float64       \n",
            " 5   code    602679 non-null  object        \n",
            " 6   lat     602679 non-null  float64       \n",
            " 7   lon     602679 non-null  float64       \n",
            "dtypes: datetime64[ns](1), float64(6), object(1)\n",
            "memory usage: 41.4+ MB\n"
          ]
        }
      ]
    },
    {
      "cell_type": "code",
      "source": [
        "from sklearn.model_selection import train_test_split, cross_val_score\n",
        "from xgboost import XGBRegressor\n",
        "\n",
        "no_missing_weather_df = fillable_weather_df[fillable_weather_df[\"avg\"].notnull()]\n",
        "no_missing_weather_train_df = no_missing_weather_df.drop(\"code\", axis=1)\n",
        "no_missing_weather_train_df['year'] = no_missing_weather_train_df['date'].dt.year\n",
        "no_missing_weather_train_df['month'] = no_missing_weather_train_df['date'].dt.month\n",
        "no_missing_weather_train_df['day'] = no_missing_weather_train_df['date'].dt.day\n",
        "no_missing_weather_train_df = no_missing_weather_train_df.drop(\"date\", axis=1)\n",
        "\n",
        "X_fill_avg = no_missing_weather_train_df.drop(\"avg\", axis=1)\n",
        "y_fill_avg = no_missing_weather_train_df[\"avg\"]\n",
        "X_avg_train, X_avg_test, y_avg_train, y_avg_test = train_test_split(X_fill_avg, y_fill_avg, test_size=0.1)\n",
        "evaluation = [(X_avg_train, y_avg_train), (X_avg_test, y_avg_test)]\n",
        "\n",
        "model = XGBRegressor(early_stopping_rounds=300)\n",
        "model.fit(X_avg_train, y_avg_train, eval_set=evaluation, verbose=1)"
      ],
      "metadata": {
        "colab": {
          "base_uri": "https://localhost:8080/",
          "height": 1000
        },
        "id": "3zmIAmj1Bp3f",
        "outputId": "faeb8595-c6d3-48df-ce22-5c8484e7df98"
      },
      "execution_count": 108,
      "outputs": [
        {
          "output_type": "stream",
          "name": "stdout",
          "text": [
            "[0]\tvalidation_0-rmse:9.71722\tvalidation_1-rmse:9.68173\n",
            "[1]\tvalidation_0-rmse:6.92341\tvalidation_1-rmse:6.90192\n",
            "[2]\tvalidation_0-rmse:4.97964\tvalidation_1-rmse:4.96960\n",
            "[3]\tvalidation_0-rmse:3.65094\tvalidation_1-rmse:3.65102\n",
            "[4]\tvalidation_0-rmse:2.74813\tvalidation_1-rmse:2.75310\n",
            "[5]\tvalidation_0-rmse:2.13155\tvalidation_1-rmse:2.14388\n",
            "[6]\tvalidation_0-rmse:1.72605\tvalidation_1-rmse:1.74409\n",
            "[7]\tvalidation_0-rmse:1.47857\tvalidation_1-rmse:1.50489\n",
            "[8]\tvalidation_0-rmse:1.31308\tvalidation_1-rmse:1.33893\n",
            "[9]\tvalidation_0-rmse:1.22201\tvalidation_1-rmse:1.25050\n",
            "[10]\tvalidation_0-rmse:1.14734\tvalidation_1-rmse:1.17107\n",
            "[11]\tvalidation_0-rmse:1.09763\tvalidation_1-rmse:1.11802\n",
            "[12]\tvalidation_0-rmse:1.04918\tvalidation_1-rmse:1.06532\n",
            "[13]\tvalidation_0-rmse:1.03335\tvalidation_1-rmse:1.05030\n",
            "[14]\tvalidation_0-rmse:1.00751\tvalidation_1-rmse:1.02278\n",
            "[15]\tvalidation_0-rmse:0.98822\tvalidation_1-rmse:1.00159\n",
            "[16]\tvalidation_0-rmse:0.98352\tvalidation_1-rmse:0.99752\n",
            "[17]\tvalidation_0-rmse:0.97556\tvalidation_1-rmse:0.98968\n",
            "[18]\tvalidation_0-rmse:0.97230\tvalidation_1-rmse:0.98631\n",
            "[19]\tvalidation_0-rmse:0.96901\tvalidation_1-rmse:0.98314\n",
            "[20]\tvalidation_0-rmse:0.96174\tvalidation_1-rmse:0.97488\n",
            "[21]\tvalidation_0-rmse:0.94378\tvalidation_1-rmse:0.95226\n",
            "[22]\tvalidation_0-rmse:0.94159\tvalidation_1-rmse:0.95023\n",
            "[23]\tvalidation_0-rmse:0.93897\tvalidation_1-rmse:0.94761\n",
            "[24]\tvalidation_0-rmse:0.93734\tvalidation_1-rmse:0.94596\n",
            "[25]\tvalidation_0-rmse:0.93581\tvalidation_1-rmse:0.94483\n",
            "[26]\tvalidation_0-rmse:0.93520\tvalidation_1-rmse:0.94418\n",
            "[27]\tvalidation_0-rmse:0.92491\tvalidation_1-rmse:0.93076\n",
            "[28]\tvalidation_0-rmse:0.92376\tvalidation_1-rmse:0.92987\n",
            "[29]\tvalidation_0-rmse:0.92170\tvalidation_1-rmse:0.92833\n",
            "[30]\tvalidation_0-rmse:0.91908\tvalidation_1-rmse:0.92603\n",
            "[31]\tvalidation_0-rmse:0.91479\tvalidation_1-rmse:0.92027\n",
            "[32]\tvalidation_0-rmse:0.91361\tvalidation_1-rmse:0.91921\n",
            "[33]\tvalidation_0-rmse:0.91026\tvalidation_1-rmse:0.91588\n",
            "[34]\tvalidation_0-rmse:0.90865\tvalidation_1-rmse:0.91452\n",
            "[35]\tvalidation_0-rmse:0.90794\tvalidation_1-rmse:0.91376\n",
            "[36]\tvalidation_0-rmse:0.90647\tvalidation_1-rmse:0.91263\n",
            "[37]\tvalidation_0-rmse:0.90552\tvalidation_1-rmse:0.91176\n",
            "[38]\tvalidation_0-rmse:0.90478\tvalidation_1-rmse:0.91111\n",
            "[39]\tvalidation_0-rmse:0.90378\tvalidation_1-rmse:0.91057\n",
            "[40]\tvalidation_0-rmse:0.90107\tvalidation_1-rmse:0.90804\n",
            "[41]\tvalidation_0-rmse:0.90074\tvalidation_1-rmse:0.90786\n",
            "[42]\tvalidation_0-rmse:0.89914\tvalidation_1-rmse:0.90639\n",
            "[43]\tvalidation_0-rmse:0.89822\tvalidation_1-rmse:0.90591\n",
            "[44]\tvalidation_0-rmse:0.89739\tvalidation_1-rmse:0.90531\n",
            "[45]\tvalidation_0-rmse:0.89629\tvalidation_1-rmse:0.90504\n",
            "[46]\tvalidation_0-rmse:0.89488\tvalidation_1-rmse:0.90360\n",
            "[47]\tvalidation_0-rmse:0.89397\tvalidation_1-rmse:0.90294\n",
            "[48]\tvalidation_0-rmse:0.89135\tvalidation_1-rmse:0.89941\n",
            "[49]\tvalidation_0-rmse:0.88997\tvalidation_1-rmse:0.89815\n",
            "[50]\tvalidation_0-rmse:0.88835\tvalidation_1-rmse:0.89618\n",
            "[51]\tvalidation_0-rmse:0.88577\tvalidation_1-rmse:0.89270\n",
            "[52]\tvalidation_0-rmse:0.88440\tvalidation_1-rmse:0.89117\n",
            "[53]\tvalidation_0-rmse:0.88375\tvalidation_1-rmse:0.89073\n",
            "[54]\tvalidation_0-rmse:0.88337\tvalidation_1-rmse:0.89052\n",
            "[55]\tvalidation_0-rmse:0.88167\tvalidation_1-rmse:0.88880\n",
            "[56]\tvalidation_0-rmse:0.88135\tvalidation_1-rmse:0.88863\n",
            "[57]\tvalidation_0-rmse:0.88034\tvalidation_1-rmse:0.88787\n",
            "[58]\tvalidation_0-rmse:0.87869\tvalidation_1-rmse:0.88591\n",
            "[59]\tvalidation_0-rmse:0.87727\tvalidation_1-rmse:0.88494\n",
            "[60]\tvalidation_0-rmse:0.87671\tvalidation_1-rmse:0.88449\n",
            "[61]\tvalidation_0-rmse:0.87578\tvalidation_1-rmse:0.88374\n",
            "[62]\tvalidation_0-rmse:0.87525\tvalidation_1-rmse:0.88324\n",
            "[63]\tvalidation_0-rmse:0.87478\tvalidation_1-rmse:0.88289\n",
            "[64]\tvalidation_0-rmse:0.87415\tvalidation_1-rmse:0.88244\n",
            "[65]\tvalidation_0-rmse:0.87267\tvalidation_1-rmse:0.88263\n",
            "[66]\tvalidation_0-rmse:0.87232\tvalidation_1-rmse:0.88244\n",
            "[67]\tvalidation_0-rmse:0.87117\tvalidation_1-rmse:0.88152\n",
            "[68]\tvalidation_0-rmse:0.87036\tvalidation_1-rmse:0.88106\n",
            "[69]\tvalidation_0-rmse:0.86989\tvalidation_1-rmse:0.88074\n",
            "[70]\tvalidation_0-rmse:0.86869\tvalidation_1-rmse:0.87979\n",
            "[71]\tvalidation_0-rmse:0.86854\tvalidation_1-rmse:0.87968\n",
            "[72]\tvalidation_0-rmse:0.86828\tvalidation_1-rmse:0.87946\n",
            "[73]\tvalidation_0-rmse:0.86734\tvalidation_1-rmse:0.87861\n",
            "[74]\tvalidation_0-rmse:0.86530\tvalidation_1-rmse:0.87657\n",
            "[75]\tvalidation_0-rmse:0.86425\tvalidation_1-rmse:0.87596\n",
            "[76]\tvalidation_0-rmse:0.86370\tvalidation_1-rmse:0.87568\n",
            "[77]\tvalidation_0-rmse:0.86269\tvalidation_1-rmse:0.87494\n",
            "[78]\tvalidation_0-rmse:0.86212\tvalidation_1-rmse:0.87438\n",
            "[79]\tvalidation_0-rmse:0.86159\tvalidation_1-rmse:0.87406\n",
            "[80]\tvalidation_0-rmse:0.86099\tvalidation_1-rmse:0.87366\n",
            "[81]\tvalidation_0-rmse:0.85953\tvalidation_1-rmse:0.87231\n",
            "[82]\tvalidation_0-rmse:0.85858\tvalidation_1-rmse:0.87133\n",
            "[83]\tvalidation_0-rmse:0.85775\tvalidation_1-rmse:0.87088\n",
            "[84]\tvalidation_0-rmse:0.85719\tvalidation_1-rmse:0.87031\n",
            "[85]\tvalidation_0-rmse:0.85670\tvalidation_1-rmse:0.86985\n",
            "[86]\tvalidation_0-rmse:0.85580\tvalidation_1-rmse:0.86900\n",
            "[87]\tvalidation_0-rmse:0.85550\tvalidation_1-rmse:0.86879\n",
            "[88]\tvalidation_0-rmse:0.85465\tvalidation_1-rmse:0.86806\n",
            "[89]\tvalidation_0-rmse:0.85336\tvalidation_1-rmse:0.86692\n",
            "[90]\tvalidation_0-rmse:0.85268\tvalidation_1-rmse:0.86678\n",
            "[91]\tvalidation_0-rmse:0.85240\tvalidation_1-rmse:0.86664\n",
            "[92]\tvalidation_0-rmse:0.85180\tvalidation_1-rmse:0.86609\n",
            "[93]\tvalidation_0-rmse:0.85091\tvalidation_1-rmse:0.86563\n",
            "[94]\tvalidation_0-rmse:0.85053\tvalidation_1-rmse:0.86523\n",
            "[95]\tvalidation_0-rmse:0.85023\tvalidation_1-rmse:0.86509\n",
            "[96]\tvalidation_0-rmse:0.84986\tvalidation_1-rmse:0.86466\n",
            "[97]\tvalidation_0-rmse:0.84875\tvalidation_1-rmse:0.86390\n",
            "[98]\tvalidation_0-rmse:0.84845\tvalidation_1-rmse:0.86375\n",
            "[99]\tvalidation_0-rmse:0.84824\tvalidation_1-rmse:0.86353\n"
          ]
        },
        {
          "output_type": "execute_result",
          "data": {
            "text/plain": [
              "XGBRegressor(base_score=None, booster=None, callbacks=None,\n",
              "             colsample_bylevel=None, colsample_bynode=None,\n",
              "             colsample_bytree=None, early_stopping_rounds=300,\n",
              "             enable_categorical=False, eval_metric=None, feature_types=None,\n",
              "             gamma=None, gpu_id=None, grow_policy=None, importance_type=None,\n",
              "             interaction_constraints=None, learning_rate=None, max_bin=None,\n",
              "             max_cat_threshold=None, max_cat_to_onehot=None,\n",
              "             max_delta_step=None, max_depth=None, max_leaves=None,\n",
              "             min_child_weight=None, missing=nan, monotone_constraints=None,\n",
              "             n_estimators=100, n_jobs=None, num_parallel_tree=None,\n",
              "             predictor=None, random_state=None, ...)"
            ],
            "text/html": [
              "<style>#sk-container-id-5 {color: black;background-color: white;}#sk-container-id-5 pre{padding: 0;}#sk-container-id-5 div.sk-toggleable {background-color: white;}#sk-container-id-5 label.sk-toggleable__label {cursor: pointer;display: block;width: 100%;margin-bottom: 0;padding: 0.3em;box-sizing: border-box;text-align: center;}#sk-container-id-5 label.sk-toggleable__label-arrow:before {content: \"▸\";float: left;margin-right: 0.25em;color: #696969;}#sk-container-id-5 label.sk-toggleable__label-arrow:hover:before {color: black;}#sk-container-id-5 div.sk-estimator:hover label.sk-toggleable__label-arrow:before {color: black;}#sk-container-id-5 div.sk-toggleable__content {max-height: 0;max-width: 0;overflow: hidden;text-align: left;background-color: #f0f8ff;}#sk-container-id-5 div.sk-toggleable__content pre {margin: 0.2em;color: black;border-radius: 0.25em;background-color: #f0f8ff;}#sk-container-id-5 input.sk-toggleable__control:checked~div.sk-toggleable__content {max-height: 200px;max-width: 100%;overflow: auto;}#sk-container-id-5 input.sk-toggleable__control:checked~label.sk-toggleable__label-arrow:before {content: \"▾\";}#sk-container-id-5 div.sk-estimator input.sk-toggleable__control:checked~label.sk-toggleable__label {background-color: #d4ebff;}#sk-container-id-5 div.sk-label input.sk-toggleable__control:checked~label.sk-toggleable__label {background-color: #d4ebff;}#sk-container-id-5 input.sk-hidden--visually {border: 0;clip: rect(1px 1px 1px 1px);clip: rect(1px, 1px, 1px, 1px);height: 1px;margin: -1px;overflow: hidden;padding: 0;position: absolute;width: 1px;}#sk-container-id-5 div.sk-estimator {font-family: monospace;background-color: #f0f8ff;border: 1px dotted black;border-radius: 0.25em;box-sizing: border-box;margin-bottom: 0.5em;}#sk-container-id-5 div.sk-estimator:hover {background-color: #d4ebff;}#sk-container-id-5 div.sk-parallel-item::after {content: \"\";width: 100%;border-bottom: 1px solid gray;flex-grow: 1;}#sk-container-id-5 div.sk-label:hover label.sk-toggleable__label {background-color: #d4ebff;}#sk-container-id-5 div.sk-serial::before {content: \"\";position: absolute;border-left: 1px solid gray;box-sizing: border-box;top: 0;bottom: 0;left: 50%;z-index: 0;}#sk-container-id-5 div.sk-serial {display: flex;flex-direction: column;align-items: center;background-color: white;padding-right: 0.2em;padding-left: 0.2em;position: relative;}#sk-container-id-5 div.sk-item {position: relative;z-index: 1;}#sk-container-id-5 div.sk-parallel {display: flex;align-items: stretch;justify-content: center;background-color: white;position: relative;}#sk-container-id-5 div.sk-item::before, #sk-container-id-5 div.sk-parallel-item::before {content: \"\";position: absolute;border-left: 1px solid gray;box-sizing: border-box;top: 0;bottom: 0;left: 50%;z-index: -1;}#sk-container-id-5 div.sk-parallel-item {display: flex;flex-direction: column;z-index: 1;position: relative;background-color: white;}#sk-container-id-5 div.sk-parallel-item:first-child::after {align-self: flex-end;width: 50%;}#sk-container-id-5 div.sk-parallel-item:last-child::after {align-self: flex-start;width: 50%;}#sk-container-id-5 div.sk-parallel-item:only-child::after {width: 0;}#sk-container-id-5 div.sk-dashed-wrapped {border: 1px dashed gray;margin: 0 0.4em 0.5em 0.4em;box-sizing: border-box;padding-bottom: 0.4em;background-color: white;}#sk-container-id-5 div.sk-label label {font-family: monospace;font-weight: bold;display: inline-block;line-height: 1.2em;}#sk-container-id-5 div.sk-label-container {text-align: center;}#sk-container-id-5 div.sk-container {/* jupyter's `normalize.less` sets `[hidden] { display: none; }` but bootstrap.min.css set `[hidden] { display: none !important; }` so we also need the `!important` here to be able to override the default hidden behavior on the sphinx rendered scikit-learn.org. See: https://github.com/scikit-learn/scikit-learn/issues/21755 */display: inline-block !important;position: relative;}#sk-container-id-5 div.sk-text-repr-fallback {display: none;}</style><div id=\"sk-container-id-5\" class=\"sk-top-container\"><div class=\"sk-text-repr-fallback\"><pre>XGBRegressor(base_score=None, booster=None, callbacks=None,\n",
              "             colsample_bylevel=None, colsample_bynode=None,\n",
              "             colsample_bytree=None, early_stopping_rounds=300,\n",
              "             enable_categorical=False, eval_metric=None, feature_types=None,\n",
              "             gamma=None, gpu_id=None, grow_policy=None, importance_type=None,\n",
              "             interaction_constraints=None, learning_rate=None, max_bin=None,\n",
              "             max_cat_threshold=None, max_cat_to_onehot=None,\n",
              "             max_delta_step=None, max_depth=None, max_leaves=None,\n",
              "             min_child_weight=None, missing=nan, monotone_constraints=None,\n",
              "             n_estimators=100, n_jobs=None, num_parallel_tree=None,\n",
              "             predictor=None, random_state=None, ...)</pre><b>In a Jupyter environment, please rerun this cell to show the HTML representation or trust the notebook. <br />On GitHub, the HTML representation is unable to render, please try loading this page with nbviewer.org.</b></div><div class=\"sk-container\" hidden><div class=\"sk-item\"><div class=\"sk-estimator sk-toggleable\"><input class=\"sk-toggleable__control sk-hidden--visually\" id=\"sk-estimator-id-5\" type=\"checkbox\" checked><label for=\"sk-estimator-id-5\" class=\"sk-toggleable__label sk-toggleable__label-arrow\">XGBRegressor</label><div class=\"sk-toggleable__content\"><pre>XGBRegressor(base_score=None, booster=None, callbacks=None,\n",
              "             colsample_bylevel=None, colsample_bynode=None,\n",
              "             colsample_bytree=None, early_stopping_rounds=300,\n",
              "             enable_categorical=False, eval_metric=None, feature_types=None,\n",
              "             gamma=None, gpu_id=None, grow_policy=None, importance_type=None,\n",
              "             interaction_constraints=None, learning_rate=None, max_bin=None,\n",
              "             max_cat_threshold=None, max_cat_to_onehot=None,\n",
              "             max_delta_step=None, max_depth=None, max_leaves=None,\n",
              "             min_child_weight=None, missing=nan, monotone_constraints=None,\n",
              "             n_estimators=100, n_jobs=None, num_parallel_tree=None,\n",
              "             predictor=None, random_state=None, ...)</pre></div></div></div></div></div>"
            ]
          },
          "metadata": {},
          "execution_count": 108
        }
      ]
    },
    {
      "cell_type": "code",
      "source": [
        "missing_avg_weather_df = fillable_weather_df[fillable_weather_df[\"avg\"].isnull()]\n",
        "missing_avg_weather_prediction_X_df = missing_avg_weather_df.drop([\"avg\", \"code\"], axis=1)\n",
        "missing_avg_weather_prediction_X_df['year'] = missing_avg_weather_prediction_X_df['date'].dt.year\n",
        "missing_avg_weather_prediction_X_df['month'] = missing_avg_weather_prediction_X_df['date'].dt.month\n",
        "missing_avg_weather_prediction_X_df['day'] = missing_avg_weather_prediction_X_df['date'].dt.day\n",
        "missing_avg_weather_prediction_X_df = missing_avg_weather_prediction_X_df.drop(\"date\", axis=1)\n",
        "\n",
        "missing_avg_weather_prediction_y_df = model.predict(missing_avg_weather_prediction_X_df)\n",
        "missing_avg_weather_df[\"avg\"] = missing_avg_weather_prediction_y_df"
      ],
      "metadata": {
        "colab": {
          "base_uri": "https://localhost:8080/"
        },
        "id": "P6_m4l24P7Fs",
        "outputId": "884f2856-ded7-40bc-d7c5-878c8f81cfab"
      },
      "execution_count": 110,
      "outputs": [
        {
          "output_type": "stream",
          "name": "stderr",
          "text": [
            "<ipython-input-110-a38116bb8b4f>:9: SettingWithCopyWarning: \n",
            "A value is trying to be set on a copy of a slice from a DataFrame.\n",
            "Try using .loc[row_indexer,col_indexer] = value instead\n",
            "\n",
            "See the caveats in the documentation: https://pandas.pydata.org/pandas-docs/stable/user_guide/indexing.html#returning-a-view-versus-a-copy\n",
            "  missing_avg_weather_df[\"avg\"] = missing_avg_weather_prediction_y_df\n"
          ]
        }
      ]
    },
    {
      "cell_type": "code",
      "source": [
        "missing_avg_weather_df.info()"
      ],
      "metadata": {
        "colab": {
          "base_uri": "https://localhost:8080/"
        },
        "id": "UjQnt97lXxpJ",
        "outputId": "ec7416d1-79a7-4548-8fbc-94fba86e1b39"
      },
      "execution_count": 111,
      "outputs": [
        {
          "output_type": "stream",
          "name": "stdout",
          "text": [
            "<class 'pandas.core.frame.DataFrame'>\n",
            "Int64Index: 85387 entries, 0 to 33373\n",
            "Data columns (total 8 columns):\n",
            " #   Column  Non-Null Count  Dtype         \n",
            "---  ------  --------------  -----         \n",
            " 0   date    85387 non-null  datetime64[ns]\n",
            " 1   avg     85387 non-null  float32       \n",
            " 2   min     85387 non-null  float64       \n",
            " 3   max     85387 non-null  float64       \n",
            " 4   rain    85387 non-null  float64       \n",
            " 5   code    85387 non-null  object        \n",
            " 6   lat     85387 non-null  float64       \n",
            " 7   lon     85387 non-null  float64       \n",
            "dtypes: datetime64[ns](1), float32(1), float64(5), object(1)\n",
            "memory usage: 5.5+ MB\n"
          ]
        }
      ]
    },
    {
      "cell_type": "code",
      "source": [
        "weather_df = pd.concat([missing_avg_weather_df, no_missing_weather_df], axis=0)\n",
        "weather_df = weather_df.drop(\"code\", axis=1)\n",
        "weather_df.info()"
      ],
      "metadata": {
        "colab": {
          "base_uri": "https://localhost:8080/"
        },
        "id": "lkk1w2A7Vzdp",
        "outputId": "4a7398a3-e102-44ab-8152-b6acf2ea0be5"
      },
      "execution_count": 113,
      "outputs": [
        {
          "output_type": "stream",
          "name": "stdout",
          "text": [
            "<class 'pandas.core.frame.DataFrame'>\n",
            "Int64Index: 602679 entries, 0 to 53\n",
            "Data columns (total 7 columns):\n",
            " #   Column  Non-Null Count   Dtype         \n",
            "---  ------  --------------   -----         \n",
            " 0   date    602679 non-null  datetime64[ns]\n",
            " 1   avg     602679 non-null  float64       \n",
            " 2   min     602679 non-null  float64       \n",
            " 3   max     602679 non-null  float64       \n",
            " 4   rain    602679 non-null  float64       \n",
            " 5   lat     602679 non-null  float64       \n",
            " 6   lon     602679 non-null  float64       \n",
            "dtypes: datetime64[ns](1), float64(6)\n",
            "memory usage: 36.8 MB\n"
          ]
        }
      ]
    },
    {
      "cell_type": "markdown",
      "source": [
        "# Prepare crop data"
      ],
      "metadata": {
        "id": "oTL5KERJY8Ls"
      }
    },
    {
      "cell_type": "code",
      "source": [
        "county_agr_prod_df.info()"
      ],
      "metadata": {
        "colab": {
          "base_uri": "https://localhost:8080/"
        },
        "id": "GyM5JdLCxfHC",
        "outputId": "6baafaab-9e9f-4137-f848-ca54bef9b083"
      },
      "execution_count": 191,
      "outputs": [
        {
          "output_type": "stream",
          "name": "stdout",
          "text": [
            "<class 'pandas.core.frame.DataFrame'>\n",
            "Int64Index: 52587 entries, 0 to 56267\n",
            "Data columns (total 7 columns):\n",
            " #   Column                        Non-Null Count  Dtype  \n",
            "---  ------                        --------------  -----  \n",
            " 0   Year                          52587 non-null  int64  \n",
            " 1   County                        52587 non-null  object \n",
            " 2   Commodity                     52587 non-null  object \n",
            " 3   Crop                          52587 non-null  object \n",
            " 4   ACRES HARVESTED               52585 non-null  float64\n",
            " 5   PRODUCTION, MEASURED IN BU    22806 non-null  float64\n",
            " 6   YIELD, MEASURED IN BU / ACRE  33232 non-null  float64\n",
            "dtypes: float64(3), int64(1), object(3)\n",
            "memory usage: 3.2+ MB\n"
          ]
        }
      ]
    },
    {
      "cell_type": "code",
      "source": [
        "county_agr_prod_df = county_agr_prod_df.rename(\n",
        "    columns={'ACRES HARVESTED': 'acres', \n",
        "             'PRODUCTION, MEASURED IN BU': 'production', \n",
        "             'YIELD, MEASURED IN BU / ACRE': 'yield'})\n",
        "county_agr_prod_df['acres'] = pd.to_numeric(county_agr_prod_df['acres'].astype(str).str.replace(',', '.'), errors='coerce')\n",
        "county_agr_prod_df['production'] = pd.to_numeric(county_agr_prod_df['production'].astype(str).str.replace(',', '.'), errors='coerce')\n",
        "county_agr_prod_df['yield'] = pd.to_numeric(county_agr_prod_df['yield'].astype(str).str.replace(',', '.'), errors='coerce')\n",
        "county_agr_prod_df = county_agr_prod_df[county_agr_prod_df['acres'].notnull() | county_agr_prod_df['production'].notnull() | county_agr_prod_df['yield'].notnull()]\n",
        "\n",
        "corn_df = county_agr_prod_df[county_agr_prod_df[\"Crop\"] == \"CORN, GRAIN\"] #| county_agr_prod_df[\"Crop\"] == \"CORN, SILAGE\"]\n",
        "oat_df = county_agr_prod_df[county_agr_prod_df[\"Crop\"] == \"OATS\"]\n",
        "soybean_df = county_agr_prod_df[county_agr_prod_df[\"Crop\"] == \"SOYBEANS\"]"
      ],
      "metadata": {
        "id": "b5jds8rVuQh0"
      },
      "execution_count": 212,
      "outputs": []
    },
    {
      "cell_type": "code",
      "source": [
        "np.unique(county_agr_prod_df['Crop'])"
      ],
      "metadata": {
        "colab": {
          "base_uri": "https://localhost:8080/"
        },
        "id": "EuBAQY7eAqyq",
        "outputId": "84bac387-47aa-4bc1-b135-96ad7aa5131c"
      },
      "execution_count": 184,
      "outputs": [
        {
          "output_type": "execute_result",
          "data": {
            "text/plain": [
              "array(['BARLEY', 'BEANS, DRY EDIBLE, INCL CHICKPEAS', 'CANOLA',\n",
              "       'CORN, GRAIN', 'CORN, SILAGE', 'FLAXSEED', 'HAY',\n",
              "       'HAY, (EXCL ALFALFA)', 'HAY, ALFALFA', 'OATS', 'RYE', 'SOYBEANS',\n",
              "       'SUGARBEETS', 'SUNFLOWER', 'SUNFLOWER, NON', 'SUNFLOWER, OIL TYPE',\n",
              "       'WHEAT', 'WHEAT, SPRING, (EXCL DURUM)', 'WHEAT, SPRING, DURUM',\n",
              "       'WHEAT, WINTER'], dtype=object)"
            ]
          },
          "metadata": {},
          "execution_count": 184
        }
      ]
    },
    {
      "cell_type": "code",
      "source": [
        "corn_df[corn_df['acres'].isna()]"
      ],
      "metadata": {
        "colab": {
          "base_uri": "https://localhost:8080/",
          "height": 81
        },
        "id": "EG31fJ1nB14k",
        "outputId": "e9933501-9f57-4522-e4c3-6f626c3490fe"
      },
      "execution_count": 213,
      "outputs": [
        {
          "output_type": "execute_result",
          "data": {
            "text/plain": [
              "       Year                     County Commodity         Crop  acres  \\\n",
              "48206  2005  OTHER (COMBINED) COUNTIES      CORN  CORN, GRAIN    NaN   \n",
              "\n",
              "       production  yield  \n",
              "48206         NaN    0.0  "
            ],
            "text/html": [
              "\n",
              "  <div id=\"df-5364beb4-0242-47aa-a43b-ce9ed7a10ba9\">\n",
              "    <div class=\"colab-df-container\">\n",
              "      <div>\n",
              "<style scoped>\n",
              "    .dataframe tbody tr th:only-of-type {\n",
              "        vertical-align: middle;\n",
              "    }\n",
              "\n",
              "    .dataframe tbody tr th {\n",
              "        vertical-align: top;\n",
              "    }\n",
              "\n",
              "    .dataframe thead th {\n",
              "        text-align: right;\n",
              "    }\n",
              "</style>\n",
              "<table border=\"1\" class=\"dataframe\">\n",
              "  <thead>\n",
              "    <tr style=\"text-align: right;\">\n",
              "      <th></th>\n",
              "      <th>Year</th>\n",
              "      <th>County</th>\n",
              "      <th>Commodity</th>\n",
              "      <th>Crop</th>\n",
              "      <th>acres</th>\n",
              "      <th>production</th>\n",
              "      <th>yield</th>\n",
              "    </tr>\n",
              "  </thead>\n",
              "  <tbody>\n",
              "    <tr>\n",
              "      <th>48206</th>\n",
              "      <td>2005</td>\n",
              "      <td>OTHER (COMBINED) COUNTIES</td>\n",
              "      <td>CORN</td>\n",
              "      <td>CORN, GRAIN</td>\n",
              "      <td>NaN</td>\n",
              "      <td>NaN</td>\n",
              "      <td>0.0</td>\n",
              "    </tr>\n",
              "  </tbody>\n",
              "</table>\n",
              "</div>\n",
              "      <button class=\"colab-df-convert\" onclick=\"convertToInteractive('df-5364beb4-0242-47aa-a43b-ce9ed7a10ba9')\"\n",
              "              title=\"Convert this dataframe to an interactive table.\"\n",
              "              style=\"display:none;\">\n",
              "        \n",
              "  <svg xmlns=\"http://www.w3.org/2000/svg\" height=\"24px\"viewBox=\"0 0 24 24\"\n",
              "       width=\"24px\">\n",
              "    <path d=\"M0 0h24v24H0V0z\" fill=\"none\"/>\n",
              "    <path d=\"M18.56 5.44l.94 2.06.94-2.06 2.06-.94-2.06-.94-.94-2.06-.94 2.06-2.06.94zm-11 1L8.5 8.5l.94-2.06 2.06-.94-2.06-.94L8.5 2.5l-.94 2.06-2.06.94zm10 10l.94 2.06.94-2.06 2.06-.94-2.06-.94-.94-2.06-.94 2.06-2.06.94z\"/><path d=\"M17.41 7.96l-1.37-1.37c-.4-.4-.92-.59-1.43-.59-.52 0-1.04.2-1.43.59L10.3 9.45l-7.72 7.72c-.78.78-.78 2.05 0 2.83L4 21.41c.39.39.9.59 1.41.59.51 0 1.02-.2 1.41-.59l7.78-7.78 2.81-2.81c.8-.78.8-2.07 0-2.86zM5.41 20L4 18.59l7.72-7.72 1.47 1.35L5.41 20z\"/>\n",
              "  </svg>\n",
              "      </button>\n",
              "      \n",
              "  <style>\n",
              "    .colab-df-container {\n",
              "      display:flex;\n",
              "      flex-wrap:wrap;\n",
              "      gap: 12px;\n",
              "    }\n",
              "\n",
              "    .colab-df-convert {\n",
              "      background-color: #E8F0FE;\n",
              "      border: none;\n",
              "      border-radius: 50%;\n",
              "      cursor: pointer;\n",
              "      display: none;\n",
              "      fill: #1967D2;\n",
              "      height: 32px;\n",
              "      padding: 0 0 0 0;\n",
              "      width: 32px;\n",
              "    }\n",
              "\n",
              "    .colab-df-convert:hover {\n",
              "      background-color: #E2EBFA;\n",
              "      box-shadow: 0px 1px 2px rgba(60, 64, 67, 0.3), 0px 1px 3px 1px rgba(60, 64, 67, 0.15);\n",
              "      fill: #174EA6;\n",
              "    }\n",
              "\n",
              "    [theme=dark] .colab-df-convert {\n",
              "      background-color: #3B4455;\n",
              "      fill: #D2E3FC;\n",
              "    }\n",
              "\n",
              "    [theme=dark] .colab-df-convert:hover {\n",
              "      background-color: #434B5C;\n",
              "      box-shadow: 0px 1px 3px 1px rgba(0, 0, 0, 0.15);\n",
              "      filter: drop-shadow(0px 1px 2px rgba(0, 0, 0, 0.3));\n",
              "      fill: #FFFFFF;\n",
              "    }\n",
              "  </style>\n",
              "\n",
              "      <script>\n",
              "        const buttonEl =\n",
              "          document.querySelector('#df-5364beb4-0242-47aa-a43b-ce9ed7a10ba9 button.colab-df-convert');\n",
              "        buttonEl.style.display =\n",
              "          google.colab.kernel.accessAllowed ? 'block' : 'none';\n",
              "\n",
              "        async function convertToInteractive(key) {\n",
              "          const element = document.querySelector('#df-5364beb4-0242-47aa-a43b-ce9ed7a10ba9');\n",
              "          const dataTable =\n",
              "            await google.colab.kernel.invokeFunction('convertToInteractive',\n",
              "                                                     [key], {});\n",
              "          if (!dataTable) return;\n",
              "\n",
              "          const docLinkHtml = 'Like what you see? Visit the ' +\n",
              "            '<a target=\"_blank\" href=https://colab.research.google.com/notebooks/data_table.ipynb>data table notebook</a>'\n",
              "            + ' to learn more about interactive tables.';\n",
              "          element.innerHTML = '';\n",
              "          dataTable['output_type'] = 'display_data';\n",
              "          await google.colab.output.renderOutput(dataTable, element);\n",
              "          const docLink = document.createElement('div');\n",
              "          docLink.innerHTML = docLinkHtml;\n",
              "          element.appendChild(docLink);\n",
              "        }\n",
              "      </script>\n",
              "    </div>\n",
              "  </div>\n",
              "  "
            ]
          },
          "metadata": {},
          "execution_count": 213
        }
      ]
    },
    {
      "cell_type": "code",
      "source": [
        "import matplotlib.pyplot as plt\n",
        "import seaborn as sns\n",
        "\n",
        "plot = corn_df\n",
        "\n",
        "plot = plot[plot['acres'].notnull() & plot['production'].notnull() & plot['yield'].notnull()]\n",
        "numeric_columns = plot.select_dtypes(include=['int64', 'float64']).columns\n",
        "\n",
        "cm = np.corrcoef(plot[numeric_columns].values.T)\n",
        "fig = plt.gcf()\n",
        "fig.set_size_inches(8, 5)\n",
        "hm = sns.heatmap(cm, cbar=True, annot=True, square=True, fmt='.2f', annot_kws={'size': 10}, yticklabels=numeric_columns.values, xticklabels=numeric_columns.values)"
      ],
      "metadata": {
        "colab": {
          "base_uri": "https://localhost:8080/",
          "height": 324
        },
        "id": "9utKbQqPsgCP",
        "outputId": "7966e8ae-e152-45a1-ca42-b9a7adb097a8"
      },
      "execution_count": 214,
      "outputs": [
        {
          "output_type": "display_data",
          "data": {
            "text/plain": [
              "<Figure size 576x360 with 2 Axes>"
            ],
            "image/png": "[encoded data removed]"
          },
          "metadata": {
            "needs_background": "light"
          }
        }
      ]
    },
    {
      "cell_type": "code",
      "source": [
        "plt.scatter(county_agr_prod_df['acres'], county_agr_prod_df['production'])\n",
        "plt.show()"
      ],
      "metadata": {
        "colab": {
          "base_uri": "https://localhost:8080/",
          "height": 265
        },
        "id": "T4qXavth9uZN",
        "outputId": "62832380-606b-4c75-f870-8ac6a7aa79ba"
      },
      "execution_count": 215,
      "outputs": [
        {
          "output_type": "display_data",
          "data": {
            "text/plain": [
              "<Figure size 432x288 with 1 Axes>"
            ],
            "image/png": "[encoded data removed]"
          },
          "metadata": {
            "needs_background": "light"
          }
        }
      ]
    },
    {
      "cell_type": "code",
      "source": [
        "plt.scatter(county_agr_prod_df['acres'], county_agr_prod_df['yield'])\n",
        "plt.show()"
      ],
      "metadata": {
        "colab": {
          "base_uri": "https://localhost:8080/",
          "height": 265
        },
        "id": "Coq4L50U-aSJ",
        "outputId": "68747f07-4647-4dce-a6ca-fb937e4d99ed"
      },
      "execution_count": 216,
      "outputs": [
        {
          "output_type": "display_data",
          "data": {
            "text/plain": [
              "<Figure size 432x288 with 1 Axes>"
            ],
            "image/png": "[encoded data removed]"
          },
          "metadata": {
            "needs_background": "light"
          }
        }
      ]
    },
    {
      "cell_type": "code",
      "source": [
        "# input: 1881-2022...2022 napi időjárás adatok\n",
        "# output: 2006-2022...2022 éves crop yield\n",
        "\n",
        "# - az adott év adatai a bemenet, a dátummal együtt (~5000 example)\n",
        "# - sorozatos rendszer egészen az elejétől - túl nagy az intevallumok szórása (?)\n",
        "# - sorozatos rendszer az előző párról - lehet megéri, de valszeg nem\n",
        "\n",
        "# mindenképp össze kéne vonni a napokat hetekké vagy hónapokká\n",
        "# utána kéne nézni ennek hogyan van értelme\n",
        "# mit kezdünk OTHER (COMBINED) COUNTIES-al\n",
        "# hogyan kötjük össze az időjárást a crop-al"
      ],
      "metadata": {
        "id": "lHRJuWdrVf3h"
      },
      "execution_count": null,
      "outputs": []
    }
  ]
}