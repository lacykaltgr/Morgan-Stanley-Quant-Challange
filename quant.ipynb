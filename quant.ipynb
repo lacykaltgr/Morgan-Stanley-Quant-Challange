{
  "nbformat": 4,
  "nbformat_minor": 0,
  "metadata": {
    "colab": {
      "provenance": [],
      "include_colab_link": true
    },
    "kernelspec": {
      "name": "python3",
      "display_name": "Python 3"
    },
    "language_info": {
      "name": "python"
    }
  },
  "cells": [
    {
      "cell_type": "markdown",
      "metadata": {
        "id": "view-in-github",
        "colab_type": "text"
      },
      "source": [
        "<a href=\"https://colab.research.google.com/github/lacykaltgr/quant/blob/main/quant.ipynb\" target=\"_parent\"><img src=\"https://colab.research.google.com/assets/colab-badge.svg\" alt=\"Open In Colab\"/></a>"
      ]
    },
    {
      "cell_type": "code",
      "execution_count": 1,
      "metadata": {
        "colab": {
          "base_uri": "https://localhost:8080/"
        },
        "id": "fxqi0jj6r1x0",
        "outputId": "56d8ab6b-3124-45d0-baad-dc184de688d1"
      },
      "outputs": [
        {
          "output_type": "stream",
          "name": "stdout",
          "text": [
            "Mounted at /content/drive\n"
          ]
        }
      ],
      "source": [
        "from google.colab import drive\n",
        "drive.mount('/content/drive')"
      ]
    },
    {
      "cell_type": "markdown",
      "source": [
        "# Setup"
      ],
      "metadata": {
        "id": "o42LfRisTqTI"
      }
    },
    {
      "cell_type": "code",
      "source": [
        "import pandas as pd\n",
        "import numpy as np"
      ],
      "metadata": {
        "id": "gYfYs6LWs_qY"
      },
      "execution_count": 2,
      "outputs": []
    },
    {
      "cell_type": "code",
      "source": [
        "quant_folder_location = \"/content/drive/MyDrive/quant\"\n",
        "weather_prepared_file_path = quant_folder_location + \"/weather_df.csv\"\n",
        "county_location_file_path = quant_folder_location + \"/agri/minnesota_county_location.csv\"\n",
        "county_agr_prod_file_path = quant_folder_location + \"/agri/minnesota_county_yearly_agricultural_production.csv\"\n",
        "station_location_file_path = quant_folder_location + \"/weather/minnesota_station_location.csv\"\n",
        "\n",
        "def station_weather_fp(station_name):\n",
        "  return quant_folder_location + \"/weather/minnesota_daily/\" + str(station_name) + \".csv\""
      ],
      "metadata": {
        "id": "HlpjPkaztxe8"
      },
      "execution_count": 3,
      "outputs": []
    },
    {
      "cell_type": "markdown",
      "source": [
        "# Prepare weather data\n"
      ],
      "metadata": {
        "id": "8JmR0-bWTceU"
      }
    },
    {
      "cell_type": "code",
      "source": [
        "#átugrási lehetőség\n",
        "weather_df = pd.read_csv(weather_prepared_file_path)"
      ],
      "metadata": {
        "id": "hpg84zW0NMyB",
        "colab": {
          "base_uri": "https://localhost:8080/"
        },
        "outputId": "ba3e8cfc-f8b5-4f8e-8156-5af1e7d1d2dd"
      },
      "execution_count": 5,
      "outputs": [
        {
          "output_type": "stream",
          "name": "stderr",
          "text": [
            "<ipython-input-5-b90705cc2f0b>:2: DtypeWarning: Columns (6) have mixed types. Specify dtype option on import or set low_memory=False.\n",
            "  weather_df = pd.read_csv(weather_prepared_file_path)\n"
          ]
        }
      ]
    },
    {
      "cell_type": "code",
      "source": [
        "weather_df.info()"
      ],
      "metadata": {
        "id": "JA4tCn9KrsN2",
        "outputId": "5c32ea6a-b768-4095-d246-032ffdce2fc1",
        "colab": {
          "base_uri": "https://localhost:8080/"
        }
      },
      "execution_count": 7,
      "outputs": [
        {
          "output_type": "stream",
          "name": "stdout",
          "text": [
            "<class 'pandas.core.frame.DataFrame'>\n",
            "RangeIndex: 603227 entries, 0 to 603226\n",
            "Data columns (total 9 columns):\n",
            " #   Column      Non-Null Count   Dtype  \n",
            "---  ------      --------------   -----  \n",
            " 0   Unnamed: 0  603227 non-null  int64  \n",
            " 1   date        603227 non-null  object \n",
            " 2   avg         603227 non-null  float64\n",
            " 3   min         603227 non-null  float64\n",
            " 4   max         603227 non-null  float64\n",
            " 5   rain        603227 non-null  float64\n",
            " 6   code        603227 non-null  object \n",
            " 7   lat         603227 non-null  float64\n",
            " 8   lon         603227 non-null  float64\n",
            "dtypes: float64(6), int64(1), object(2)\n",
            "memory usage: 41.4+ MB\n"
          ]
        }
      ]
    },
    {
      "cell_type": "code",
      "source": [
        "station_location_df = pd.read_csv(station_location_file_path)\n",
        "station_weather_df_list = []\n",
        "station_codes = np.unique(station_location_df.Code)\n",
        "for code in station_codes:\n",
        "  try:\n",
        "      station_df = pd.read_csv(station_weather_fp(code), header=None, index_col=False, names=[\"date\", \"avg\", \"min\", \"max\", \"rain\"])\n",
        "      station_weather_df_list.append(station_df)\n",
        "  except:\n",
        "      station_codes.remove(code)\n",
        "      print(f\"Hibás/üres fájl: {code}\")"
      ],
      "metadata": {
        "id": "s3DPxLZjtsAV"
      },
      "execution_count": 10,
      "outputs": []
    },
    {
      "cell_type": "code",
      "source": [
        "from dateutil.relativedelta import relativedelta\n",
        "import math\n",
        "\n",
        "for station in station_weather_df_list:\n",
        "  station[\"date\"] = pd.to_datetime(station[\"date\"])\n",
        "  station[\"min\"] = station[\"min\"].interpolate(method=\"linear\", limit=21)\n",
        "  station[\"max\"] = station[\"max\"].interpolate(method=\"linear\", limit=21)\n",
        "  for index, record in station.iterrows():\n",
        "    if math.isnan(record[\"min\"]):\n",
        "      for i in range(index, index+15*365+1, 365):\n",
        "        if not math.isnan(station.iloc[i+365][\"min\"]):\n",
        "          station.loc[index, \"min\"] = station.iloc[i+365][\"min\"]\n",
        "          break\n",
        "        else: \n",
        "          if not math.isnan(station.iloc[i-365][\"min\"]):\n",
        "            station.loc[index, \"min\"] = station.iloc[i-365][\"min\"]\n",
        "            break\n",
        "    if math.isnan(record[\"max\"]):\n",
        "      for i in range(index, index+15*365+1, 365):\n",
        "        if not math.isnan(station.iloc[i+365][\"max\"]):\n",
        "          station.loc[index, \"max\"] = station.iloc[i+365][\"max\"]\n",
        "          break\n",
        "        else:\n",
        "          if not math.isnan(station.iloc[i-365][\"max\"]):\n",
        "            station.loc[index, \"max\"] = station.iloc[i-365][\"max\"]\n",
        "            break\n",
        "    if math.isnan(record[\"rain\"]):\n",
        "      i = index+365\n",
        "      while i < len(station):\n",
        "        if not math.isnan(station.iloc[i][\"rain\"]):\n",
        "          station.loc[index, \"rain\"] = station.iloc[i][\"rain\"]\n",
        "          break\n",
        "        i += 365"
      ],
      "metadata": {
        "id": "4idZtw-e6MUL",
        "outputId": "13201d26-1d11-46b6-c907-a5b0aa17218a",
        "colab": {
          "base_uri": "https://localhost:8080/",
          "height": 389
        }
      },
      "execution_count": 16,
      "outputs": [
        {
          "output_type": "error",
          "ename": "KeyboardInterrupt",
          "evalue": "ignored",
          "traceback": [
            "\u001b[0;31m---------------------------------------------------------------------------\u001b[0m",
            "\u001b[0;31mKeyboardInterrupt\u001b[0m                         Traceback (most recent call last)",
            "\u001b[0;32m<ipython-input-16-850f41636fbd>\u001b[0m in \u001b[0;36m<module>\u001b[0;34m\u001b[0m\n\u001b[1;32m     29\u001b[0m       \u001b[0;32mwhile\u001b[0m \u001b[0mi\u001b[0m \u001b[0;34m<\u001b[0m \u001b[0mlen\u001b[0m\u001b[0;34m(\u001b[0m\u001b[0mstation\u001b[0m\u001b[0;34m)\u001b[0m\u001b[0;34m:\u001b[0m\u001b[0;34m\u001b[0m\u001b[0;34m\u001b[0m\u001b[0m\n\u001b[1;32m     30\u001b[0m         \u001b[0;32mif\u001b[0m \u001b[0;32mnot\u001b[0m \u001b[0mmath\u001b[0m\u001b[0;34m.\u001b[0m\u001b[0misnan\u001b[0m\u001b[0;34m(\u001b[0m\u001b[0mstation\u001b[0m\u001b[0;34m.\u001b[0m\u001b[0miloc\u001b[0m\u001b[0;34m[\u001b[0m\u001b[0mi\u001b[0m\u001b[0;34m]\u001b[0m\u001b[0;34m[\u001b[0m\u001b[0;34m\"rain\"\u001b[0m\u001b[0;34m]\u001b[0m\u001b[0;34m)\u001b[0m\u001b[0;34m:\u001b[0m\u001b[0;34m\u001b[0m\u001b[0;34m\u001b[0m\u001b[0m\n\u001b[0;32m---> 31\u001b[0;31m           \u001b[0mstation\u001b[0m\u001b[0;34m.\u001b[0m\u001b[0mloc\u001b[0m\u001b[0;34m[\u001b[0m\u001b[0mindex\u001b[0m\u001b[0;34m,\u001b[0m \u001b[0;34m\"rain\"\u001b[0m\u001b[0;34m]\u001b[0m \u001b[0;34m=\u001b[0m \u001b[0mstation\u001b[0m\u001b[0;34m.\u001b[0m\u001b[0miloc\u001b[0m\u001b[0;34m[\u001b[0m\u001b[0mi\u001b[0m\u001b[0;34m]\u001b[0m\u001b[0;34m[\u001b[0m\u001b[0;34m\"rain\"\u001b[0m\u001b[0;34m]\u001b[0m\u001b[0;34m\u001b[0m\u001b[0;34m\u001b[0m\u001b[0m\n\u001b[0m\u001b[1;32m     32\u001b[0m           \u001b[0;32mbreak\u001b[0m\u001b[0;34m\u001b[0m\u001b[0;34m\u001b[0m\u001b[0m\n\u001b[1;32m     33\u001b[0m         \u001b[0mi\u001b[0m \u001b[0;34m+=\u001b[0m \u001b[0;36m365\u001b[0m\u001b[0;34m\u001b[0m\u001b[0;34m\u001b[0m\u001b[0m\n",
            "\u001b[0;32m/usr/local/lib/python3.9/dist-packages/pandas/core/indexing.py\u001b[0m in \u001b[0;36m__setitem__\u001b[0;34m(self, key, value)\u001b[0m\n\u001b[1;32m    714\u001b[0m \u001b[0;34m\u001b[0m\u001b[0m\n\u001b[1;32m    715\u001b[0m         \u001b[0miloc\u001b[0m \u001b[0;34m=\u001b[0m \u001b[0mself\u001b[0m \u001b[0;32mif\u001b[0m \u001b[0mself\u001b[0m\u001b[0;34m.\u001b[0m\u001b[0mname\u001b[0m \u001b[0;34m==\u001b[0m \u001b[0;34m\"iloc\"\u001b[0m \u001b[0;32melse\u001b[0m \u001b[0mself\u001b[0m\u001b[0;34m.\u001b[0m\u001b[0mobj\u001b[0m\u001b[0;34m.\u001b[0m\u001b[0miloc\u001b[0m\u001b[0;34m\u001b[0m\u001b[0;34m\u001b[0m\u001b[0m\n\u001b[0;32m--> 716\u001b[0;31m         \u001b[0miloc\u001b[0m\u001b[0;34m.\u001b[0m\u001b[0m_setitem_with_indexer\u001b[0m\u001b[0;34m(\u001b[0m\u001b[0mindexer\u001b[0m\u001b[0;34m,\u001b[0m \u001b[0mvalue\u001b[0m\u001b[0;34m,\u001b[0m \u001b[0mself\u001b[0m\u001b[0;34m.\u001b[0m\u001b[0mname\u001b[0m\u001b[0;34m)\u001b[0m\u001b[0;34m\u001b[0m\u001b[0;34m\u001b[0m\u001b[0m\n\u001b[0m\u001b[1;32m    717\u001b[0m \u001b[0;34m\u001b[0m\u001b[0m\n\u001b[1;32m    718\u001b[0m     \u001b[0;32mdef\u001b[0m \u001b[0m_validate_key\u001b[0m\u001b[0;34m(\u001b[0m\u001b[0mself\u001b[0m\u001b[0;34m,\u001b[0m \u001b[0mkey\u001b[0m\u001b[0;34m,\u001b[0m \u001b[0maxis\u001b[0m\u001b[0;34m:\u001b[0m \u001b[0mint\u001b[0m\u001b[0;34m)\u001b[0m\u001b[0;34m:\u001b[0m\u001b[0;34m\u001b[0m\u001b[0;34m\u001b[0m\u001b[0m\n",
            "\u001b[0;32m/usr/local/lib/python3.9/dist-packages/pandas/core/indexing.py\u001b[0m in \u001b[0;36m_setitem_with_indexer\u001b[0;34m(self, indexer, value, name)\u001b[0m\n\u001b[1;32m   1689\u001b[0m         \u001b[0;32mif\u001b[0m \u001b[0mtake_split_path\u001b[0m\u001b[0;34m:\u001b[0m\u001b[0;34m\u001b[0m\u001b[0;34m\u001b[0m\u001b[0m\n\u001b[1;32m   1690\u001b[0m             \u001b[0;31m# We have to operate column-wise\u001b[0m\u001b[0;34m\u001b[0m\u001b[0;34m\u001b[0m\u001b[0m\n\u001b[0;32m-> 1691\u001b[0;31m             \u001b[0mself\u001b[0m\u001b[0;34m.\u001b[0m\u001b[0m_setitem_with_indexer_split_path\u001b[0m\u001b[0;34m(\u001b[0m\u001b[0mindexer\u001b[0m\u001b[0;34m,\u001b[0m \u001b[0mvalue\u001b[0m\u001b[0;34m,\u001b[0m \u001b[0mname\u001b[0m\u001b[0;34m)\u001b[0m\u001b[0;34m\u001b[0m\u001b[0;34m\u001b[0m\u001b[0m\n\u001b[0m\u001b[1;32m   1692\u001b[0m         \u001b[0;32melse\u001b[0m\u001b[0;34m:\u001b[0m\u001b[0;34m\u001b[0m\u001b[0;34m\u001b[0m\u001b[0m\n\u001b[1;32m   1693\u001b[0m             \u001b[0mself\u001b[0m\u001b[0;34m.\u001b[0m\u001b[0m_setitem_single_block\u001b[0m\u001b[0;34m(\u001b[0m\u001b[0mindexer\u001b[0m\u001b[0;34m,\u001b[0m \u001b[0mvalue\u001b[0m\u001b[0;34m,\u001b[0m \u001b[0mname\u001b[0m\u001b[0;34m)\u001b[0m\u001b[0;34m\u001b[0m\u001b[0;34m\u001b[0m\u001b[0m\n",
            "\u001b[0;32m/usr/local/lib/python3.9/dist-packages/pandas/core/indexing.py\u001b[0m in \u001b[0;36m_setitem_with_indexer_split_path\u001b[0;34m(self, indexer, value, name)\u001b[0m\n\u001b[1;32m   1782\u001b[0m             \u001b[0;31m# scalar value\u001b[0m\u001b[0;34m\u001b[0m\u001b[0;34m\u001b[0m\u001b[0m\n\u001b[1;32m   1783\u001b[0m             \u001b[0;32mfor\u001b[0m \u001b[0mloc\u001b[0m \u001b[0;32min\u001b[0m \u001b[0milocs\u001b[0m\u001b[0;34m:\u001b[0m\u001b[0;34m\u001b[0m\u001b[0;34m\u001b[0m\u001b[0m\n\u001b[0;32m-> 1784\u001b[0;31m                 \u001b[0mself\u001b[0m\u001b[0;34m.\u001b[0m\u001b[0m_setitem_single_column\u001b[0m\u001b[0;34m(\u001b[0m\u001b[0mloc\u001b[0m\u001b[0;34m,\u001b[0m \u001b[0mvalue\u001b[0m\u001b[0;34m,\u001b[0m \u001b[0mpi\u001b[0m\u001b[0;34m)\u001b[0m\u001b[0;34m\u001b[0m\u001b[0;34m\u001b[0m\u001b[0m\n\u001b[0m\u001b[1;32m   1785\u001b[0m \u001b[0;34m\u001b[0m\u001b[0m\n\u001b[1;32m   1786\u001b[0m     \u001b[0;32mdef\u001b[0m \u001b[0m_setitem_with_indexer_2d_value\u001b[0m\u001b[0;34m(\u001b[0m\u001b[0mself\u001b[0m\u001b[0;34m,\u001b[0m \u001b[0mindexer\u001b[0m\u001b[0;34m,\u001b[0m \u001b[0mvalue\u001b[0m\u001b[0;34m)\u001b[0m\u001b[0;34m:\u001b[0m\u001b[0;34m\u001b[0m\u001b[0;34m\u001b[0m\u001b[0m\n",
            "\u001b[0;32m/usr/local/lib/python3.9/dist-packages/pandas/core/indexing.py\u001b[0m in \u001b[0;36m_setitem_single_column\u001b[0;34m(self, loc, value, plane_indexer)\u001b[0m\n\u001b[1;32m   1863\u001b[0m         \u001b[0mpi\u001b[0m \u001b[0;34m=\u001b[0m \u001b[0mplane_indexer\u001b[0m\u001b[0;34m\u001b[0m\u001b[0;34m\u001b[0m\u001b[0m\n\u001b[1;32m   1864\u001b[0m \u001b[0;34m\u001b[0m\u001b[0m\n\u001b[0;32m-> 1865\u001b[0;31m         \u001b[0mser\u001b[0m \u001b[0;34m=\u001b[0m \u001b[0mself\u001b[0m\u001b[0;34m.\u001b[0m\u001b[0mobj\u001b[0m\u001b[0;34m.\u001b[0m\u001b[0m_ixs\u001b[0m\u001b[0;34m(\u001b[0m\u001b[0mloc\u001b[0m\u001b[0;34m,\u001b[0m \u001b[0maxis\u001b[0m\u001b[0;34m=\u001b[0m\u001b[0;36m1\u001b[0m\u001b[0;34m)\u001b[0m\u001b[0;34m\u001b[0m\u001b[0;34m\u001b[0m\u001b[0m\n\u001b[0m\u001b[1;32m   1866\u001b[0m \u001b[0;34m\u001b[0m\u001b[0m\n\u001b[1;32m   1867\u001b[0m         \u001b[0;31m# perform the equivalent of a setitem on the info axis\u001b[0m\u001b[0;34m\u001b[0m\u001b[0;34m\u001b[0m\u001b[0m\n",
            "\u001b[0;32m/usr/local/lib/python3.9/dist-packages/pandas/core/frame.py\u001b[0m in \u001b[0;36m_ixs\u001b[0;34m(self, i, axis)\u001b[0m\n\u001b[1;32m   3439\u001b[0m             \u001b[0mlabel\u001b[0m \u001b[0;34m=\u001b[0m \u001b[0mself\u001b[0m\u001b[0;34m.\u001b[0m\u001b[0mcolumns\u001b[0m\u001b[0;34m[\u001b[0m\u001b[0mi\u001b[0m\u001b[0;34m]\u001b[0m\u001b[0;34m\u001b[0m\u001b[0;34m\u001b[0m\u001b[0m\n\u001b[1;32m   3440\u001b[0m \u001b[0;34m\u001b[0m\u001b[0m\n\u001b[0;32m-> 3441\u001b[0;31m             \u001b[0mcol_mgr\u001b[0m \u001b[0;34m=\u001b[0m \u001b[0mself\u001b[0m\u001b[0;34m.\u001b[0m\u001b[0m_mgr\u001b[0m\u001b[0;34m.\u001b[0m\u001b[0miget\u001b[0m\u001b[0;34m(\u001b[0m\u001b[0mi\u001b[0m\u001b[0;34m)\u001b[0m\u001b[0;34m\u001b[0m\u001b[0;34m\u001b[0m\u001b[0m\n\u001b[0m\u001b[1;32m   3442\u001b[0m             \u001b[0mresult\u001b[0m \u001b[0;34m=\u001b[0m \u001b[0mself\u001b[0m\u001b[0;34m.\u001b[0m\u001b[0m_box_col_values\u001b[0m\u001b[0;34m(\u001b[0m\u001b[0mcol_mgr\u001b[0m\u001b[0;34m,\u001b[0m \u001b[0mi\u001b[0m\u001b[0;34m)\u001b[0m\u001b[0;34m\u001b[0m\u001b[0;34m\u001b[0m\u001b[0m\n\u001b[1;32m   3443\u001b[0m \u001b[0;34m\u001b[0m\u001b[0m\n",
            "\u001b[0;32m/usr/local/lib/python3.9/dist-packages/pandas/core/internals/managers.py\u001b[0m in \u001b[0;36miget\u001b[0;34m(self, i)\u001b[0m\n\u001b[1;32m   1034\u001b[0m         \u001b[0mbp\u001b[0m \u001b[0;34m=\u001b[0m \u001b[0mBlockPlacement\u001b[0m\u001b[0;34m(\u001b[0m\u001b[0mslice\u001b[0m\u001b[0;34m(\u001b[0m\u001b[0;36m0\u001b[0m\u001b[0;34m,\u001b[0m \u001b[0mlen\u001b[0m\u001b[0;34m(\u001b[0m\u001b[0mvalues\u001b[0m\u001b[0;34m)\u001b[0m\u001b[0;34m)\u001b[0m\u001b[0;34m)\u001b[0m\u001b[0;34m\u001b[0m\u001b[0;34m\u001b[0m\u001b[0m\n\u001b[1;32m   1035\u001b[0m         \u001b[0mnb\u001b[0m \u001b[0;34m=\u001b[0m \u001b[0mtype\u001b[0m\u001b[0;34m(\u001b[0m\u001b[0mblock\u001b[0m\u001b[0;34m)\u001b[0m\u001b[0;34m(\u001b[0m\u001b[0mvalues\u001b[0m\u001b[0;34m,\u001b[0m \u001b[0mplacement\u001b[0m\u001b[0;34m=\u001b[0m\u001b[0mbp\u001b[0m\u001b[0;34m,\u001b[0m \u001b[0mndim\u001b[0m\u001b[0;34m=\u001b[0m\u001b[0;36m1\u001b[0m\u001b[0;34m)\u001b[0m\u001b[0;34m\u001b[0m\u001b[0;34m\u001b[0m\u001b[0m\n\u001b[0;32m-> 1036\u001b[0;31m         \u001b[0;32mreturn\u001b[0m \u001b[0mSingleBlockManager\u001b[0m\u001b[0;34m(\u001b[0m\u001b[0mnb\u001b[0m\u001b[0;34m,\u001b[0m \u001b[0mself\u001b[0m\u001b[0;34m.\u001b[0m\u001b[0maxes\u001b[0m\u001b[0;34m[\u001b[0m\u001b[0;36m1\u001b[0m\u001b[0;34m]\u001b[0m\u001b[0;34m)\u001b[0m\u001b[0;34m\u001b[0m\u001b[0;34m\u001b[0m\u001b[0m\n\u001b[0m\u001b[1;32m   1037\u001b[0m \u001b[0;34m\u001b[0m\u001b[0m\n\u001b[1;32m   1038\u001b[0m     \u001b[0;32mdef\u001b[0m \u001b[0miget_values\u001b[0m\u001b[0;34m(\u001b[0m\u001b[0mself\u001b[0m\u001b[0;34m,\u001b[0m \u001b[0mi\u001b[0m\u001b[0;34m:\u001b[0m \u001b[0mint\u001b[0m\u001b[0;34m)\u001b[0m \u001b[0;34m->\u001b[0m \u001b[0mArrayLike\u001b[0m\u001b[0;34m:\u001b[0m\u001b[0;34m\u001b[0m\u001b[0;34m\u001b[0m\u001b[0m\n",
            "\u001b[0;32m/usr/local/lib/python3.9/dist-packages/pandas/core/internals/managers.py\u001b[0m in \u001b[0;36m__init__\u001b[0;34m(self, block, axis, verify_integrity, fastpath)\u001b[0m\n\u001b[1;32m   1723\u001b[0m         \u001b[0;31m# assert isinstance(axis, Index), type(axis)\u001b[0m\u001b[0;34m\u001b[0m\u001b[0;34m\u001b[0m\u001b[0m\n\u001b[1;32m   1724\u001b[0m \u001b[0;34m\u001b[0m\u001b[0m\n\u001b[0;32m-> 1725\u001b[0;31m         \u001b[0;32mif\u001b[0m \u001b[0mfastpath\u001b[0m \u001b[0;32mis\u001b[0m \u001b[0;32mnot\u001b[0m \u001b[0mlib\u001b[0m\u001b[0;34m.\u001b[0m\u001b[0mno_default\u001b[0m\u001b[0;34m:\u001b[0m\u001b[0;34m\u001b[0m\u001b[0;34m\u001b[0m\u001b[0m\n\u001b[0m\u001b[1;32m   1726\u001b[0m             warnings.warn(\n\u001b[1;32m   1727\u001b[0m                 \u001b[0;34m\"The `fastpath` keyword is deprecated and will be removed \"\u001b[0m\u001b[0;34m\u001b[0m\u001b[0;34m\u001b[0m\u001b[0m\n",
            "\u001b[0;31mKeyboardInterrupt\u001b[0m: "
          ]
        }
      ]
    },
    {
      "cell_type": "code",
      "source": [
        "for i, (station_data, code) in enumerate(zip(station_weather_df_list, station_codes)):\n",
        "  lat = station_location_df[station_location_df[\"Code\"] == code ].Latitude.values[0]\n",
        "  lon = station_location_df[station_location_df[\"Code\"] == code ].Longitude.values[0]\n",
        "  station_weather_df_list[i] = station_data.assign(code = code, lat = lat, lon = lon)\n",
        "\n",
        "combined_weather_df = pd.concat(station_weather_df_list, axis=0)"
      ],
      "metadata": {
        "id": "cH2IoUgn1VsJ"
      },
      "execution_count": null,
      "outputs": []
    },
    {
      "cell_type": "code",
      "source": [
        "combined_weather_df[\"rain\"] = combined_weather_df[\"rain\"].fillna(0)"
      ],
      "metadata": {
        "id": "V_CAtt_1LlTA"
      },
      "execution_count": null,
      "outputs": []
    },
    {
      "cell_type": "code",
      "source": [
        "combined_weather_df.info()"
      ],
      "metadata": {
        "id": "5jWeVdcsMQVK"
      },
      "execution_count": null,
      "outputs": []
    },
    {
      "cell_type": "code",
      "source": [
        "from sklearn.model_selection import train_test_split, cross_val_score\n",
        "from xgboost import XGBRegressor\n",
        "\n",
        "no_missing_weather_df = combined_weather_df[combined_weather_df[\"avg\"].notnull()]\n",
        "no_missing_weather_train_df = no_missing_weather_df.drop([\"code\", \"rain\"], axis=1)\n",
        "no_missing_weather_train_df['year'] = no_missing_weather_train_df['date'].dt.year\n",
        "no_missing_weather_train_df['month'] = no_missing_weather_train_df['date'].dt.month\n",
        "no_missing_weather_train_df['day'] = no_missing_weather_train_df['date'].dt.day\n",
        "no_missing_weather_train_df = no_missing_weather_train_df.drop(\"date\", axis=1)\n",
        "\n",
        "X_fill_avg = no_missing_weather_train_df.drop(\"avg\", axis=1)\n",
        "y_fill_avg = no_missing_weather_train_df[\"avg\"]\n",
        "X_avg_train, X_avg_test, y_avg_train, y_avg_test = train_test_split(X_fill_avg, y_fill_avg, test_size=0.1)\n",
        "evaluation = [(X_avg_train, y_avg_train), (X_avg_test, y_avg_test)]\n",
        "\n",
        "model = XGBRegressor(early_stopping_rounds=300)\n",
        "model.fit(X_avg_train, y_avg_train, eval_set=evaluation, verbose=1)"
      ],
      "metadata": {
        "id": "3zmIAmj1Bp3f"
      },
      "execution_count": null,
      "outputs": []
    },
    {
      "cell_type": "code",
      "source": [
        "missing_avg_weather_df = combined_weather_df[combined_weather_df[\"avg\"].isnull()]\n",
        "missing_avg_weather_prediction_X_df = missing_avg_weather_df.drop([\"avg\", \"code\", \"rain\"], axis=1)\n",
        "missing_avg_weather_prediction_X_df['year'] = missing_avg_weather_prediction_X_df['date'].dt.year\n",
        "missing_avg_weather_prediction_X_df['month'] = missing_avg_weather_prediction_X_df['date'].dt.month\n",
        "missing_avg_weather_prediction_X_df['day'] = missing_avg_weather_prediction_X_df['date'].dt.day\n",
        "missing_avg_weather_prediction_X_df = missing_avg_weather_prediction_X_df.drop(\"date\", axis=1)\n",
        "\n",
        "missing_avg_weather_prediction_y_df = model.predict(missing_avg_weather_prediction_X_df)\n",
        "missing_avg_weather_df[\"avg\"] = missing_avg_weather_prediction_y_df"
      ],
      "metadata": {
        "id": "P6_m4l24P7Fs"
      },
      "execution_count": null,
      "outputs": []
    },
    {
      "cell_type": "code",
      "source": [
        "missing_avg_weather_df.info()"
      ],
      "metadata": {
        "id": "UjQnt97lXxpJ"
      },
      "execution_count": null,
      "outputs": []
    },
    {
      "cell_type": "code",
      "source": [
        "weather_df = pd.concat([missing_avg_weather_df, no_missing_weather_df], axis=0)"
      ],
      "metadata": {
        "id": "lkk1w2A7Vzdp"
      },
      "execution_count": null,
      "outputs": []
    },
    {
      "cell_type": "code",
      "source": [
        "weather_df.info()"
      ],
      "metadata": {
        "colab": {
          "base_uri": "https://localhost:8080/"
        },
        "id": "fGvdZ2V2M9Le",
        "outputId": "e006bd23-2210-4a26-9dee-414bd8106682"
      },
      "execution_count": 8,
      "outputs": [
        {
          "output_type": "stream",
          "name": "stdout",
          "text": [
            "<class 'pandas.core.frame.DataFrame'>\n",
            "RangeIndex: 603227 entries, 0 to 603226\n",
            "Data columns (total 9 columns):\n",
            " #   Column      Non-Null Count   Dtype  \n",
            "---  ------      --------------   -----  \n",
            " 0   Unnamed: 0  603227 non-null  int64  \n",
            " 1   date        603227 non-null  object \n",
            " 2   avg         603227 non-null  float64\n",
            " 3   min         603227 non-null  float64\n",
            " 4   max         603227 non-null  float64\n",
            " 5   rain        603227 non-null  float64\n",
            " 6   code        603227 non-null  object \n",
            " 7   lat         603227 non-null  float64\n",
            " 8   lon         603227 non-null  float64\n",
            "dtypes: float64(6), int64(1), object(2)\n",
            "memory usage: 41.4+ MB\n"
          ]
        }
      ]
    },
    {
      "cell_type": "code",
      "source": [
        "filename = 'weather_df.csv'\n",
        "weather_df.to_csv('/content/drive/MyDrive/quant' + filename)"
      ],
      "metadata": {
        "id": "KOTtbsmsM2QR"
      },
      "execution_count": null,
      "outputs": []
    },
    {
      "cell_type": "code",
      "source": [
        "weather_stations = []\n",
        "for code in station_codes:\n",
        "  station = dict()\n",
        "  station[\"code\"] = code\n",
        "  station[\"lat\"] = station_location_df[station_location_df[\"Code\"] == code][\"Latitude\"].values[0]\n",
        "  station[\"lon\"] = station_location_df[station_location_df[\"Code\"] == code][\"Longitude\"].values[0]\n",
        "\n",
        "  weather_data = weather_df[weather_df['code'] == code].drop([\"code\", \"Unnamed: 0\", \"lat\", \"lon\"], axis=1)\n",
        "  station[\"weather_daily\"] = weather_data\n",
        "\n",
        "  weather_data[\"date\"] = pd.to_datetime(weather_data[\"date\"])\n",
        "  weather_data[\"year\"] = weather_data['date'].dt.year\n",
        "  weather_data['week'] = weather_data['date'].dt.isocalendar().week\n",
        "  weather_data = weather_data.drop(\"date\", axis=1)\n",
        "  weekly_stats = weather_data.groupby(['year', 'week']).agg({'min': ['mean', 'std'], 'max': ['mean', 'std'], 'avg': ['mean', 'std'], 'rain': ['mean', 'std']})\n",
        "  weekly_stats = weekly_stats.reset_index()\n",
        "  weekly_stats.columns = ['year', 'week', 'min_mean', 'min_std', 'max_mean', 'max_std', 'avg_mean', 'avg_std', 'rain_mean', 'rain_std']\n",
        "  weekly_stats = weekly_stats.fillna(0)\n",
        "  station[\"weather_weekly\"] = weekly_stats\n",
        "  weather_stations.append(station)\n",
        "len(weather_stations)"
      ],
      "metadata": {
        "colab": {
          "base_uri": "https://localhost:8080/"
        },
        "id": "V-BuKtvZP_P-",
        "outputId": "4ce7450a-b84c-4419-be4b-66448e80a969"
      },
      "execution_count": 13,
      "outputs": [
        {
          "output_type": "execute_result",
          "data": {
            "text/plain": [
              "97"
            ]
          },
          "metadata": {},
          "execution_count": 13
        }
      ]
    },
    {
      "cell_type": "code",
      "source": [
        "weather_stations[0][\"weather_weekly\"].info()"
      ],
      "metadata": {
        "colab": {
          "base_uri": "https://localhost:8080/"
        },
        "id": "KRcdNc4dhRoZ",
        "outputId": "08c850c7-15f2-4c13-b568-6097fb7518eb"
      },
      "execution_count": 14,
      "outputs": [
        {
          "output_type": "stream",
          "name": "stdout",
          "text": [
            "<class 'pandas.core.frame.DataFrame'>\n",
            "RangeIndex: 2588 entries, 0 to 2587\n",
            "Data columns (total 10 columns):\n",
            " #   Column     Non-Null Count  Dtype  \n",
            "---  ------     --------------  -----  \n",
            " 0   year       2588 non-null   int64  \n",
            " 1   week       2588 non-null   UInt32 \n",
            " 2   min_mean   2588 non-null   float64\n",
            " 3   min_std    2588 non-null   float64\n",
            " 4   max_mean   2588 non-null   float64\n",
            " 5   max_std    2588 non-null   float64\n",
            " 6   avg_mean   2588 non-null   float64\n",
            " 7   avg_std    2588 non-null   float64\n",
            " 8   rain_mean  2588 non-null   float64\n",
            " 9   rain_std   2588 non-null   float64\n",
            "dtypes: UInt32(1), float64(8), int64(1)\n",
            "memory usage: 194.7 KB\n"
          ]
        }
      ]
    },
    {
      "cell_type": "markdown",
      "source": [
        "# Prepare crop data"
      ],
      "metadata": {
        "id": "oTL5KERJY8Ls"
      }
    },
    {
      "cell_type": "code",
      "source": [
        "county_locations_df = pd.read_csv(county_location_file_path)\n",
        "county_agr_prod_df = pd.read_csv(county_agr_prod_file_path, decimal=',')"
      ],
      "metadata": {
        "id": "tOs48SDRSVcZ"
      },
      "execution_count": 15,
      "outputs": []
    },
    {
      "cell_type": "code",
      "source": [
        "county_agr_prod_df.info()"
      ],
      "metadata": {
        "colab": {
          "base_uri": "https://localhost:8080/"
        },
        "id": "GyM5JdLCxfHC",
        "outputId": "9f9d61e6-db70-4516-c653-f3c1082ed2dd"
      },
      "execution_count": 16,
      "outputs": [
        {
          "output_type": "stream",
          "name": "stdout",
          "text": [
            "<class 'pandas.core.frame.DataFrame'>\n",
            "RangeIndex: 56268 entries, 0 to 56267\n",
            "Data columns (total 7 columns):\n",
            " #   Column                        Non-Null Count  Dtype \n",
            "---  ------                        --------------  ----- \n",
            " 0   Year                          56268 non-null  int64 \n",
            " 1   County                        56268 non-null  object\n",
            " 2   Commodity                     56268 non-null  object\n",
            " 3   Crop                          56268 non-null  object\n",
            " 4   ACRES HARVESTED               52674 non-null  object\n",
            " 5   PRODUCTION, MEASURED IN BU    33231 non-null  object\n",
            " 6   YIELD, MEASURED IN BU / ACRE  33232 non-null  object\n",
            "dtypes: int64(1), object(6)\n",
            "memory usage: 3.0+ MB\n"
          ]
        }
      ]
    },
    {
      "cell_type": "code",
      "source": [
        "county_agr_prod_df = county_agr_prod_df.rename(\n",
        "    columns={'ACRES HARVESTED': 'acres', \n",
        "             'PRODUCTION, MEASURED IN BU': 'production', \n",
        "             'YIELD, MEASURED IN BU / ACRE': 'yield'})\n",
        "county_agr_prod_df['acres'] = pd.to_numeric(county_agr_prod_df['acres'].astype(str).str.replace(',', '.'), errors='coerce')\n",
        "county_agr_prod_df['production'] = pd.to_numeric(county_agr_prod_df['production'].astype(str).str.replace(',', '.'), errors='coerce')\n",
        "county_agr_prod_df['yield'] = pd.to_numeric(county_agr_prod_df['yield'].astype(str).str.replace(',', '.'), errors='coerce')\n",
        "county_agr_prod_df = county_agr_prod_df[county_agr_prod_df['acres'].notnull() | county_agr_prod_df['production'].notnull() | county_agr_prod_df['yield'].notnull()]\n",
        "\n",
        "corn_df = county_agr_prod_df[county_agr_prod_df[\"Crop\"] == \"CORN, GRAIN\"] #| county_agr_prod_df[\"Crop\"] == \"CORN, SILAGE\"]\n",
        "oat_df = county_agr_prod_df[county_agr_prod_df[\"Crop\"] == \"OATS\"]\n",
        "soybean_df = county_agr_prod_df[county_agr_prod_df[\"Crop\"] == \"SOYBEANS\"]"
      ],
      "metadata": {
        "id": "b5jds8rVuQh0"
      },
      "execution_count": 17,
      "outputs": []
    },
    {
      "cell_type": "code",
      "source": [
        "import matplotlib.pyplot as plt\n",
        "import seaborn as sns\n",
        "\n",
        "plot = corn_df\n",
        "\n",
        "plot = plot[plot['acres'].notnull() & plot['production'].notnull() & plot['yield'].notnull()]\n",
        "numeric_columns = plot.select_dtypes(include=['int64', 'float64']).columns\n",
        "\n",
        "cm = np.corrcoef(plot[numeric_columns].values.T)\n",
        "fig = plt.gcf()\n",
        "fig.set_size_inches(8, 5)\n",
        "hm = sns.heatmap(cm, cbar=True, annot=True, square=True, fmt='.2f', annot_kws={'size': 10}, yticklabels=numeric_columns.values, xticklabels=numeric_columns.values)"
      ],
      "metadata": {
        "colab": {
          "base_uri": "https://localhost:8080/",
          "height": 324
        },
        "id": "9utKbQqPsgCP",
        "outputId": "bf73baac-7b2c-43da-84f5-754c20ef49a6"
      },
      "execution_count": 18,
      "outputs": [
        {
          "output_type": "display_data",
          "data": {
            "text/plain": [
              "<Figure size 576x360 with 2 Axes>"
            ],
            "image/png": "[encoded data removed]"
          },
          "metadata": {
            "needs_background": "light"
          }
        }
      ]
    },
    {
      "cell_type": "code",
      "source": [
        "county_locations_df['county_name'] = county_locations_df['county_name'].apply(lambda x: ' '.join(x.split()[:-1]).upper())\n",
        "county_locations_df['county_name'] = county_locations_df['county_name'].str.replace('SAINT LOUIS', 'ST. LOUIS')\n",
        "corn_df_extended = pd.merge(corn_df, county_locations_df, how='outer', left_on='County', right_on='county_name')"
      ],
      "metadata": {
        "id": "QabfB3Ue0xPQ"
      },
      "execution_count": 19,
      "outputs": []
    },
    {
      "cell_type": "code",
      "source": [
        "corn_df_clean = corn_df_extended.drop([\"County\", \"Commodity\", \"Crop\", \"county_name\", \"capital_name\", \"production\", \"acres\"], axis=1)\n",
        "corn_df_clean = corn_df_clean[corn_df_clean[\"yield\"].notnull() & corn_df_clean[\"county_latitude\"].notnull() & corn_df_clean[\"county_longitude\"].notnull()]"
      ],
      "metadata": {
        "id": "o1YyMFKt2nwd"
      },
      "execution_count": 20,
      "outputs": []
    },
    {
      "cell_type": "markdown",
      "source": [
        "#putting it all together..."
      ],
      "metadata": {
        "id": "Beqwdxfnjv2A"
      }
    },
    {
      "cell_type": "code",
      "source": [
        "corn_df_clean.info() #corn clean df"
      ],
      "metadata": {
        "colab": {
          "base_uri": "https://localhost:8080/"
        },
        "id": "cH8u1G-bKoYN",
        "outputId": "b6eb6b54-6a2c-4461-908e-0d13d93987fd"
      },
      "execution_count": 21,
      "outputs": [
        {
          "output_type": "stream",
          "name": "stdout",
          "text": [
            "<class 'pandas.core.frame.DataFrame'>\n",
            "Int64Index: 5014 entries, 0 to 5014\n",
            "Data columns (total 4 columns):\n",
            " #   Column            Non-Null Count  Dtype  \n",
            "---  ------            --------------  -----  \n",
            " 0   Year              5014 non-null   float64\n",
            " 1   yield             5014 non-null   float64\n",
            " 2   county_latitude   5014 non-null   float64\n",
            " 3   county_longitude  5014 non-null   float64\n",
            "dtypes: float64(4)\n",
            "memory usage: 195.9 KB\n"
          ]
        }
      ]
    },
    {
      "cell_type": "code",
      "source": [
        "weather_stations[0] #weather clean df"
      ],
      "metadata": {
        "colab": {
          "base_uri": "https://localhost:8080/"
        },
        "id": "Lz5bVLPAO0ax",
        "outputId": "79705af3-8855-4d11-a8b0-687df7fd7767"
      },
      "execution_count": 22,
      "outputs": [
        {
          "output_type": "execute_result",
          "data": {
            "text/plain": [
              "{'code': '72644',\n",
              " 'lat': 43.9,\n",
              " 'lon': -92.5,\n",
              " 'weather_daily':              date   avg   min   max  rain  year  week\n",
              " 95927  1973-01-01 -12.2 -16.1  -8.9   0.0  1973     1\n",
              " 95928  1973-01-02  -6.3 -13.9  -0.6   0.0  1973     1\n",
              " 95929  1973-01-03  -3.6 -12.2  -1.7  19.6  1973     1\n",
              " 95930  1973-01-04 -18.7 -22.8 -12.2   0.0  1973     1\n",
              " 95931  1973-01-05 -23.9 -27.8 -19.4   0.0  1973     1\n",
              " ...           ...   ...   ...   ...   ...   ...   ...\n",
              " 113541 2022-06-13  20.7  18.0  25.0  22.5  2022    24\n",
              " 113542 2022-06-14  27.9  22.0  35.0   0.0  2022    24\n",
              " 113543 2022-06-15  19.7  17.2  24.4  19.3  2022    24\n",
              " 113544 2022-06-16  22.5  17.4  27.3   0.0  2022    24\n",
              " 113545 2022-06-17  20.4  15.4  25.4   0.0  2022    24\n",
              " \n",
              " [17619 rows x 7 columns],\n",
              " 'weather_weekly':       year  week   min_mean   min_std   max_mean   max_std   avg_mean  \\\n",
              " 0     1973     1 -22.637500  7.546984 -12.837500  8.395056 -17.362500   \n",
              " 1     1973     2 -20.371429  7.452229 -10.000000  7.626926 -14.942857   \n",
              " 2     1973     3  -4.042857  4.593422   1.585714  4.062195  -1.142857   \n",
              " 3     1973     4  -8.657143  5.661230   0.400000  4.638965  -3.571429   \n",
              " 4     1973     5  -8.742857  4.798909  -0.328571  3.233530  -3.957143   \n",
              " ...    ...   ...        ...       ...        ...       ...        ...   \n",
              " 2583  2022    21   8.885714  5.066698  19.300000  6.581793  13.671429   \n",
              " 2584  2022    22  11.914286  3.000238  22.971429  5.274377  17.914286   \n",
              " 2585  2022    23  14.200000  1.731088  23.471429  1.705593  18.842857   \n",
              " 2586  2022    24  18.000000  2.437212  27.420000  4.374014  22.240000   \n",
              " 2587  2022    52 -24.900000  2.404163 -15.450000  1.626346 -19.450000   \n",
              " \n",
              "        avg_std  rain_mean   rain_std  \n",
              " 0     8.953202   2.450000   6.929646  \n",
              " 1     7.626895   0.000000   0.000000  \n",
              " 2     4.204306   0.085714   0.146385  \n",
              " 3     4.635269   0.942857   1.981462  \n",
              " 4     3.689109   1.628571   4.308795  \n",
              " ...        ...        ...        ...  \n",
              " 2583  4.723598   6.714286  14.245868  \n",
              " 2584  3.605287   3.057143   7.244965  \n",
              " 2585  0.996422   2.114286   3.938878  \n",
              " 2586  3.328363   8.360000  11.503173  \n",
              " 2587  3.889087   0.000000   0.000000  \n",
              " \n",
              " [2588 rows x 10 columns]}"
            ]
          },
          "metadata": {},
          "execution_count": 22
        }
      ]
    },
    {
      "cell_type": "code",
      "source": [
        "from math import radians, sin, cos, sqrt, atan2\n",
        "\n",
        "def distance(lat1, lon1, lat2, lon2):\n",
        "    R = 6371  # Earth radius in km\n",
        "\n",
        "    # Convert latitude and longitude to radians\n",
        "    lat1 = radians(lat1)\n",
        "    lon1 = radians(lon1)\n",
        "    lat2 = radians(lat2)\n",
        "    lon2 = radians(lon2)\n",
        "\n",
        "    # Calculate the differences between the two points\n",
        "    dlat = lat2 - lat1\n",
        "    dlon = lon2 - lon1\n",
        "\n",
        "    # Calculate the haversine of half the differences\n",
        "    a = sin(dlat / 2) ** 2 + cos(lat1) * cos(lat2) * sin(dlon / 2) ** 2\n",
        "\n",
        "    # Calculate the great circle distance\n",
        "    c = 2 * atan2(sqrt(a), sqrt(1 - a))\n",
        "\n",
        "    # Calculate the distance in kilometers\n",
        "    dist = R * c\n",
        "\n",
        "    return dist\n",
        "\n",
        "\n",
        "def distance_from_station(weather_station, lat, lon):\n",
        "  return distance(weather_station[\"lat\"], weather_station[\"lon\"], lat, lon)\n"
      ],
      "metadata": {
        "id": "Ssfy3I5gezAQ"
      },
      "execution_count": 46,
      "outputs": []
    },
    {
      "cell_type": "code",
      "source": [
        "weather_staions = filter(lambda x: not x[\"weather_weekly\"].empty, weather_stations)"
      ],
      "metadata": {
        "id": "9-E-7HYRy1W5"
      },
      "execution_count": 45,
      "outputs": []
    },
    {
      "cell_type": "code",
      "source": [
        "data = []\n",
        "for _, y in corn_df_clean.iterrows():\n",
        "  yearly_data = dict()\n",
        "  yearly_data[\"year\"] = y[\"Year\"]\n",
        "  yearly_data[\"yield\"] = y[\"yield\"]\n",
        "  county_lat = y[\"county_latitude\"]\n",
        "  county_lon = y[\"county_longitude\"]\n",
        "  stations = sorted(weather_stations, key=lambda s:distance_from_station(s, county_lat, county_lon))\n",
        "\n",
        "  i = 0\n",
        "  while distance_from_station(stations[i], county_lat, county_lon) < 120:\n",
        "    station_weekly = stations[i][\"weather_weekly\"]\n",
        "    yearly_data[\"weather\"] = station_weekly[station_weekly[\"year\"] == y[\"Year\"]]\n",
        "    yearly_data[\"weather\"] = yearly_data[\"weather\"].drop([\"year\", \"week\"], axis=1)\n",
        "    if not yearly_data['weather'].empty:\n",
        "      data.append(yearly_data)\n",
        "      break\n",
        "    i += 1\n",
        "  \n",
        "len(data)"
      ],
      "metadata": {
        "colab": {
          "base_uri": "https://localhost:8080/"
        },
        "id": "lhrOAw9cY5so",
        "outputId": "615b50f0-5362-40b9-da05-85d6da275e63"
      },
      "execution_count": 64,
      "outputs": [
        {
          "output_type": "execute_result",
          "data": {
            "text/plain": [
              "2860"
            ]
          },
          "metadata": {},
          "execution_count": 64
        }
      ]
    },
    {
      "cell_type": "code",
      "source": [
        "#valid_adatok = []\n",
        "#for tav in range(10, 200, 5):\n",
        "#  data = []\n",
        "#  for _, y in corn_df_clean.iterrows():\n",
        "#    yearly_data = dict()\n",
        "#    yearly_data[\"year\"] = y[\"Year\"]\n",
        "#    yearly_data[\"yield\"] = y[\"yield\"]\n",
        "#    county_lat = y[\"county_latitude\"]\n",
        "#    county_lon = y[\"county_longitude\"]\n",
        "#    stations = sorted(weather_stations, key=lambda s:distance_from_station(s, county_lat, county_lon))\n",
        "#\n",
        "#    i = 0\n",
        "#    while distance_from_station(stations[i], county_lat, county_lon) < tav:\n",
        "#      station_weekly = stations[i][\"weather_weekly\"]\n",
        "#      yearly_data[\"weather\"] = station_weekly[station_weekly[\"year\"] == y[\"Year\"]]\n",
        "#      if not yearly_data['weather'].empty:\n",
        "#        data.append(yearly_data)\n",
        "#        break\n",
        "#      i += 1\n",
        "    \n",
        "#  valid_adatok.append(len(data))"
      ],
      "metadata": {
        "id": "kLMw5UuN4WYs"
      },
      "execution_count": 54,
      "outputs": []
    },
    {
      "cell_type": "code",
      "source": [
        "import matplotlib.pyplot as plt\n",
        "x_values = [10+x*5 for x in range(len(valid_adatok))]\n",
        "plt.xticks(range(len(valid_adatok)), x_values, rotation=90)\n",
        "plt.plot(valid_adatok)"
      ],
      "metadata": {
        "id": "PnaGDlITs_po",
        "outputId": "2175cac8-5f24-40db-f4f9-be0cabe4b1a1",
        "colab": {
          "base_uri": "https://localhost:8080/",
          "height": 292
        }
      },
      "execution_count": 59,
      "outputs": [
        {
          "output_type": "execute_result",
          "data": {
            "text/plain": [
              "[<matplotlib.lines.Line2D at 0x7fc89acd4bb0>]"
            ]
          },
          "metadata": {},
          "execution_count": 59
        },
        {
          "output_type": "display_data",
          "data": {
            "text/plain": [
              "<Figure size 432x288 with 1 Axes>"
            ],
            "image/png": "[encoded data removed]"
          },
          "metadata": {
            "needs_background": "light"
          }
        }
      ]
    },
    {
      "cell_type": "code",
      "source": [
        "X_weather = list(map(lambda s: s[\"weather\"], data))\n",
        "X_year = list(map(lambda s: s[\"year\"], data))\n",
        "y = list(map(lambda s: s[\"yield\"], data))"
      ],
      "metadata": {
        "id": "hggklvQMtaQD"
      },
      "execution_count": 66,
      "outputs": []
    },
    {
      "cell_type": "code",
      "source": [
        "split_ratio = 0.9\n",
        "split = int(len(data)*split_ratio)\n",
        "X_weather_train = X_weather[:split]\n",
        "X_weather_val = X_weather[split:]\n",
        "X_year_train = X_year[:split]\n",
        "X_year_val = X_year[split:]\n",
        "y_train = y[:split]\n",
        "y_val = y[split:]"
      ],
      "metadata": {
        "id": "ow9ywribgee2"
      },
      "execution_count": 67,
      "outputs": []
    },
    {
      "cell_type": "code",
      "source": [
        "import tensorflow as tf\n",
        "from tensorflow.keras.layers import Input, Dense, LSTM, Dropout, Concatenate\n",
        "from tensorflow.keras.models import Model\n",
        "\n",
        "\n",
        "seq_input = Input(shape=(52, 5))\n",
        "int_input = Input(shape=(1,))\n",
        "\n",
        "\n",
        "lstm1 = LSTM(128, return_sequences=True)(seq_input)\n",
        "drop1 = Dropout(0.2)(lstm1)\n",
        "lstm2 = LSTM(64, return_sequences=False)(drop1)\n",
        "drop2 = Dropout(0.2)(lstm2)\n",
        "\n",
        "concat = Concatenate()([drop2, int_input])\n",
        "\n",
        "dense1 = Dense(32, activation='relu')(concat)\n",
        "dense2 = Dense(1, activation='linear')(dense1)\n",
        "\n",
        "model = Model(inputs=[seq_input, int_input], outputs=dense2)\n",
        "\n",
        "model.compile(optimizer='adam', loss='mean_squared_error')"
      ],
      "metadata": {
        "id": "HWlUq1jmZ0w-"
      },
      "execution_count": null,
      "outputs": []
    },
    {
      "cell_type": "code",
      "source": [
        "model.fit([X_weather_train, X_year_train], y_train, epochs=100, batch_size=32)"
      ],
      "metadata": {
        "id": "qME-IZi-fzJz"
      },
      "execution_count": null,
      "outputs": []
    },
    {
      "cell_type": "code",
      "source": [
        "loss = model.evaluate([X_weather_, int_test], y_test)\n",
        "print('Test loss:', loss)"
      ],
      "metadata": {
        "id": "sFxSpj20f8vj"
      },
      "execution_count": null,
      "outputs": []
    },
    {
      "cell_type": "code",
      "source": [
        "y_pred = model.predict([X_new, int_new])"
      ],
      "metadata": {
        "id": "D6lPdf-8gBUZ"
      },
      "execution_count": null,
      "outputs": []
    }
  ]
}