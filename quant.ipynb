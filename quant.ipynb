{
  "nbformat": 4,
  "nbformat_minor": 0,
  "metadata": {
    "colab": {
      "provenance": [],
      "include_colab_link": true
    },
    "kernelspec": {
      "name": "python3",
      "display_name": "Python 3"
    },
    "language_info": {
      "name": "python"
    },
    "gpuClass": "standard"
  },
  "cells": [
    {
      "cell_type": "markdown",
      "metadata": {
        "id": "view-in-github",
        "colab_type": "text"
      },
      "source": [
        "<a href=\"https://colab.research.google.com/github/lacykaltgr/quant/blob/main/quant.ipynb\" target=\"_parent\"><img src=\"https://colab.research.google.com/assets/colab-badge.svg\" alt=\"Open In Colab\"/></a>"
      ]
    },
    {
      "cell_type": "code",
      "execution_count": 1,
      "metadata": {
        "colab": {
          "base_uri": "https://localhost:8080/"
        },
        "id": "fxqi0jj6r1x0",
        "outputId": "287a7e66-1061-448f-f800-2fd2050352ce"
      },
      "outputs": [
        {
          "output_type": "stream",
          "name": "stdout",
          "text": [
            "Mounted at /content/drive\n"
          ]
        }
      ],
      "source": [
        "from google.colab import drive\n",
        "drive.mount('/content/drive')"
      ]
    },
    {
      "cell_type": "markdown",
      "source": [
        "# Setup"
      ],
      "metadata": {
        "id": "o42LfRisTqTI"
      }
    },
    {
      "cell_type": "code",
      "source": [
        "import pandas as pd\n",
        "import numpy as np"
      ],
      "metadata": {
        "id": "gYfYs6LWs_qY"
      },
      "execution_count": 2,
      "outputs": []
    },
    {
      "cell_type": "code",
      "source": [
        "import glob\n",
        "import os\n",
        "\n",
        "quant_folder_location = \"/content/drive/MyDrive/quant\"\n",
        "weather_prepared_file_path = quant_folder_location + \"/weather_df.csv\"\n",
        "weather_prepared_file_path_pred = quant_folder_location + \"/preds.csv\"\n",
        "county_location_file_path = quant_folder_location + \"/agri/minnesota_county_location.csv\"\n",
        "county_agr_prod_file_path = quant_folder_location + \"/agri/minnesota_county_yearly_agricultural_production.csv\"\n",
        "station_location_file_path = quant_folder_location + \"/weather/minnesota_station_location.csv\"\n",
        "\n",
        "def station_weather_fp(station_name):\n",
        "  return quant_folder_location + \"/weather/minnesota_daily/\" + str(station_name) + \".csv\"\n",
        "\n",
        "dir_path = quant_folder_location + \"/weather/prediction_targets_daily\"\n",
        "pred_files = glob.glob(f'{dir_path}/*.csv')\n",
        "pred_codes = [os.path.splitext(os.path.basename(file))[0] for file in pred_files]"
      ],
      "metadata": {
        "id": "HlpjPkaztxe8"
      },
      "execution_count": 3,
      "outputs": []
    },
    {
      "cell_type": "markdown",
      "source": [
        "# Prepare weather data\n"
      ],
      "metadata": {
        "id": "8JmR0-bWTceU"
      }
    },
    {
      "cell_type": "code",
      "source": [
        "#átugrási lehetőség\n",
        "weather_df = pd.read_csv(weather_prepared_file_path)\n",
        "weather_df_pred = pd.read_csv(weather_prepared_file_path_pred)"
      ],
      "metadata": {
        "id": "hpg84zW0NMyB",
        "colab": {
          "base_uri": "https://localhost:8080/"
        },
        "outputId": "606c5b09-c4d4-44e0-96a3-68ccb82daa79"
      },
      "execution_count": 4,
      "outputs": [
        {
          "output_type": "stream",
          "name": "stderr",
          "text": [
            "<ipython-input-4-41ba97ddcf50>:2: DtypeWarning: Columns (6) have mixed types. Specify dtype option on import or set low_memory=False.\n",
            "  weather_df = pd.read_csv(weather_prepared_file_path)\n"
          ]
        }
      ]
    },
    {
      "cell_type": "code",
      "source": [
        "weather_df.info()"
      ],
      "metadata": {
        "colab": {
          "base_uri": "https://localhost:8080/"
        },
        "id": "JA4tCn9KrsN2",
        "outputId": "69ab6a03-d0b5-423b-cfb1-7c528da74c34"
      },
      "execution_count": null,
      "outputs": [
        {
          "output_type": "stream",
          "name": "stdout",
          "text": [
            "<class 'pandas.core.frame.DataFrame'>\n",
            "RangeIndex: 603227 entries, 0 to 603226\n",
            "Data columns (total 9 columns):\n",
            " #   Column      Non-Null Count   Dtype  \n",
            "---  ------      --------------   -----  \n",
            " 0   Unnamed: 0  603227 non-null  int64  \n",
            " 1   date        603227 non-null  object \n",
            " 2   avg         603227 non-null  float64\n",
            " 3   min         603227 non-null  float64\n",
            " 4   max         603227 non-null  float64\n",
            " 5   rain        603227 non-null  float64\n",
            " 6   code        603227 non-null  object \n",
            " 7   lat         603227 non-null  float64\n",
            " 8   lon         603227 non-null  float64\n",
            "dtypes: float64(6), int64(1), object(2)\n",
            "memory usage: 41.4+ MB\n"
          ]
        }
      ]
    },
    {
      "cell_type": "code",
      "source": [
        "station_location_df = pd.read_csv(station_location_file_path)\n",
        "\n",
        "station_weather_df_list = []\n",
        "station_weather_df_list_pred = []\n",
        "\n",
        "station_codes = np.unique(station_location_df.Code)\n",
        "for code in station_codes:\n",
        "  try:\n",
        "      station_df = pd.read_csv(station_weather_fp(code), header=None, index_col=False, names=[\"date\", \"avg\", \"min\", \"max\", \"rain\"])\n",
        "      station_weather_df_list.append(station_df)\n",
        "  except:\n",
        "      station_codes.remove(code)\n",
        "      print(f\"Hibás/üres fájl: {code}\")\n",
        "\n",
        "for path in pred_files:\n",
        "  try:\n",
        "      station_df = pd.read_csv(path, header=None, index_col=False, names=[\"date\", \"avg\", \"min\", \"max\", \"rain\"])\n",
        "      station_weather_df_list_pred.append(station_df)\n",
        "  except:\n",
        "      pred_codes.remove(code)\n",
        "      print(f\"Hibás/üres fájl: {code}\")"
      ],
      "metadata": {
        "id": "s3DPxLZjtsAV"
      },
      "execution_count": 9,
      "outputs": []
    },
    {
      "cell_type": "code",
      "source": [
        "from dateutil.relativedelta import relativedelta\n",
        "import math\n",
        "\n",
        "def fillnullvalues(station_weather_df_list):\n",
        "  for station in station_weather_df_list:\n",
        "    station[\"date\"] = pd.to_datetime(station[\"date\"])\n",
        "    station[\"min\"] = station[\"min\"].interpolate(method=\"linear\", limit=21)\n",
        "    station[\"max\"] = station[\"max\"].interpolate(method=\"linear\", limit=21)\n",
        "    for index, record in station.iterrows():\n",
        "      if math.isnan(record[\"min\"]):\n",
        "        for i in range(index, index+10*365+1, 365):\n",
        "          if not math.isnan(station.iloc[i+365][\"min\"]):\n",
        "            station.loc[index, \"min\"] = station.iloc[i+365][\"min\"]\n",
        "            break\n",
        "          else: \n",
        "            if not math.isnan(station.iloc[i-365][\"min\"]):\n",
        "              station.loc[index, \"min\"] = station.iloc[i-365][\"min\"]\n",
        "              break\n",
        "      if math.isnan(record[\"max\"]):\n",
        "        for i in range(index, index+15*365+1, 365):\n",
        "          if not math.isnan(station.iloc[i+365][\"max\"]):\n",
        "            station.loc[index, \"max\"] = station.iloc[i+365][\"max\"]\n",
        "            break\n",
        "          else:\n",
        "            if not math.isnan(station.iloc[i-365][\"max\"]):\n",
        "              station.loc[index, \"max\"] = station.iloc[i-365][\"max\"]\n",
        "              break\n",
        "      if math.isnan(record[\"rain\"]):\n",
        "        i = index+365\n",
        "        while i < len(station):\n",
        "          if not math.isnan(station.iloc[i][\"rain\"]):\n",
        "            station.loc[index, \"rain\"] = station.iloc[i][\"rain\"]\n",
        "            break\n",
        "          i += 365\n",
        "\n",
        "fillnullvalues(station_weather_df_list)\n",
        "fillnullvalues(station_weather_df_list_pred)"
      ],
      "metadata": {
        "id": "4idZtw-e6MUL"
      },
      "execution_count": null,
      "outputs": []
    },
    {
      "cell_type": "code",
      "source": [
        "#train\n",
        "for i, (station_data, code) in enumerate(zip(station_weather_df_list, station_codes)):\n",
        "  lat = station_location_df[station_location_df[\"Code\"] == code ].Latitude.values[0]\n",
        "  lon = station_location_df[station_location_df[\"Code\"] == code ].Longitude.values[0]\n",
        "  station_weather_df_list[i] = station_data.assign(code = code, lat = lat, lon = lon)\n",
        "combined_weather_df = pd.concat(station_weather_df_list, axis=0)\n",
        "combined_weather_df[\"rain\"] = combined_weather_df[\"rain\"].fillna(0)\n",
        "\n",
        "\n",
        "#pred\n",
        "for i, (station_data, code) in enumerate(zip(station_weather_df_list_pred, pred_codes)):\n",
        "  lat = station_location_df[\"Latitude\"].mean()\n",
        "  lon = station_location_df[\"Longitude\"].mean()\n",
        "  station_weather_df_list_pred[i] = station_data.assign(code = code, lat = lat, lon = lon)\n",
        "combined_weather_df_pred = pd.concat(station_weather_df_list_pred, axis=0)\n",
        "combined_weather_df_pred[\"rain\"] = combined_weather_df_pred[\"rain\"].fillna(0)"
      ],
      "metadata": {
        "id": "cH2IoUgn1VsJ"
      },
      "execution_count": null,
      "outputs": []
    },
    {
      "cell_type": "code",
      "source": [
        "no_missing_weather_df = combined_weather_df[combined_weather_df[\"avg\"].notnull()]\n",
        "no_missing_weather_df_pred = combined_weather_df_pred[combined_weather_df_pred[\"avg\"].notnull()]"
      ],
      "metadata": {
        "id": "JeKj7aXESsKF"
      },
      "execution_count": null,
      "outputs": []
    },
    {
      "cell_type": "code",
      "source": [
        "from sklearn.model_selection import train_test_split, cross_val_score\n",
        "from xgboost import XGBRegressor\n",
        "\n",
        "no_missing_weather_train_df = no_missing_weather_df.drop([\"code\", \"rain\"], axis=1)\n",
        "no_missing_weather_train_df['year'] = no_missing_weather_train_df['date'].dt.year\n",
        "no_missing_weather_train_df['month'] = no_missing_weather_train_df['date'].dt.month\n",
        "no_missing_weather_train_df['day'] = no_missing_weather_train_df['date'].dt.day\n",
        "no_missing_weather_train_df = no_missing_weather_train_df.drop(\"date\", axis=1)\n",
        "\n",
        "X_fill_avg = no_missing_weather_train_df.drop(\"avg\", axis=1)\n",
        "y_fill_avg = no_missing_weather_train_df[\"avg\"]\n",
        "X_avg_train, X_avg_test, y_avg_train, y_avg_test = train_test_split(X_fill_avg, y_fill_avg, test_size=0.1)\n",
        "evaluation = [(X_avg_train, y_avg_train), (X_avg_test, y_avg_test)]\n",
        "\n",
        "model = XGBRegressor(early_stopping_rounds=300)\n",
        "model.fit(X_avg_train, y_avg_train, eval_set=evaluation, verbose=1)"
      ],
      "metadata": {
        "id": "3zmIAmj1Bp3f",
        "colab": {
          "base_uri": "https://localhost:8080/",
          "height": 1000
        },
        "outputId": "f3e3ecf7-c1db-42de-bfcb-16baa0398614"
      },
      "execution_count": null,
      "outputs": [
        {
          "output_type": "stream",
          "name": "stdout",
          "text": [
            "[0]\tvalidation_0-rmse:9.68728\tvalidation_1-rmse:9.64328\n",
            "[1]\tvalidation_0-rmse:6.82424\tvalidation_1-rmse:6.79457\n",
            "[2]\tvalidation_0-rmse:4.82778\tvalidation_1-rmse:4.80614\n",
            "[3]\tvalidation_0-rmse:3.44450\tvalidation_1-rmse:3.42746\n",
            "[4]\tvalidation_0-rmse:2.49699\tvalidation_1-rmse:2.48285\n",
            "[5]\tvalidation_0-rmse:1.85949\tvalidation_1-rmse:1.84593\n",
            "[6]\tvalidation_0-rmse:1.44466\tvalidation_1-rmse:1.43006\n",
            "[7]\tvalidation_0-rmse:1.18733\tvalidation_1-rmse:1.17154\n",
            "[8]\tvalidation_0-rmse:1.03552\tvalidation_1-rmse:1.01825\n",
            "[9]\tvalidation_0-rmse:0.95053\tvalidation_1-rmse:0.93205\n",
            "[10]\tvalidation_0-rmse:0.90439\tvalidation_1-rmse:0.88534\n",
            "[11]\tvalidation_0-rmse:0.87927\tvalidation_1-rmse:0.85994\n",
            "[12]\tvalidation_0-rmse:0.86566\tvalidation_1-rmse:0.84611\n",
            "[13]\tvalidation_0-rmse:0.85793\tvalidation_1-rmse:0.83848\n",
            "[14]\tvalidation_0-rmse:0.85323\tvalidation_1-rmse:0.83388\n",
            "[15]\tvalidation_0-rmse:0.85009\tvalidation_1-rmse:0.83088\n",
            "[16]\tvalidation_0-rmse:0.84759\tvalidation_1-rmse:0.82849\n",
            "[17]\tvalidation_0-rmse:0.84556\tvalidation_1-rmse:0.82673\n",
            "[18]\tvalidation_0-rmse:0.84392\tvalidation_1-rmse:0.82545\n",
            "[19]\tvalidation_0-rmse:0.84193\tvalidation_1-rmse:0.82400\n",
            "[20]\tvalidation_0-rmse:0.84074\tvalidation_1-rmse:0.82309\n",
            "[21]\tvalidation_0-rmse:0.83991\tvalidation_1-rmse:0.82254\n",
            "[22]\tvalidation_0-rmse:0.83956\tvalidation_1-rmse:0.82243\n",
            "[23]\tvalidation_0-rmse:0.83864\tvalidation_1-rmse:0.82202\n",
            "[24]\tvalidation_0-rmse:0.83713\tvalidation_1-rmse:0.82071\n",
            "[25]\tvalidation_0-rmse:0.83611\tvalidation_1-rmse:0.81977\n",
            "[26]\tvalidation_0-rmse:0.83521\tvalidation_1-rmse:0.81922\n",
            "[27]\tvalidation_0-rmse:0.83342\tvalidation_1-rmse:0.81760\n",
            "[28]\tvalidation_0-rmse:0.83266\tvalidation_1-rmse:0.81698\n",
            "[29]\tvalidation_0-rmse:0.83174\tvalidation_1-rmse:0.81648\n",
            "[30]\tvalidation_0-rmse:0.83094\tvalidation_1-rmse:0.81589\n",
            "[31]\tvalidation_0-rmse:0.83020\tvalidation_1-rmse:0.81565\n",
            "[32]\tvalidation_0-rmse:0.82992\tvalidation_1-rmse:0.81552\n",
            "[33]\tvalidation_0-rmse:0.82896\tvalidation_1-rmse:0.81506\n",
            "[34]\tvalidation_0-rmse:0.82831\tvalidation_1-rmse:0.81470\n",
            "[35]\tvalidation_0-rmse:0.82763\tvalidation_1-rmse:0.81441\n",
            "[36]\tvalidation_0-rmse:0.82710\tvalidation_1-rmse:0.81401\n",
            "[37]\tvalidation_0-rmse:0.82596\tvalidation_1-rmse:0.81305\n",
            "[38]\tvalidation_0-rmse:0.82493\tvalidation_1-rmse:0.81240\n",
            "[39]\tvalidation_0-rmse:0.82440\tvalidation_1-rmse:0.81204\n",
            "[40]\tvalidation_0-rmse:0.82396\tvalidation_1-rmse:0.81181\n",
            "[41]\tvalidation_0-rmse:0.82356\tvalidation_1-rmse:0.81154\n",
            "[42]\tvalidation_0-rmse:0.82294\tvalidation_1-rmse:0.81095\n",
            "[43]\tvalidation_0-rmse:0.82192\tvalidation_1-rmse:0.81010\n",
            "[44]\tvalidation_0-rmse:0.82138\tvalidation_1-rmse:0.80967\n",
            "[45]\tvalidation_0-rmse:0.82026\tvalidation_1-rmse:0.80857\n",
            "[46]\tvalidation_0-rmse:0.81974\tvalidation_1-rmse:0.80827\n",
            "[47]\tvalidation_0-rmse:0.81886\tvalidation_1-rmse:0.80775\n",
            "[48]\tvalidation_0-rmse:0.81833\tvalidation_1-rmse:0.80722\n",
            "[49]\tvalidation_0-rmse:0.81813\tvalidation_1-rmse:0.80711\n",
            "[50]\tvalidation_0-rmse:0.81795\tvalidation_1-rmse:0.80705\n",
            "[51]\tvalidation_0-rmse:0.81708\tvalidation_1-rmse:0.80639\n",
            "[52]\tvalidation_0-rmse:0.81651\tvalidation_1-rmse:0.80587\n",
            "[53]\tvalidation_0-rmse:0.81582\tvalidation_1-rmse:0.80523\n",
            "[54]\tvalidation_0-rmse:0.81553\tvalidation_1-rmse:0.80497\n",
            "[55]\tvalidation_0-rmse:0.81503\tvalidation_1-rmse:0.80496\n",
            "[56]\tvalidation_0-rmse:0.81470\tvalidation_1-rmse:0.80478\n",
            "[57]\tvalidation_0-rmse:0.81411\tvalidation_1-rmse:0.80491\n",
            "[58]\tvalidation_0-rmse:0.81328\tvalidation_1-rmse:0.80410\n",
            "[59]\tvalidation_0-rmse:0.81260\tvalidation_1-rmse:0.80341\n",
            "[60]\tvalidation_0-rmse:0.81223\tvalidation_1-rmse:0.80319\n",
            "[61]\tvalidation_0-rmse:0.81153\tvalidation_1-rmse:0.80261\n",
            "[62]\tvalidation_0-rmse:0.81116\tvalidation_1-rmse:0.80238\n",
            "[63]\tvalidation_0-rmse:0.81066\tvalidation_1-rmse:0.80201\n",
            "[64]\tvalidation_0-rmse:0.81028\tvalidation_1-rmse:0.80175\n",
            "[65]\tvalidation_0-rmse:0.80961\tvalidation_1-rmse:0.80132\n",
            "[66]\tvalidation_0-rmse:0.80907\tvalidation_1-rmse:0.80099\n",
            "[67]\tvalidation_0-rmse:0.80880\tvalidation_1-rmse:0.80086\n",
            "[68]\tvalidation_0-rmse:0.80836\tvalidation_1-rmse:0.80060\n",
            "[69]\tvalidation_0-rmse:0.80809\tvalidation_1-rmse:0.80056\n",
            "[70]\tvalidation_0-rmse:0.80723\tvalidation_1-rmse:0.79992\n",
            "[71]\tvalidation_0-rmse:0.80694\tvalidation_1-rmse:0.79977\n",
            "[72]\tvalidation_0-rmse:0.80679\tvalidation_1-rmse:0.79965\n",
            "[73]\tvalidation_0-rmse:0.80607\tvalidation_1-rmse:0.79903\n",
            "[74]\tvalidation_0-rmse:0.80560\tvalidation_1-rmse:0.79889\n",
            "[75]\tvalidation_0-rmse:0.80531\tvalidation_1-rmse:0.79861\n",
            "[76]\tvalidation_0-rmse:0.80497\tvalidation_1-rmse:0.79838\n",
            "[77]\tvalidation_0-rmse:0.80432\tvalidation_1-rmse:0.79798\n",
            "[78]\tvalidation_0-rmse:0.80401\tvalidation_1-rmse:0.79787\n",
            "[79]\tvalidation_0-rmse:0.80349\tvalidation_1-rmse:0.79755\n",
            "[80]\tvalidation_0-rmse:0.80325\tvalidation_1-rmse:0.79739\n",
            "[81]\tvalidation_0-rmse:0.80309\tvalidation_1-rmse:0.79735\n",
            "[82]\tvalidation_0-rmse:0.80255\tvalidation_1-rmse:0.79681\n",
            "[83]\tvalidation_0-rmse:0.80210\tvalidation_1-rmse:0.79661\n",
            "[84]\tvalidation_0-rmse:0.80140\tvalidation_1-rmse:0.79607\n",
            "[85]\tvalidation_0-rmse:0.80131\tvalidation_1-rmse:0.79602\n",
            "[86]\tvalidation_0-rmse:0.80059\tvalidation_1-rmse:0.79533\n",
            "[87]\tvalidation_0-rmse:0.79997\tvalidation_1-rmse:0.79485\n",
            "[88]\tvalidation_0-rmse:0.79940\tvalidation_1-rmse:0.79441\n",
            "[89]\tvalidation_0-rmse:0.79906\tvalidation_1-rmse:0.79419\n",
            "[90]\tvalidation_0-rmse:0.79776\tvalidation_1-rmse:0.79406\n",
            "[91]\tvalidation_0-rmse:0.79757\tvalidation_1-rmse:0.79397\n",
            "[92]\tvalidation_0-rmse:0.79695\tvalidation_1-rmse:0.79366\n",
            "[93]\tvalidation_0-rmse:0.79640\tvalidation_1-rmse:0.79321\n",
            "[94]\tvalidation_0-rmse:0.79619\tvalidation_1-rmse:0.79313\n",
            "[95]\tvalidation_0-rmse:0.79574\tvalidation_1-rmse:0.79281\n",
            "[96]\tvalidation_0-rmse:0.79552\tvalidation_1-rmse:0.79277\n",
            "[97]\tvalidation_0-rmse:0.79515\tvalidation_1-rmse:0.79250\n",
            "[98]\tvalidation_0-rmse:0.79492\tvalidation_1-rmse:0.79232\n",
            "[99]\tvalidation_0-rmse:0.79455\tvalidation_1-rmse:0.79206\n"
          ]
        },
        {
          "output_type": "execute_result",
          "data": {
            "text/plain": [
              "XGBRegressor(base_score=None, booster=None, callbacks=None,\n",
              "             colsample_bylevel=None, colsample_bynode=None,\n",
              "             colsample_bytree=None, early_stopping_rounds=300,\n",
              "             enable_categorical=False, eval_metric=None, feature_types=None,\n",
              "             gamma=None, gpu_id=None, grow_policy=None, importance_type=None,\n",
              "             interaction_constraints=None, learning_rate=None, max_bin=None,\n",
              "             max_cat_threshold=None, max_cat_to_onehot=None,\n",
              "             max_delta_step=None, max_depth=None, max_leaves=None,\n",
              "             min_child_weight=None, missing=nan, monotone_constraints=None,\n",
              "             n_estimators=100, n_jobs=None, num_parallel_tree=None,\n",
              "             predictor=None, random_state=None, ...)"
            ],
            "text/html": [
              "<style>#sk-container-id-2 {color: black;background-color: white;}#sk-container-id-2 pre{padding: 0;}#sk-container-id-2 div.sk-toggleable {background-color: white;}#sk-container-id-2 label.sk-toggleable__label {cursor: pointer;display: block;width: 100%;margin-bottom: 0;padding: 0.3em;box-sizing: border-box;text-align: center;}#sk-container-id-2 label.sk-toggleable__label-arrow:before {content: \"▸\";float: left;margin-right: 0.25em;color: #696969;}#sk-container-id-2 label.sk-toggleable__label-arrow:hover:before {color: black;}#sk-container-id-2 div.sk-estimator:hover label.sk-toggleable__label-arrow:before {color: black;}#sk-container-id-2 div.sk-toggleable__content {max-height: 0;max-width: 0;overflow: hidden;text-align: left;background-color: #f0f8ff;}#sk-container-id-2 div.sk-toggleable__content pre {margin: 0.2em;color: black;border-radius: 0.25em;background-color: #f0f8ff;}#sk-container-id-2 input.sk-toggleable__control:checked~div.sk-toggleable__content {max-height: 200px;max-width: 100%;overflow: auto;}#sk-container-id-2 input.sk-toggleable__control:checked~label.sk-toggleable__label-arrow:before {content: \"▾\";}#sk-container-id-2 div.sk-estimator input.sk-toggleable__control:checked~label.sk-toggleable__label {background-color: #d4ebff;}#sk-container-id-2 div.sk-label input.sk-toggleable__control:checked~label.sk-toggleable__label {background-color: #d4ebff;}#sk-container-id-2 input.sk-hidden--visually {border: 0;clip: rect(1px 1px 1px 1px);clip: rect(1px, 1px, 1px, 1px);height: 1px;margin: -1px;overflow: hidden;padding: 0;position: absolute;width: 1px;}#sk-container-id-2 div.sk-estimator {font-family: monospace;background-color: #f0f8ff;border: 1px dotted black;border-radius: 0.25em;box-sizing: border-box;margin-bottom: 0.5em;}#sk-container-id-2 div.sk-estimator:hover {background-color: #d4ebff;}#sk-container-id-2 div.sk-parallel-item::after {content: \"\";width: 100%;border-bottom: 1px solid gray;flex-grow: 1;}#sk-container-id-2 div.sk-label:hover label.sk-toggleable__label {background-color: #d4ebff;}#sk-container-id-2 div.sk-serial::before {content: \"\";position: absolute;border-left: 1px solid gray;box-sizing: border-box;top: 0;bottom: 0;left: 50%;z-index: 0;}#sk-container-id-2 div.sk-serial {display: flex;flex-direction: column;align-items: center;background-color: white;padding-right: 0.2em;padding-left: 0.2em;position: relative;}#sk-container-id-2 div.sk-item {position: relative;z-index: 1;}#sk-container-id-2 div.sk-parallel {display: flex;align-items: stretch;justify-content: center;background-color: white;position: relative;}#sk-container-id-2 div.sk-item::before, #sk-container-id-2 div.sk-parallel-item::before {content: \"\";position: absolute;border-left: 1px solid gray;box-sizing: border-box;top: 0;bottom: 0;left: 50%;z-index: -1;}#sk-container-id-2 div.sk-parallel-item {display: flex;flex-direction: column;z-index: 1;position: relative;background-color: white;}#sk-container-id-2 div.sk-parallel-item:first-child::after {align-self: flex-end;width: 50%;}#sk-container-id-2 div.sk-parallel-item:last-child::after {align-self: flex-start;width: 50%;}#sk-container-id-2 div.sk-parallel-item:only-child::after {width: 0;}#sk-container-id-2 div.sk-dashed-wrapped {border: 1px dashed gray;margin: 0 0.4em 0.5em 0.4em;box-sizing: border-box;padding-bottom: 0.4em;background-color: white;}#sk-container-id-2 div.sk-label label {font-family: monospace;font-weight: bold;display: inline-block;line-height: 1.2em;}#sk-container-id-2 div.sk-label-container {text-align: center;}#sk-container-id-2 div.sk-container {/* jupyter's `normalize.less` sets `[hidden] { display: none; }` but bootstrap.min.css set `[hidden] { display: none !important; }` so we also need the `!important` here to be able to override the default hidden behavior on the sphinx rendered scikit-learn.org. See: https://github.com/scikit-learn/scikit-learn/issues/21755 */display: inline-block !important;position: relative;}#sk-container-id-2 div.sk-text-repr-fallback {display: none;}</style><div id=\"sk-container-id-2\" class=\"sk-top-container\"><div class=\"sk-text-repr-fallback\"><pre>XGBRegressor(base_score=None, booster=None, callbacks=None,\n",
              "             colsample_bylevel=None, colsample_bynode=None,\n",
              "             colsample_bytree=None, early_stopping_rounds=300,\n",
              "             enable_categorical=False, eval_metric=None, feature_types=None,\n",
              "             gamma=None, gpu_id=None, grow_policy=None, importance_type=None,\n",
              "             interaction_constraints=None, learning_rate=None, max_bin=None,\n",
              "             max_cat_threshold=None, max_cat_to_onehot=None,\n",
              "             max_delta_step=None, max_depth=None, max_leaves=None,\n",
              "             min_child_weight=None, missing=nan, monotone_constraints=None,\n",
              "             n_estimators=100, n_jobs=None, num_parallel_tree=None,\n",
              "             predictor=None, random_state=None, ...)</pre><b>In a Jupyter environment, please rerun this cell to show the HTML representation or trust the notebook. <br />On GitHub, the HTML representation is unable to render, please try loading this page with nbviewer.org.</b></div><div class=\"sk-container\" hidden><div class=\"sk-item\"><div class=\"sk-estimator sk-toggleable\"><input class=\"sk-toggleable__control sk-hidden--visually\" id=\"sk-estimator-id-4\" type=\"checkbox\" checked><label for=\"sk-estimator-id-4\" class=\"sk-toggleable__label sk-toggleable__label-arrow\">XGBRegressor</label><div class=\"sk-toggleable__content\"><pre>XGBRegressor(base_score=None, booster=None, callbacks=None,\n",
              "             colsample_bylevel=None, colsample_bynode=None,\n",
              "             colsample_bytree=None, early_stopping_rounds=300,\n",
              "             enable_categorical=False, eval_metric=None, feature_types=None,\n",
              "             gamma=None, gpu_id=None, grow_policy=None, importance_type=None,\n",
              "             interaction_constraints=None, learning_rate=None, max_bin=None,\n",
              "             max_cat_threshold=None, max_cat_to_onehot=None,\n",
              "             max_delta_step=None, max_depth=None, max_leaves=None,\n",
              "             min_child_weight=None, missing=nan, monotone_constraints=None,\n",
              "             n_estimators=100, n_jobs=None, num_parallel_tree=None,\n",
              "             predictor=None, random_state=None, ...)</pre></div></div></div></div></div>"
            ]
          },
          "metadata": {},
          "execution_count": 80
        }
      ]
    },
    {
      "cell_type": "code",
      "source": [
        "def missing_avg(combined_weather_df):\n",
        "  missing_avg_weather_df = combined_weather_df[combined_weather_df[\"avg\"].isnull()]\n",
        "  missing_avg_weather_prediction_X_df = missing_avg_weather_df.drop([\"avg\", \"code\", \"rain\"], axis=1)\n",
        "  missing_avg_weather_prediction_X_df['year'] = missing_avg_weather_prediction_X_df['date'].dt.year\n",
        "  missing_avg_weather_prediction_X_df['month'] = missing_avg_weather_prediction_X_df['date'].dt.month\n",
        "  missing_avg_weather_prediction_X_df['day'] = missing_avg_weather_prediction_X_df['date'].dt.day\n",
        "  missing_avg_weather_prediction_X_df = missing_avg_weather_prediction_X_df.drop(\"date\", axis=1)\n",
        "\n",
        "  missing_avg_weather_prediction_y_df = model.predict(missing_avg_weather_prediction_X_df)\n",
        "  missing_avg_weather_df[\"avg\"] = missing_avg_weather_prediction_y_df\n",
        "  return missing_avg_weather_df\n",
        "\n",
        "missing_avg_weather_df = missing_avg(combined_weather_df)\n",
        "missing_avg_weather_df_pred = missing_avg(combined_weather_df_pred)"
      ],
      "metadata": {
        "id": "P6_m4l24P7Fs",
        "colab": {
          "base_uri": "https://localhost:8080/"
        },
        "outputId": "4fa92c92-e7f4-425a-fca9-726949437ed4"
      },
      "execution_count": null,
      "outputs": [
        {
          "output_type": "stream",
          "name": "stderr",
          "text": [
            "<ipython-input-81-be59528f7ff0>:10: SettingWithCopyWarning: \n",
            "A value is trying to be set on a copy of a slice from a DataFrame.\n",
            "Try using .loc[row_indexer,col_indexer] = value instead\n",
            "\n",
            "See the caveats in the documentation: https://pandas.pydata.org/pandas-docs/stable/user_guide/indexing.html#returning-a-view-versus-a-copy\n",
            "  missing_avg_weather_df[\"avg\"] = missing_avg_weather_prediction_y_df\n",
            "<ipython-input-81-be59528f7ff0>:10: SettingWithCopyWarning: \n",
            "A value is trying to be set on a copy of a slice from a DataFrame.\n",
            "Try using .loc[row_indexer,col_indexer] = value instead\n",
            "\n",
            "See the caveats in the documentation: https://pandas.pydata.org/pandas-docs/stable/user_guide/indexing.html#returning-a-view-versus-a-copy\n",
            "  missing_avg_weather_df[\"avg\"] = missing_avg_weather_prediction_y_df\n"
          ]
        }
      ]
    },
    {
      "cell_type": "code",
      "source": [
        "weather_df = pd.concat([missing_avg_weather_df, no_missing_weather_df], axis=0)\n",
        "weather_df_pred = pd.concat([missing_avg_weather_df_pred, no_missing_weather_df_pred], axis=0)"
      ],
      "metadata": {
        "id": "lkk1w2A7Vzdp"
      },
      "execution_count": null,
      "outputs": []
    },
    {
      "cell_type": "code",
      "source": [
        "weather_df_pred.info()"
      ],
      "metadata": {
        "colab": {
          "base_uri": "https://localhost:8080/"
        },
        "id": "fGvdZ2V2M9Le",
        "outputId": "be3cc149-6439-42c3-ef9e-befb623c948d"
      },
      "execution_count": 6,
      "outputs": [
        {
          "output_type": "stream",
          "name": "stdout",
          "text": [
            "<class 'pandas.core.frame.DataFrame'>\n",
            "RangeIndex: 1525048 entries, 0 to 1525047\n",
            "Data columns (total 9 columns):\n",
            " #   Column      Non-Null Count    Dtype  \n",
            "---  ------      --------------    -----  \n",
            " 0   Unnamed: 0  1525048 non-null  int64  \n",
            " 1   date        1525048 non-null  object \n",
            " 2   avg         1525048 non-null  float64\n",
            " 3   min         1525048 non-null  float64\n",
            " 4   max         1525048 non-null  float64\n",
            " 5   rain        1525048 non-null  float64\n",
            " 6   code        1525048 non-null  object \n",
            " 7   lat         1525048 non-null  float64\n",
            " 8   lon         1525048 non-null  float64\n",
            "dtypes: float64(6), int64(1), object(2)\n",
            "memory usage: 104.7+ MB\n"
          ]
        }
      ]
    },
    {
      "cell_type": "code",
      "source": [
        "filename = 'weather_df.csv'\n",
        "weather_df.to_csv('/content/drive/MyDrive/quant/' + filename)\n",
        "weather_df_pred.to_csv('/content/drive/MyDrive/quant/' + 'preds.csv')"
      ],
      "metadata": {
        "id": "KOTtbsmsM2QR"
      },
      "execution_count": null,
      "outputs": []
    },
    {
      "cell_type": "code",
      "source": [
        "#normalizálás\n",
        "from sklearn.preprocessing import MinMaxScaler\n",
        "\n",
        "def normalize(weather_df):\n",
        "  weather_df[\"avg\"] = weather_df[\"avg\"] - weather_df[\"avg\"].mean() / weather_df[\"avg\"].std()\n",
        "  weather_df[\"min\"] = weather_df[\"min\"] - weather_df[\"min\"].mean() / weather_df[\"min\"].std()\n",
        "  weather_df[\"max\"] = weather_df[\"max\"] - weather_df[\"max\"].mean() / weather_df[\"max\"].std()\n",
        "  weather_df[\"rain\"] = weather_df[\"rain\"] - weather_df[\"rain\"].mean() / weather_df[\"rain\"].std()\n",
        "  return weather_df\n",
        "\n",
        "weather_df = normalize(weather_df)\n",
        "weather_df_pred = normalize(weather_df_pred)"
      ],
      "metadata": {
        "id": "k6BFlIU8QIfO"
      },
      "execution_count": 7,
      "outputs": []
    },
    {
      "cell_type": "code",
      "source": [
        "def to_weekly(station_codes, weather_df, haslocation):\n",
        "  weather_stations = []\n",
        "  for code in station_codes:\n",
        "    station = dict()\n",
        "    station[\"code\"] = code\n",
        "    if haslocation:\n",
        "      station[\"lat\"] = station_location_df[station_location_df[\"Code\"] == code][\"Latitude\"].values[0]\n",
        "      station[\"lon\"] = station_location_df[station_location_df[\"Code\"] == code][\"Longitude\"].values[0]\n",
        "\n",
        "    weather_data = weather_df[weather_df['code'] == code].drop([\"code\", \"lat\", \"lon\"], axis=1)\n",
        "    if 'Unnamed: 0' in weather_data.columns:\n",
        "      weather_data = weather_data.drop('Unnamed: 0', axis=1)\n",
        "    station[\"weather_daily\"] = weather_data\n",
        "\n",
        "    weather_data[\"date\"] = pd.to_datetime(weather_data[\"date\"])\n",
        "    weather_data[\"year\"] = weather_data['date'].dt.year\n",
        "    weather_data['week'] = weather_data['date'].dt.isocalendar().week\n",
        "    weather_data = weather_data.drop(\"date\", axis=1)\n",
        "    weekly_stats = weather_data.groupby(['year', 'week']).agg({'min': ['mean', 'std'], 'max': ['mean', 'std'], 'avg': ['mean', 'std'], 'rain': ['mean', 'std']})\n",
        "    weekly_stats = weekly_stats.reset_index()\n",
        "    weekly_stats.columns = ['year', 'week', 'min_mean', 'min_std', 'max_mean', 'max_std', 'avg_mean', 'avg_std', 'rain_mean', 'rain_std']\n",
        "    weekly_stats = weekly_stats.fillna(0)\n",
        "\n",
        "    if not weekly_stats[\"year\"].isna().any():\n",
        "      for y in np.unique(weekly_stats[\"year\"]):\n",
        "        year = weekly_stats[weekly_stats['year'] == y]\n",
        "        for i in range(1, 53+1):\n",
        "          if not (year['week'] == i).any():\n",
        "            new_row = pd.DataFrame(weekly_stats[weekly_stats['week'] == i].mean()).transpose()\n",
        "            new_row.columns = ['year', 'week', 'min_mean', 'min_std', 'max_mean', 'max_std', 'avg_mean', 'avg_std', 'rain_mean', 'rain_std']\n",
        "            new_row[\"week\"] = i\n",
        "            new_row[\"year\"] = y\n",
        "            weekly_stats = pd.concat([weekly_stats, new_row], ignore_index=True, axis=0)\n",
        "    station[\"weather_weekly\"] = weekly_stats\n",
        "    weather_stations.append(station)\n",
        "  return weather_stations\n",
        "\n",
        "weather_stations = to_weekly(station_codes, weather_df, True)\n",
        "weather_stations_pred = to_weekly(pred_codes, weather_df_pred, False)\n",
        "len(weather_stations)"
      ],
      "metadata": {
        "colab": {
          "base_uri": "https://localhost:8080/"
        },
        "id": "V-BuKtvZP_P-",
        "outputId": "098efda3-8360-40bc-e331-92e91467097a"
      },
      "execution_count": 13,
      "outputs": [
        {
          "output_type": "execute_result",
          "data": {
            "text/plain": [
              "97"
            ]
          },
          "metadata": {},
          "execution_count": 13
        }
      ]
    },
    {
      "cell_type": "markdown",
      "source": [
        "# Prepare crop data"
      ],
      "metadata": {
        "id": "oTL5KERJY8Ls"
      }
    },
    {
      "cell_type": "code",
      "source": [
        "county_locations_df = pd.read_csv(county_location_file_path)\n",
        "county_agr_prod_df = pd.read_csv(county_agr_prod_file_path, decimal=',')"
      ],
      "metadata": {
        "id": "tOs48SDRSVcZ"
      },
      "execution_count": 20,
      "outputs": []
    },
    {
      "cell_type": "code",
      "source": [
        "county_agr_prod_df.info()"
      ],
      "metadata": {
        "colab": {
          "base_uri": "https://localhost:8080/"
        },
        "id": "GyM5JdLCxfHC",
        "outputId": "3d99de8f-c1c7-488a-b5ed-cbd61eb00b92"
      },
      "execution_count": 21,
      "outputs": [
        {
          "output_type": "stream",
          "name": "stdout",
          "text": [
            "<class 'pandas.core.frame.DataFrame'>\n",
            "RangeIndex: 56268 entries, 0 to 56267\n",
            "Data columns (total 7 columns):\n",
            " #   Column                        Non-Null Count  Dtype \n",
            "---  ------                        --------------  ----- \n",
            " 0   Year                          56268 non-null  int64 \n",
            " 1   County                        56268 non-null  object\n",
            " 2   Commodity                     56268 non-null  object\n",
            " 3   Crop                          56268 non-null  object\n",
            " 4   ACRES HARVESTED               52674 non-null  object\n",
            " 5   PRODUCTION, MEASURED IN BU    33231 non-null  object\n",
            " 6   YIELD, MEASURED IN BU / ACRE  33232 non-null  object\n",
            "dtypes: int64(1), object(6)\n",
            "memory usage: 3.0+ MB\n"
          ]
        }
      ]
    },
    {
      "cell_type": "code",
      "source": [
        "county_agr_prod_df = county_agr_prod_df.rename(\n",
        "    columns={'ACRES HARVESTED': 'acres', \n",
        "             'PRODUCTION, MEASURED IN BU': 'production', \n",
        "             'YIELD, MEASURED IN BU / ACRE': 'yield'})\n",
        "county_agr_prod_df['acres'] = pd.to_numeric(county_agr_prod_df['acres'].astype(str).str.replace(',', '.'), errors='coerce')\n",
        "county_agr_prod_df['production'] = pd.to_numeric(county_agr_prod_df['production'].astype(str).str.replace(',', '.'), errors='coerce')\n",
        "county_agr_prod_df['yield'] = pd.to_numeric(county_agr_prod_df['yield'].astype(str).str.replace(',', '.'), errors='coerce')\n",
        "county_agr_prod_df = county_agr_prod_df[county_agr_prod_df['acres'].notnull() | county_agr_prod_df['production'].notnull() | county_agr_prod_df['yield'].notnull()]\n",
        "\n",
        "corn_df = county_agr_prod_df[county_agr_prod_df[\"Crop\"] == \"CORN, GRAIN\"] #| county_agr_prod_df[\"Crop\"] == \"CORN, SILAGE\"]\n",
        "oat_df = county_agr_prod_df[county_agr_prod_df[\"Crop\"] == \"OATS\"]\n",
        "soybean_df = county_agr_prod_df[county_agr_prod_df[\"Crop\"] == \"SOYBEANS\"]"
      ],
      "metadata": {
        "id": "b5jds8rVuQh0"
      },
      "execution_count": 22,
      "outputs": []
    },
    {
      "cell_type": "code",
      "source": [
        "import matplotlib.pyplot as plt\n",
        "import seaborn as sns\n",
        "\n",
        "plot = corn_df\n",
        "\n",
        "plot = plot[plot['acres'].notnull() & plot['production'].notnull() & plot['yield'].notnull()]\n",
        "numeric_columns = plot.select_dtypes(include=['int64', 'float64']).columns\n",
        "\n",
        "cm = np.corrcoef(plot[numeric_columns].values.T)\n",
        "fig = plt.gcf()\n",
        "fig.set_size_inches(8, 5)\n",
        "hm = sns.heatmap(cm, cbar=True, annot=True, square=True, fmt='.2f', annot_kws={'size': 10}, yticklabels=numeric_columns.values, xticklabels=numeric_columns.values)"
      ],
      "metadata": {
        "colab": {
          "base_uri": "https://localhost:8080/",
          "height": 451
        },
        "id": "9utKbQqPsgCP",
        "outputId": "f8180e58-32bc-4c81-bf61-8f0349d43342"
      },
      "execution_count": 23,
      "outputs": [
        {
          "output_type": "display_data",
          "data": {
            "text/plain": [
              "<Figure size 800x500 with 2 Axes>"
            ],
            "image/png": "[encoded data removed]"
          },
          "metadata": {}
        }
      ]
    },
    {
      "cell_type": "code",
      "source": [
        "county_locations_df['county_name'] = county_locations_df['county_name'].apply(lambda x: ' '.join(x.split()[:-1]).upper())\n",
        "county_locations_df['county_name'] = county_locations_df['county_name'].str.replace('SAINT LOUIS', 'ST. LOUIS')\n",
        "\n",
        "corn_df_extended = pd.merge(corn_df, county_locations_df, how='outer', left_on='County', right_on='county_name')\n",
        "oat_df_extended = pd.merge(oat_df, county_locations_df, how='outer', left_on='County', right_on='county_name')\n",
        "soybean_df_extended = pd.merge(soybean_df, county_locations_df, how='outer', left_on='County', right_on='county_name')"
      ],
      "metadata": {
        "id": "QabfB3Ue0xPQ"
      },
      "execution_count": 24,
      "outputs": []
    },
    {
      "cell_type": "code",
      "source": [
        "def clean(df):\n",
        "  df_clean = df.drop([\"County\", \"Commodity\", \"Crop\", \"county_name\", \"capital_name\", \"production\", \"acres\"], axis=1)\n",
        "  df_clean = df_clean[df_clean[\"yield\"].notnull() & df_clean[\"county_latitude\"].notnull() & df_clean[\"county_longitude\"].notnull()]\n",
        "  return df_clean\n",
        "\n",
        "corn_df_clean = clean(corn_df_extended)\n",
        "oat_df_clean = clean(oat_df_extended)\n",
        "soybean_df_clean = clean(soybean_df_extended)"
      ],
      "metadata": {
        "id": "o1YyMFKt2nwd"
      },
      "execution_count": 25,
      "outputs": []
    },
    {
      "cell_type": "markdown",
      "source": [
        "#Putting it all together..."
      ],
      "metadata": {
        "id": "Beqwdxfnjv2A"
      }
    },
    {
      "cell_type": "code",
      "source": [
        "corn_df_clean.info() #corn clean df"
      ],
      "metadata": {
        "colab": {
          "base_uri": "https://localhost:8080/"
        },
        "id": "cH8u1G-bKoYN",
        "outputId": "1233b3a1-ed70-43b6-a5b0-e022b944310c"
      },
      "execution_count": 26,
      "outputs": [
        {
          "output_type": "stream",
          "name": "stdout",
          "text": [
            "<class 'pandas.core.frame.DataFrame'>\n",
            "Int64Index: 5014 entries, 0 to 5014\n",
            "Data columns (total 4 columns):\n",
            " #   Column            Non-Null Count  Dtype  \n",
            "---  ------            --------------  -----  \n",
            " 0   Year              5014 non-null   float64\n",
            " 1   yield             5014 non-null   float64\n",
            " 2   county_latitude   5014 non-null   float64\n",
            " 3   county_longitude  5014 non-null   float64\n",
            "dtypes: float64(4)\n",
            "memory usage: 195.9 KB\n"
          ]
        }
      ]
    },
    {
      "cell_type": "code",
      "source": [
        "oat_df_clean.info()"
      ],
      "metadata": {
        "colab": {
          "base_uri": "https://localhost:8080/"
        },
        "id": "f3xWoNayep1b",
        "outputId": "6c9d524d-ae9a-40c6-98e5-f0df306e73bc"
      },
      "execution_count": 27,
      "outputs": [
        {
          "output_type": "stream",
          "name": "stdout",
          "text": [
            "<class 'pandas.core.frame.DataFrame'>\n",
            "Int64Index: 4735 entries, 0 to 4734\n",
            "Data columns (total 4 columns):\n",
            " #   Column            Non-Null Count  Dtype  \n",
            "---  ------            --------------  -----  \n",
            " 0   Year              4735 non-null   float64\n",
            " 1   yield             4735 non-null   float64\n",
            " 2   county_latitude   4735 non-null   float64\n",
            " 3   county_longitude  4735 non-null   float64\n",
            "dtypes: float64(4)\n",
            "memory usage: 185.0 KB\n"
          ]
        }
      ]
    },
    {
      "cell_type": "code",
      "source": [
        "soybean_df_clean.info()"
      ],
      "metadata": {
        "colab": {
          "base_uri": "https://localhost:8080/"
        },
        "id": "Fj0H9DgVetJ7",
        "outputId": "2b8ea004-1dd8-4dbc-ed7b-4f2fdc21e80e"
      },
      "execution_count": 28,
      "outputs": [
        {
          "output_type": "stream",
          "name": "stdout",
          "text": [
            "<class 'pandas.core.frame.DataFrame'>\n",
            "Int64Index: 4756 entries, 0 to 4845\n",
            "Data columns (total 4 columns):\n",
            " #   Column            Non-Null Count  Dtype  \n",
            "---  ------            --------------  -----  \n",
            " 0   Year              4756 non-null   float64\n",
            " 1   yield             4756 non-null   float64\n",
            " 2   county_latitude   4756 non-null   float64\n",
            " 3   county_longitude  4756 non-null   float64\n",
            "dtypes: float64(4)\n",
            "memory usage: 185.8 KB\n"
          ]
        }
      ]
    },
    {
      "cell_type": "code",
      "source": [
        "from math import radians, sin, cos, sqrt, atan2\n",
        "\n",
        "def distance(lat1, lon1, lat2, lon2):\n",
        "    R = 6371  # Earth radius in km\n",
        "\n",
        "    # Convert latitude and longitude to radians\n",
        "    lat1 = radians(lat1)\n",
        "    lon1 = radians(lon1)\n",
        "    lat2 = radians(lat2)\n",
        "    lon2 = radians(lon2)\n",
        "\n",
        "    # Calculate the differences between the two points\n",
        "    dlat = lat2 - lat1\n",
        "    dlon = lon2 - lon1\n",
        "\n",
        "    # Calculate the haversine of half the differences\n",
        "    a = sin(dlat / 2) ** 2 + cos(lat1) * cos(lat2) * sin(dlon / 2) ** 2\n",
        "\n",
        "    # Calculate the great circle distance\n",
        "    c = 2 * atan2(sqrt(a), sqrt(1 - a))\n",
        "\n",
        "    # Calculate the distance in kilometers\n",
        "    dist = R * c\n",
        "\n",
        "    return dist\n",
        "\n",
        "\n",
        "def distance_from_station(weather_station, lat, lon):\n",
        "  return distance(weather_station[\"lat\"], weather_station[\"lon\"], lat, lon)\n"
      ],
      "metadata": {
        "id": "Ssfy3I5gezAQ"
      },
      "execution_count": 29,
      "outputs": []
    },
    {
      "cell_type": "code",
      "source": [
        "weather_staions = list(filter(lambda x: len(x[\"weather_weekly\"]) != 0, weather_stations))\n",
        "weather_staions_pred = list(filter(lambda x: len(x[\"weather_weekly\"]) != 0, weather_stations_pred))"
      ],
      "metadata": {
        "id": "9-E-7HYRy1W5"
      },
      "execution_count": 31,
      "outputs": []
    },
    {
      "cell_type": "code",
      "source": [
        "len(weather_stations_pred)"
      ],
      "metadata": {
        "colab": {
          "base_uri": "https://localhost:8080/"
        },
        "id": "jI0T8U9Jrjpd",
        "outputId": "caba28b4-f2c5-45ff-e28b-0a335a2c668f"
      },
      "execution_count": 33,
      "outputs": [
        {
          "output_type": "execute_result",
          "data": {
            "text/plain": [
              "198"
            ]
          },
          "metadata": {},
          "execution_count": 33
        }
      ]
    },
    {
      "cell_type": "code",
      "source": [
        "def to_feature_data(df_clean):\n",
        "  data = []\n",
        "  for _, y in df_clean.iterrows():\n",
        "    yearly_data = dict()\n",
        "    yearly_data[\"year\"] = y[\"Year\"]\n",
        "    yearly_data[\"yield\"] = y[\"yield\"]\n",
        "    county_lat = y[\"county_latitude\"]\n",
        "    county_lon = y[\"county_longitude\"]\n",
        "    stations = sorted(weather_stations, key=lambda s:distance_from_station(s, county_lat, county_lon))\n",
        "\n",
        "    i = 0\n",
        "    while distance_from_station(stations[i], county_lat, county_lon) < 120:\n",
        "      station_weekly = stations[i][\"weather_weekly\"]\n",
        "      yearly_data[\"weather\"] = station_weekly[station_weekly[\"year\"] == y[\"Year\"]]\n",
        "      if yearly_data[\"weather\"].shape[0] == 53:\n",
        "        data.append(yearly_data)\n",
        "        break\n",
        "      i += 1\n",
        "  return data\n",
        "\n",
        "def to_pred_data(weather_staions_pred):\n",
        "  data = []\n",
        "  meta = []\n",
        "  yearss = list(map(lambda x: np.unique(x['weather_weekly']['year']), weather_staions_pred))\n",
        "  for station, years in zip(weather_staions_pred, yearss):\n",
        "    for year in years:\n",
        "      yearly_data = dict()\n",
        "      yearly_meta = dict()\n",
        "      yearly_meta['year'] = year\n",
        "      yearly_meta[\"code\"] = station[\"code\"]\n",
        "      yearly_data[\"year\"] = year\n",
        "      station_weekly = station[\"weather_weekly\"]\n",
        "      yearly_data[\"weather\"] = station_weekly[station_weekly[\"year\"] == year].sort_values(\"week\")\n",
        "      yearly_data[\"weather\"] = yearly_data[\"weather\"].drop([\"year\", \"week\"], axis=1)\n",
        "      data.append(yearly_data)\n",
        "  return data, meta\n",
        "\n",
        "\n",
        "corn_data = to_feature_data(corn_df_clean)\n",
        "oat_data = to_feature_data(oat_df_clean)\n",
        "soybean_data = to_feature_data(soybean_df_clean)\n",
        "\n",
        "pred_data, pred_meta = to_pred_data(weather_stations_pred)"
      ],
      "metadata": {
        "id": "lhrOAw9cY5so"
      },
      "execution_count": 34,
      "outputs": []
    },
    {
      "cell_type": "code",
      "source": [
        "len(pred_data)"
      ],
      "metadata": {
        "colab": {
          "base_uri": "https://localhost:8080/"
        },
        "id": "NmSXLlZAefp1",
        "outputId": "99b38de1-e966-4a1c-a69e-0df6963d179b"
      },
      "execution_count": 36,
      "outputs": [
        {
          "output_type": "execute_result",
          "data": {
            "text/plain": [
              "4714"
            ]
          },
          "metadata": {},
          "execution_count": 36
        }
      ]
    },
    {
      "cell_type": "code",
      "source": [
        "#valid_adatok = []\n",
        "#for tav in range(10, 200, 5):\n",
        "#  data = []\n",
        "#  for _, y in corn_df_clean.iterrows():\n",
        "#    yearly_data = dict()\n",
        "#    yearly_data[\"year\"] = y[\"Year\"]\n",
        "#    yearly_data[\"yield\"] = y[\"yield\"]\n",
        "#    county_lat = y[\"county_latitude\"]\n",
        "#    county_lon = y[\"county_longitude\"]\n",
        "#    stations = sorted(weather_stations, key=lambda s:distance_from_station(s, county_lat, county_lon))\n",
        "#\n",
        "#    i = 0\n",
        "#    while distance_from_station(stations[i], county_lat, county_lon) < tav:\n",
        "#      station_weekly = stations[i][\"weather_weekly\"]\n",
        "#      yearly_data[\"weather\"] = station_weekly[station_weekly[\"year\"] == y[\"Year\"]]\n",
        "#      if not yearly_data['weather'].empty:\n",
        "#        data.append(yearly_data)\n",
        "#        break\n",
        "#      i += 1\n",
        "    \n",
        "#  valid_adatok.append(len(data))"
      ],
      "metadata": {
        "id": "kLMw5UuN4WYs"
      },
      "execution_count": null,
      "outputs": []
    },
    {
      "cell_type": "code",
      "source": [
        "#import matplotlib.pyplot as plt\n",
        "#x_values = [10+x*5 for x in range(len(valid_adatok))]\n",
        "#plt.xticks(range(len(valid_adatok)), x_values, rotation=90)\n",
        "#plt.plot(valid_adatok)"
      ],
      "metadata": {
        "id": "PnaGDlITs_po"
      },
      "execution_count": null,
      "outputs": []
    },
    {
      "cell_type": "markdown",
      "source": [
        "# Train and validation set\n"
      ],
      "metadata": {
        "id": "djQd8XN0onm1"
      }
    },
    {
      "cell_type": "code",
      "source": [
        "def clean_data(data, split_ratio = 0.9):\n",
        "  \n",
        "  X_weather = []\n",
        "  for sample in data:\n",
        "      weather_data = sample[\"weather\"].to_numpy()\n",
        "      X_weather.append(weather_data)\n",
        "\n",
        "  X_year = np.array(list(map(lambda s: s[\"year\"], data)))\n",
        "\n",
        "  if split_ratio == 1:\n",
        "    return X_weather, X_year\n",
        "\n",
        "  y = np.array(list(map(lambda s: s[\"yield\"], data)))\n",
        "  \n",
        "  split = int(len(data)*split_ratio)\n",
        "\n",
        "  X_weather_train = np.stack(X_weather[:split])\n",
        "  X_weather_val = np.stack(X_weather[split:])\n",
        "  X_year_train = X_year[:split]\n",
        "  X_year_val = X_year[split:]\n",
        "  y_train = y[:split]\n",
        "  y_val = y[split:]\n",
        "  return X_weather_train, X_weather_val, X_year_train, X_year_val, y_train, y_val, y\n",
        "\n",
        "\n",
        "X_weather_train_corn, X_weather_val_corn, X_year_train_corn, X_year_val_corn, y_train_corn, y_val_corn, _ = clean_data(corn_data)\n",
        "X_weather_train_oat, X_weather_val_oat, X_year_train_oat, X_year_val_oat, y_train_oat, y_val_oat, _ = clean_data(oat_data)\n",
        "X_weather_train_soybean, X_weather_val_soybean, X_year_train_soybean, X_year_val_soybean, y_train_soybean, y_val_soybean, _ = clean_data(soybean_data)\n",
        "\n",
        "X_weather, X_year = clean_data(pred_data, 1)"
      ],
      "metadata": {
        "id": "wKM-f1R4k0pI"
      },
      "execution_count": 49,
      "outputs": []
    },
    {
      "cell_type": "markdown",
      "source": [
        "# LSTM model"
      ],
      "metadata": {
        "id": "0x1pxUTBorhz"
      }
    },
    {
      "cell_type": "code",
      "source": [
        "import tensorflow as tf\n",
        "from tensorflow.keras.layers import Input, Dense, LSTM, Dropout, Concatenate, BatchNormalization\n",
        "from tensorflow.keras.models import Model\n",
        "\n",
        "seq_input = Input(shape=(52, 8))\n",
        "int_input = Input(shape=(1,))\n",
        "\n",
        "lstm1 = LSTM(256, return_sequences=True, kernel_regularizer=\"l2\")(seq_input)\n",
        "drop1 = Dropout(0.2)(lstm1)\n",
        "lstm2 = LSTM(128, return_sequences=False, kernel_regularizer=\"l2\")(drop1)\n",
        "bn1 = BatchNormalization()(lstm2)\n",
        "drop2 = Dropout(0.2)(bn1)\n",
        "\n",
        "concat = Concatenate()([drop2, int_input])\n",
        "\n",
        "dense1 = Dense(32, activation='relu')(concat)\n",
        "dense2 = Dense(1, activation='linear')(dense1)\n",
        "\n",
        "model = Model(inputs=[seq_input, int_input], outputs=dense2)\n",
        "\n",
        "model.compile(optimizer='adam', loss='mean_squared_error')"
      ],
      "metadata": {
        "id": "HWlUq1jmZ0w-"
      },
      "execution_count": 50,
      "outputs": []
    },
    {
      "cell_type": "code",
      "source": [
        "model.summary()"
      ],
      "metadata": {
        "id": "aTi1A4r22uaO",
        "outputId": "1b845f13-8acb-41f5-df9c-7f62d9474f1c",
        "colab": {
          "base_uri": "https://localhost:8080/"
        }
      },
      "execution_count": 51,
      "outputs": [
        {
          "output_type": "stream",
          "name": "stdout",
          "text": [
            "Model: \"model\"\n",
            "__________________________________________________________________________________________________\n",
            " Layer (type)                   Output Shape         Param #     Connected to                     \n",
            "==================================================================================================\n",
            " input_1 (InputLayer)           [(None, 52, 8)]      0           []                               \n",
            "                                                                                                  \n",
            " lstm (LSTM)                    (None, 52, 256)      271360      ['input_1[0][0]']                \n",
            "                                                                                                  \n",
            " dropout (Dropout)              (None, 52, 256)      0           ['lstm[0][0]']                   \n",
            "                                                                                                  \n",
            " lstm_1 (LSTM)                  (None, 128)          197120      ['dropout[0][0]']                \n",
            "                                                                                                  \n",
            " batch_normalization (BatchNorm  (None, 128)         512         ['lstm_1[0][0]']                 \n",
            " alization)                                                                                       \n",
            "                                                                                                  \n",
            " dropout_1 (Dropout)            (None, 128)          0           ['batch_normalization[0][0]']    \n",
            "                                                                                                  \n",
            " input_2 (InputLayer)           [(None, 1)]          0           []                               \n",
            "                                                                                                  \n",
            " concatenate (Concatenate)      (None, 129)          0           ['dropout_1[0][0]',              \n",
            "                                                                  'input_2[0][0]']                \n",
            "                                                                                                  \n",
            " dense (Dense)                  (None, 32)           4160        ['concatenate[0][0]']            \n",
            "                                                                                                  \n",
            " dense_1 (Dense)                (None, 1)            33          ['dense[0][0]']                  \n",
            "                                                                                                  \n",
            "==================================================================================================\n",
            "Total params: 473,185\n",
            "Trainable params: 472,929\n",
            "Non-trainable params: 256\n",
            "__________________________________________________________________________________________________\n"
          ]
        }
      ]
    },
    {
      "cell_type": "code",
      "source": [
        "from tensorflow.keras.callbacks import EarlyStopping, TensorBoard\n",
        "\n",
        "early_stopping = EarlyStopping(monitor='loss', restore_best_weights=True, patience=10)\n",
        "tb = TensorBoard(log_dir='content/logs', histogram_freq=1, write_graph=True)\n",
        "\n",
        "model.fit([X_weather_train_corn, X_year_train_corn], y_train_corn, validation_data=([X_weather_val_corn, X_year_val_corn], y_val_corn), epochs=1000, batch_size=64, callbacks=[early_stopping])"
      ],
      "metadata": {
        "colab": {
          "base_uri": "https://localhost:8080/"
        },
        "id": "qME-IZi-fzJz",
        "outputId": "66a3d1f4-7a37-4a11-cb2d-ec4ce0bca2e2"
      },
      "execution_count": null,
      "outputs": [
        {
          "output_type": "stream",
          "name": "stdout",
          "text": [
            "Epoch 1/1000\n",
            "32/32 [==============================] - 6s 38ms/step - loss: 5176.8057 - val_loss: 2512.4248\n",
            "Epoch 2/1000\n",
            "32/32 [==============================] - 0s 11ms/step - loss: 1003.4471 - val_loss: 1395.1454\n",
            "Epoch 3/1000\n",
            "32/32 [==============================] - 0s 11ms/step - loss: 699.6997 - val_loss: 1297.8213\n",
            "Epoch 4/1000\n",
            "32/32 [==============================] - 0s 10ms/step - loss: 552.3714 - val_loss: 1199.7693\n",
            "Epoch 5/1000\n",
            "32/32 [==============================] - 0s 11ms/step - loss: 500.2223 - val_loss: 1099.4658\n",
            "Epoch 6/1000\n",
            "32/32 [==============================] - 0s 11ms/step - loss: 488.2756 - val_loss: 778.6960\n",
            "Epoch 7/1000\n",
            "32/32 [==============================] - 0s 11ms/step - loss: 466.7027 - val_loss: 906.3442\n",
            "Epoch 8/1000\n",
            "32/32 [==============================] - 0s 11ms/step - loss: 437.7279 - val_loss: 614.1481\n",
            "Epoch 9/1000\n",
            "32/32 [==============================] - 0s 11ms/step - loss: 394.5049 - val_loss: 995.3036\n",
            "Epoch 10/1000\n",
            "32/32 [==============================] - 0s 10ms/step - loss: 407.4181 - val_loss: 691.0591\n",
            "Epoch 11/1000\n",
            "32/32 [==============================] - 0s 11ms/step - loss: 372.8770 - val_loss: 1001.6033\n",
            "Epoch 12/1000\n",
            "32/32 [==============================] - 0s 10ms/step - loss: 382.3663 - val_loss: 456.0581\n",
            "Epoch 13/1000\n",
            "32/32 [==============================] - 0s 11ms/step - loss: 383.7336 - val_loss: 351.3692\n",
            "Epoch 14/1000\n",
            "32/32 [==============================] - 0s 11ms/step - loss: 408.6647 - val_loss: 647.1225\n",
            "Epoch 15/1000\n",
            "32/32 [==============================] - 0s 11ms/step - loss: 343.1978 - val_loss: 431.9774\n",
            "Epoch 16/1000\n",
            "32/32 [==============================] - 0s 11ms/step - loss: 369.8567 - val_loss: 285.0135\n",
            "Epoch 17/1000\n",
            "32/32 [==============================] - 0s 14ms/step - loss: 354.8279 - val_loss: 359.6630\n",
            "Epoch 18/1000\n",
            "32/32 [==============================] - 0s 14ms/step - loss: 333.2217 - val_loss: 290.8839\n",
            "Epoch 19/1000\n",
            "32/32 [==============================] - 1s 16ms/step - loss: 330.2341 - val_loss: 311.5002\n",
            "Epoch 20/1000\n",
            "32/32 [==============================] - 0s 15ms/step - loss: 315.7722 - val_loss: 381.7077\n",
            "Epoch 21/1000\n",
            "32/32 [==============================] - 0s 15ms/step - loss: 306.3930 - val_loss: 258.4178\n",
            "Epoch 22/1000\n",
            "32/32 [==============================] - 0s 15ms/step - loss: 282.2019 - val_loss: 279.1126\n",
            "Epoch 23/1000\n",
            "32/32 [==============================] - 0s 14ms/step - loss: 309.8369 - val_loss: 343.1382\n",
            "Epoch 24/1000\n",
            "32/32 [==============================] - 0s 13ms/step - loss: 315.0755 - val_loss: 234.3015\n",
            "Epoch 25/1000\n",
            "32/32 [==============================] - 0s 10ms/step - loss: 289.6318 - val_loss: 359.7504\n",
            "Epoch 26/1000\n",
            "32/32 [==============================] - 0s 11ms/step - loss: 312.9264 - val_loss: 434.4951\n",
            "Epoch 27/1000\n",
            "32/32 [==============================] - 0s 11ms/step - loss: 290.4532 - val_loss: 340.9550\n",
            "Epoch 28/1000\n",
            "32/32 [==============================] - 0s 11ms/step - loss: 288.9664 - val_loss: 315.1982\n",
            "Epoch 29/1000\n",
            "32/32 [==============================] - 0s 11ms/step - loss: 280.4513 - val_loss: 296.3294\n",
            "Epoch 30/1000\n",
            "32/32 [==============================] - 0s 11ms/step - loss: 291.3798 - val_loss: 280.6487\n",
            "Epoch 31/1000\n",
            "32/32 [==============================] - 0s 11ms/step - loss: 293.9720 - val_loss: 471.9021\n",
            "Epoch 32/1000\n",
            "32/32 [==============================] - 0s 11ms/step - loss: 274.7715 - val_loss: 641.2162\n",
            "Epoch 33/1000\n",
            "32/32 [==============================] - 0s 11ms/step - loss: 252.3666 - val_loss: 264.6871\n",
            "Epoch 34/1000\n",
            "32/32 [==============================] - 0s 11ms/step - loss: 257.2711 - val_loss: 248.1616\n",
            "Epoch 35/1000\n",
            "32/32 [==============================] - 0s 11ms/step - loss: 269.5468 - val_loss: 303.1851\n",
            "Epoch 36/1000\n",
            "32/32 [==============================] - 0s 11ms/step - loss: 268.2408 - val_loss: 317.4674\n",
            "Epoch 37/1000\n",
            "32/32 [==============================] - 0s 11ms/step - loss: 261.1736 - val_loss: 234.5044\n",
            "Epoch 38/1000\n",
            "32/32 [==============================] - 0s 11ms/step - loss: 254.1185 - val_loss: 248.1664\n",
            "Epoch 39/1000\n",
            "32/32 [==============================] - 0s 11ms/step - loss: 272.6535 - val_loss: 346.6021\n",
            "Epoch 40/1000\n",
            "32/32 [==============================] - 0s 11ms/step - loss: 264.5374 - val_loss: 235.9490\n",
            "Epoch 41/1000\n",
            "32/32 [==============================] - 0s 11ms/step - loss: 273.2596 - val_loss: 227.9472\n",
            "Epoch 42/1000\n",
            "32/32 [==============================] - 0s 11ms/step - loss: 291.1886 - val_loss: 237.6882\n",
            "Epoch 43/1000\n",
            "32/32 [==============================] - 0s 11ms/step - loss: 266.1427 - val_loss: 234.2957\n"
          ]
        },
        {
          "output_type": "execute_result",
          "data": {
            "text/plain": [
              "<keras.callbacks.History at 0x7f11ec80e220>"
            ]
          },
          "metadata": {},
          "execution_count": 78
        }
      ]
    },
    {
      "cell_type": "code",
      "source": [
        "%load_ext tensorboard\n",
        "%tensorboard --logdir content/logs --load_fast=fals"
      ],
      "metadata": {
        "id": "HW--UeE59Hy-"
      },
      "execution_count": null,
      "outputs": []
    },
    {
      "cell_type": "code",
      "source": [
        "loss = model.evaluate([X_weather_val_corn, X_year_val_corn], y_val_corn)\n",
        "print('Validation loss:', loss)"
      ],
      "metadata": {
        "id": "sFxSpj20f8vj"
      },
      "execution_count": null,
      "outputs": []
    },
    {
      "cell_type": "markdown",
      "source": [
        "# XGBoost model\n",
        "For corn yield prediction at first..."
      ],
      "metadata": {
        "id": "dsZc3YAuoyfq"
      }
    },
    {
      "cell_type": "code",
      "source": [
        "from xgboost import XGBRegressor\n",
        "import numpy as np\n",
        "\n",
        "def to_vector(data, split_ratio = 0.9):\n",
        "  if split_ratio == 1:\n",
        "    X_weather, X_year = clean_data(data, split_ratio = split_ratio)\n",
        "    X = []\n",
        "    for i in range(len(X_weather)):\n",
        "      X.append(np.append(X_year[i], np.array(X_weather[i]).flatten()))\n",
        "    X = pd.DataFrame(np.stack(X))\n",
        "    return X\n",
        "\n",
        "  X_weather_train, X_weather_val, X_year_train, X_year_val, y_train, y_val, y = clean_data(data, split_ratio = split_ratio)\n",
        "  X = []\n",
        "  X_train = []\n",
        "  for i in range(len(X_weather_train)):\n",
        "    X.append(np.append(X_year_train[i], np.array(X_weather_train[i]).flatten()))\n",
        "    X_train.append(np.append(X_year_train[i], np.array(X_weather_train[i]).flatten()))\n",
        "  X_train = np.stack(X_train)\n",
        "\n",
        "  X_val = []\n",
        "  for i in range(len(X_weather_val)):\n",
        "    X.append(np.append(X_year_val[i], np.array(X_weather_val[i]).flatten()))\n",
        "    X_val.append(np.append(X_year_val[i], np.array(X_weather_val[i]).flatten()))\n",
        "\n",
        "  X_val = np.stack(X_val)\n",
        "  X = pd.DataFrame(np.stack(X)).astype(float)\n",
        "  y = pd.DataFrame(y).astype(float)\n",
        "  return X, X_train, X_val, y, y_train, y_val\n",
        "\n",
        "\n",
        "\n",
        "X_corn, X_train_corn, X_val_corn, y_corn, y_train_corn, y_val_corn = to_vector(corn_data, 0.9)\n",
        "X_oat, X_train_oat, X_val_oat, y_oat, y_train_oat, y_val_oat = to_vector(oat_data, 0.9)\n",
        "X_soybean, X_train_soybean, X_val_soybean, y_soybean, y_train_soybean, y_val_soybean = to_vector(soybean_data, 0.9)\n",
        "\n",
        "X = to_vector(pred_data, 1)"
      ],
      "metadata": {
        "id": "wOa59SwXax5a"
      },
      "execution_count": 66,
      "outputs": []
    },
    {
      "cell_type": "code",
      "source": [
        "param_grid = {'n_estimators': [ 1000, 1500, 1750, 2000, 2500, 3000],\n",
        "   \"learning_rate\": [0.03, 0.04, 0.045, 0.05,0.065 ],\n",
        "   \"max_depth\": [ 1, 2, 3, 4, 5, 6, 8],\n",
        "   \"min_child_weight\": [3, 4, 5, 6, 7],\n",
        "   \"gamma\": [ 0.3, 0.4, 0.5, 0.6, 0.7],\n",
        "   \"colsample_bytree\": [ 0.1, 0.2, 0.25, 0.3]\n",
        "}"
      ],
      "metadata": {
        "id": "_NxD_wV7ZuXr"
      },
      "execution_count": 53,
      "outputs": []
    },
    {
      "cell_type": "code",
      "source": [
        "from sklearn.model_selection import RandomizedSearchCV\n",
        "from xgboost import XGBRegressor\n",
        "\n",
        "RS_XGB = RandomizedSearchCV(estimator=XGBRegressor(early_stopping_rounds=20), param_distributions=param_grid, n_iter=15, cv=5 ,n_jobs=-1, random_state=0)\n",
        "RS_XGB.fit(X_train_corn, y_train_corn, eval_set=[(X_train_corn,y_train_corn),(X_val_corn,y_val_corn)],verbose=0)"
      ],
      "metadata": {
        "id": "RS29W9VCZxlx",
        "colab": {
          "base_uri": "https://localhost:8080/",
          "height": 118
        },
        "outputId": "cc0d576a-da33-4763-a9e0-20315f33c808"
      },
      "execution_count": null,
      "outputs": [
        {
          "output_type": "execute_result",
          "data": {
            "text/plain": [
              "RandomizedSearchCV(cv=5,\n",
              "                   estimator=XGBRegressor(base_score=None, booster=None,\n",
              "                                          callbacks=None,\n",
              "                                          colsample_bylevel=None,\n",
              "                                          colsample_bynode=None,\n",
              "                                          colsample_bytree=None,\n",
              "                                          early_stopping_rounds=20,\n",
              "                                          enable_categorical=False,\n",
              "                                          eval_metric=None, feature_types=None,\n",
              "                                          gamma=None, gpu_id=None,\n",
              "                                          grow_policy=None,\n",
              "                                          importance_type=None,\n",
              "                                          interaction_constraints=None,\n",
              "                                          learning_rate=No...\n",
              "                                          min_child_weight=None, missing=nan,\n",
              "                                          monotone_constraints=None,\n",
              "                                          n_estimators=100, n_jobs=None,\n",
              "                                          num_parallel_tree=None,\n",
              "                                          predictor=None, random_state=None, ...),\n",
              "                   n_iter=15, n_jobs=-1,\n",
              "                   param_distributions={'colsample_bytree': [0.1, 0.3],\n",
              "                                        'gamma': [0.3, 0.7],\n",
              "                                        'learning_rate': [0.03, 0.08],\n",
              "                                        'max_depth': [3, 8],\n",
              "                                        'min_child_weight': [3, 7],\n",
              "                                        'n_estimators': [1000, 1500, 2000]},\n",
              "                   random_state=0)"
            ],
            "text/html": [
              "<style>#sk-container-id-1 {color: black;background-color: white;}#sk-container-id-1 pre{padding: 0;}#sk-container-id-1 div.sk-toggleable {background-color: white;}#sk-container-id-1 label.sk-toggleable__label {cursor: pointer;display: block;width: 100%;margin-bottom: 0;padding: 0.3em;box-sizing: border-box;text-align: center;}#sk-container-id-1 label.sk-toggleable__label-arrow:before {content: \"▸\";float: left;margin-right: 0.25em;color: #696969;}#sk-container-id-1 label.sk-toggleable__label-arrow:hover:before {color: black;}#sk-container-id-1 div.sk-estimator:hover label.sk-toggleable__label-arrow:before {color: black;}#sk-container-id-1 div.sk-toggleable__content {max-height: 0;max-width: 0;overflow: hidden;text-align: left;background-color: #f0f8ff;}#sk-container-id-1 div.sk-toggleable__content pre {margin: 0.2em;color: black;border-radius: 0.25em;background-color: #f0f8ff;}#sk-container-id-1 input.sk-toggleable__control:checked~div.sk-toggleable__content {max-height: 200px;max-width: 100%;overflow: auto;}#sk-container-id-1 input.sk-toggleable__control:checked~label.sk-toggleable__label-arrow:before {content: \"▾\";}#sk-container-id-1 div.sk-estimator input.sk-toggleable__control:checked~label.sk-toggleable__label {background-color: #d4ebff;}#sk-container-id-1 div.sk-label input.sk-toggleable__control:checked~label.sk-toggleable__label {background-color: #d4ebff;}#sk-container-id-1 input.sk-hidden--visually {border: 0;clip: rect(1px 1px 1px 1px);clip: rect(1px, 1px, 1px, 1px);height: 1px;margin: -1px;overflow: hidden;padding: 0;position: absolute;width: 1px;}#sk-container-id-1 div.sk-estimator {font-family: monospace;background-color: #f0f8ff;border: 1px dotted black;border-radius: 0.25em;box-sizing: border-box;margin-bottom: 0.5em;}#sk-container-id-1 div.sk-estimator:hover {background-color: #d4ebff;}#sk-container-id-1 div.sk-parallel-item::after {content: \"\";width: 100%;border-bottom: 1px solid gray;flex-grow: 1;}#sk-container-id-1 div.sk-label:hover label.sk-toggleable__label {background-color: #d4ebff;}#sk-container-id-1 div.sk-serial::before {content: \"\";position: absolute;border-left: 1px solid gray;box-sizing: border-box;top: 0;bottom: 0;left: 50%;z-index: 0;}#sk-container-id-1 div.sk-serial {display: flex;flex-direction: column;align-items: center;background-color: white;padding-right: 0.2em;padding-left: 0.2em;position: relative;}#sk-container-id-1 div.sk-item {position: relative;z-index: 1;}#sk-container-id-1 div.sk-parallel {display: flex;align-items: stretch;justify-content: center;background-color: white;position: relative;}#sk-container-id-1 div.sk-item::before, #sk-container-id-1 div.sk-parallel-item::before {content: \"\";position: absolute;border-left: 1px solid gray;box-sizing: border-box;top: 0;bottom: 0;left: 50%;z-index: -1;}#sk-container-id-1 div.sk-parallel-item {display: flex;flex-direction: column;z-index: 1;position: relative;background-color: white;}#sk-container-id-1 div.sk-parallel-item:first-child::after {align-self: flex-end;width: 50%;}#sk-container-id-1 div.sk-parallel-item:last-child::after {align-self: flex-start;width: 50%;}#sk-container-id-1 div.sk-parallel-item:only-child::after {width: 0;}#sk-container-id-1 div.sk-dashed-wrapped {border: 1px dashed gray;margin: 0 0.4em 0.5em 0.4em;box-sizing: border-box;padding-bottom: 0.4em;background-color: white;}#sk-container-id-1 div.sk-label label {font-family: monospace;font-weight: bold;display: inline-block;line-height: 1.2em;}#sk-container-id-1 div.sk-label-container {text-align: center;}#sk-container-id-1 div.sk-container {/* jupyter's `normalize.less` sets `[hidden] { display: none; }` but bootstrap.min.css set `[hidden] { display: none !important; }` so we also need the `!important` here to be able to override the default hidden behavior on the sphinx rendered scikit-learn.org. See: https://github.com/scikit-learn/scikit-learn/issues/21755 */display: inline-block !important;position: relative;}#sk-container-id-1 div.sk-text-repr-fallback {display: none;}</style><div id=\"sk-container-id-1\" class=\"sk-top-container\"><div class=\"sk-text-repr-fallback\"><pre>RandomizedSearchCV(cv=5,\n",
              "                   estimator=XGBRegressor(base_score=None, booster=None,\n",
              "                                          callbacks=None,\n",
              "                                          colsample_bylevel=None,\n",
              "                                          colsample_bynode=None,\n",
              "                                          colsample_bytree=None,\n",
              "                                          early_stopping_rounds=20,\n",
              "                                          enable_categorical=False,\n",
              "                                          eval_metric=None, feature_types=None,\n",
              "                                          gamma=None, gpu_id=None,\n",
              "                                          grow_policy=None,\n",
              "                                          importance_type=None,\n",
              "                                          interaction_constraints=None,\n",
              "                                          learning_rate=No...\n",
              "                                          min_child_weight=None, missing=nan,\n",
              "                                          monotone_constraints=None,\n",
              "                                          n_estimators=100, n_jobs=None,\n",
              "                                          num_parallel_tree=None,\n",
              "                                          predictor=None, random_state=None, ...),\n",
              "                   n_iter=15, n_jobs=-1,\n",
              "                   param_distributions={&#x27;colsample_bytree&#x27;: [0.1, 0.3],\n",
              "                                        &#x27;gamma&#x27;: [0.3, 0.7],\n",
              "                                        &#x27;learning_rate&#x27;: [0.03, 0.08],\n",
              "                                        &#x27;max_depth&#x27;: [3, 8],\n",
              "                                        &#x27;min_child_weight&#x27;: [3, 7],\n",
              "                                        &#x27;n_estimators&#x27;: [1000, 1500, 2000]},\n",
              "                   random_state=0)</pre><b>In a Jupyter environment, please rerun this cell to show the HTML representation or trust the notebook. <br />On GitHub, the HTML representation is unable to render, please try loading this page with nbviewer.org.</b></div><div class=\"sk-container\" hidden><div class=\"sk-item sk-dashed-wrapped\"><div class=\"sk-label-container\"><div class=\"sk-label sk-toggleable\"><input class=\"sk-toggleable__control sk-hidden--visually\" id=\"sk-estimator-id-1\" type=\"checkbox\" ><label for=\"sk-estimator-id-1\" class=\"sk-toggleable__label sk-toggleable__label-arrow\">RandomizedSearchCV</label><div class=\"sk-toggleable__content\"><pre>RandomizedSearchCV(cv=5,\n",
              "                   estimator=XGBRegressor(base_score=None, booster=None,\n",
              "                                          callbacks=None,\n",
              "                                          colsample_bylevel=None,\n",
              "                                          colsample_bynode=None,\n",
              "                                          colsample_bytree=None,\n",
              "                                          early_stopping_rounds=20,\n",
              "                                          enable_categorical=False,\n",
              "                                          eval_metric=None, feature_types=None,\n",
              "                                          gamma=None, gpu_id=None,\n",
              "                                          grow_policy=None,\n",
              "                                          importance_type=None,\n",
              "                                          interaction_constraints=None,\n",
              "                                          learning_rate=No...\n",
              "                                          min_child_weight=None, missing=nan,\n",
              "                                          monotone_constraints=None,\n",
              "                                          n_estimators=100, n_jobs=None,\n",
              "                                          num_parallel_tree=None,\n",
              "                                          predictor=None, random_state=None, ...),\n",
              "                   n_iter=15, n_jobs=-1,\n",
              "                   param_distributions={&#x27;colsample_bytree&#x27;: [0.1, 0.3],\n",
              "                                        &#x27;gamma&#x27;: [0.3, 0.7],\n",
              "                                        &#x27;learning_rate&#x27;: [0.03, 0.08],\n",
              "                                        &#x27;max_depth&#x27;: [3, 8],\n",
              "                                        &#x27;min_child_weight&#x27;: [3, 7],\n",
              "                                        &#x27;n_estimators&#x27;: [1000, 1500, 2000]},\n",
              "                   random_state=0)</pre></div></div></div><div class=\"sk-parallel\"><div class=\"sk-parallel-item\"><div class=\"sk-item\"><div class=\"sk-label-container\"><div class=\"sk-label sk-toggleable\"><input class=\"sk-toggleable__control sk-hidden--visually\" id=\"sk-estimator-id-2\" type=\"checkbox\" ><label for=\"sk-estimator-id-2\" class=\"sk-toggleable__label sk-toggleable__label-arrow\">estimator: XGBRegressor</label><div class=\"sk-toggleable__content\"><pre>XGBRegressor(base_score=None, booster=None, callbacks=None,\n",
              "             colsample_bylevel=None, colsample_bynode=None,\n",
              "             colsample_bytree=None, early_stopping_rounds=20,\n",
              "             enable_categorical=False, eval_metric=None, feature_types=None,\n",
              "             gamma=None, gpu_id=None, grow_policy=None, importance_type=None,\n",
              "             interaction_constraints=None, learning_rate=None, max_bin=None,\n",
              "             max_cat_threshold=None, max_cat_to_onehot=None,\n",
              "             max_delta_step=None, max_depth=None, max_leaves=None,\n",
              "             min_child_weight=None, missing=nan, monotone_constraints=None,\n",
              "             n_estimators=100, n_jobs=None, num_parallel_tree=None,\n",
              "             predictor=None, random_state=None, ...)</pre></div></div></div><div class=\"sk-serial\"><div class=\"sk-item\"><div class=\"sk-estimator sk-toggleable\"><input class=\"sk-toggleable__control sk-hidden--visually\" id=\"sk-estimator-id-3\" type=\"checkbox\" ><label for=\"sk-estimator-id-3\" class=\"sk-toggleable__label sk-toggleable__label-arrow\">XGBRegressor</label><div class=\"sk-toggleable__content\"><pre>XGBRegressor(base_score=None, booster=None, callbacks=None,\n",
              "             colsample_bylevel=None, colsample_bynode=None,\n",
              "             colsample_bytree=None, early_stopping_rounds=20,\n",
              "             enable_categorical=False, eval_metric=None, feature_types=None,\n",
              "             gamma=None, gpu_id=None, grow_policy=None, importance_type=None,\n",
              "             interaction_constraints=None, learning_rate=None, max_bin=None,\n",
              "             max_cat_threshold=None, max_cat_to_onehot=None,\n",
              "             max_delta_step=None, max_depth=None, max_leaves=None,\n",
              "             min_child_weight=None, missing=nan, monotone_constraints=None,\n",
              "             n_estimators=100, n_jobs=None, num_parallel_tree=None,\n",
              "             predictor=None, random_state=None, ...)</pre></div></div></div></div></div></div></div></div></div></div>"
            ]
          },
          "metadata": {},
          "execution_count": 57
        }
      ]
    },
    {
      "cell_type": "code",
      "source": [
        "params = {'n_estimators': 2000,\n",
        "'min_child_weight': 7,\n",
        "'max_depth': 3,\n",
        "'learning_rate': 0.03,\n",
        "'gamma': 0.3,\n",
        "'colsample_bytree': 0.3}"
      ],
      "metadata": {
        "id": "vFfCUlYr3pn2"
      },
      "execution_count": 72,
      "outputs": []
    },
    {
      "cell_type": "code",
      "source": [
        "from sklearn.metrics import mean_absolute_error, roc_auc_score\n",
        "from sklearn.model_selection import KFold\n",
        "\n",
        "\n",
        "corn_models = []\n",
        "scores = []\n",
        "feature_importances = []\n",
        "\n",
        "skf = KFold(n_splits=30, shuffle=True, random_state=0)\n",
        "for fold, (train_idx, val_idx) in enumerate(skf.split(X_corn, y_corn)):\n",
        "    \n",
        "    X_train_corn, y_train_corn = X_corn.iloc[train_idx], y_corn.iloc[train_idx]\n",
        "    X_valid_corn, y_valid_corn = X_corn.iloc[val_idx], y_corn.iloc[val_idx]\n",
        "    evaluation = [(X_train_corn, y_train_corn), (X_valid_corn, y_valid_corn)]\n",
        "\n",
        "    model = XGBRegressor(**params, n_jobs=-1, early_stopping_rounds=30)\n",
        "    model.fit(X_train_corn, y_train_corn, eval_set=evaluation, verbose=0)\n",
        "\n",
        "    val_preds = model.predict(X_valid_corn)\n",
        "    val_score = mean_absolute_error(y_valid_corn, val_preds)\n",
        "    best_iter = model.best_iteration\n",
        "\n",
        "    feature_importances.append({i: j for i in model.feature_names_in_ for j in model.feature_importances_ })\n",
        "    print(f' mae :{val_score:.5f}    best iteration  :{best_iter}')\n",
        "    \n",
        "    if (val_score < 11):\n",
        "        scores.append(val_score)\n",
        "        corn_models.append(model)\n",
        "        \n",
        "        \n",
        "mean_val_auc = np.array(scores).mean(0)\n",
        "print(f'MAE:  {mean_val_auc}')"
      ],
      "metadata": {
        "id": "CAGMKdZwZ4q8",
        "outputId": "1f07cd95-6cca-4d85-f6d3-80b19c48ef1e",
        "colab": {
          "base_uri": "https://localhost:8080/",
          "height": 496
        }
      },
      "execution_count": 73,
      "outputs": [
        {
          "output_type": "stream",
          "name": "stdout",
          "text": [
            " mae :13.42504    best iteration  :680\n",
            " mae :11.81891    best iteration  :824\n",
            " mae :11.57058    best iteration  :957\n",
            " mae :12.00274    best iteration  :650\n",
            " mae :11.50440    best iteration  :749\n",
            " mae :13.37398    best iteration  :599\n"
          ]
        },
        {
          "output_type": "error",
          "ename": "KeyboardInterrupt",
          "evalue": "ignored",
          "traceback": [
            "\u001b[0;31m---------------------------------------------------------------------------\u001b[0m",
            "\u001b[0;31mKeyboardInterrupt\u001b[0m                         Traceback (most recent call last)",
            "\u001b[0;32m<ipython-input-73-48bee10be87e>\u001b[0m in \u001b[0;36m<cell line: 10>\u001b[0;34m()\u001b[0m\n\u001b[1;32m     15\u001b[0m \u001b[0;34m\u001b[0m\u001b[0m\n\u001b[1;32m     16\u001b[0m     \u001b[0mmodel\u001b[0m \u001b[0;34m=\u001b[0m \u001b[0mXGBRegressor\u001b[0m\u001b[0;34m(\u001b[0m\u001b[0;34m**\u001b[0m\u001b[0mparams\u001b[0m\u001b[0;34m,\u001b[0m \u001b[0mn_jobs\u001b[0m\u001b[0;34m=\u001b[0m\u001b[0;34m-\u001b[0m\u001b[0;36m1\u001b[0m\u001b[0;34m,\u001b[0m \u001b[0mearly_stopping_rounds\u001b[0m\u001b[0;34m=\u001b[0m\u001b[0;36m30\u001b[0m\u001b[0;34m)\u001b[0m\u001b[0;34m\u001b[0m\u001b[0;34m\u001b[0m\u001b[0m\n\u001b[0;32m---> 17\u001b[0;31m     \u001b[0mmodel\u001b[0m\u001b[0;34m.\u001b[0m\u001b[0mfit\u001b[0m\u001b[0;34m(\u001b[0m\u001b[0mX_train_corn\u001b[0m\u001b[0;34m,\u001b[0m \u001b[0my_train_corn\u001b[0m\u001b[0;34m,\u001b[0m \u001b[0meval_set\u001b[0m\u001b[0;34m=\u001b[0m\u001b[0mevaluation\u001b[0m\u001b[0;34m,\u001b[0m \u001b[0mverbose\u001b[0m\u001b[0;34m=\u001b[0m\u001b[0;36m0\u001b[0m\u001b[0;34m)\u001b[0m\u001b[0;34m\u001b[0m\u001b[0;34m\u001b[0m\u001b[0m\n\u001b[0m\u001b[1;32m     18\u001b[0m \u001b[0;34m\u001b[0m\u001b[0m\n\u001b[1;32m     19\u001b[0m     \u001b[0mval_preds\u001b[0m \u001b[0;34m=\u001b[0m \u001b[0mmodel\u001b[0m\u001b[0;34m.\u001b[0m\u001b[0mpredict\u001b[0m\u001b[0;34m(\u001b[0m\u001b[0mX_valid_corn\u001b[0m\u001b[0;34m)\u001b[0m\u001b[0;34m\u001b[0m\u001b[0;34m\u001b[0m\u001b[0m\n",
            "\u001b[0;32m/usr/local/lib/python3.9/dist-packages/xgboost/core.py\u001b[0m in \u001b[0;36minner_f\u001b[0;34m(*args, **kwargs)\u001b[0m\n\u001b[1;32m    618\u001b[0m             \u001b[0;32mfor\u001b[0m \u001b[0mk\u001b[0m\u001b[0;34m,\u001b[0m \u001b[0marg\u001b[0m \u001b[0;32min\u001b[0m \u001b[0mzip\u001b[0m\u001b[0;34m(\u001b[0m\u001b[0msig\u001b[0m\u001b[0;34m.\u001b[0m\u001b[0mparameters\u001b[0m\u001b[0;34m,\u001b[0m \u001b[0margs\u001b[0m\u001b[0;34m)\u001b[0m\u001b[0;34m:\u001b[0m\u001b[0;34m\u001b[0m\u001b[0;34m\u001b[0m\u001b[0m\n\u001b[1;32m    619\u001b[0m                 \u001b[0mkwargs\u001b[0m\u001b[0;34m[\u001b[0m\u001b[0mk\u001b[0m\u001b[0;34m]\u001b[0m \u001b[0;34m=\u001b[0m \u001b[0marg\u001b[0m\u001b[0;34m\u001b[0m\u001b[0;34m\u001b[0m\u001b[0m\n\u001b[0;32m--> 620\u001b[0;31m             \u001b[0;32mreturn\u001b[0m \u001b[0mfunc\u001b[0m\u001b[0;34m(\u001b[0m\u001b[0;34m**\u001b[0m\u001b[0mkwargs\u001b[0m\u001b[0;34m)\u001b[0m\u001b[0;34m\u001b[0m\u001b[0;34m\u001b[0m\u001b[0m\n\u001b[0m\u001b[1;32m    621\u001b[0m \u001b[0;34m\u001b[0m\u001b[0m\n\u001b[1;32m    622\u001b[0m         \u001b[0;32mreturn\u001b[0m \u001b[0minner_f\u001b[0m\u001b[0;34m\u001b[0m\u001b[0;34m\u001b[0m\u001b[0m\n",
            "\u001b[0;32m/usr/local/lib/python3.9/dist-packages/xgboost/sklearn.py\u001b[0m in \u001b[0;36mfit\u001b[0;34m(self, X, y, sample_weight, base_margin, eval_set, eval_metric, early_stopping_rounds, verbose, xgb_model, sample_weight_eval_set, base_margin_eval_set, feature_weights, callbacks)\u001b[0m\n\u001b[1;32m   1023\u001b[0m                 \u001b[0mxgb_model\u001b[0m\u001b[0;34m,\u001b[0m \u001b[0meval_metric\u001b[0m\u001b[0;34m,\u001b[0m \u001b[0mparams\u001b[0m\u001b[0;34m,\u001b[0m \u001b[0mearly_stopping_rounds\u001b[0m\u001b[0;34m,\u001b[0m \u001b[0mcallbacks\u001b[0m\u001b[0;34m\u001b[0m\u001b[0;34m\u001b[0m\u001b[0m\n\u001b[1;32m   1024\u001b[0m             )\n\u001b[0;32m-> 1025\u001b[0;31m             self._Booster = train(\n\u001b[0m\u001b[1;32m   1026\u001b[0m                 \u001b[0mparams\u001b[0m\u001b[0;34m,\u001b[0m\u001b[0;34m\u001b[0m\u001b[0;34m\u001b[0m\u001b[0m\n\u001b[1;32m   1027\u001b[0m                 \u001b[0mtrain_dmatrix\u001b[0m\u001b[0;34m,\u001b[0m\u001b[0;34m\u001b[0m\u001b[0;34m\u001b[0m\u001b[0m\n",
            "\u001b[0;32m/usr/local/lib/python3.9/dist-packages/xgboost/core.py\u001b[0m in \u001b[0;36minner_f\u001b[0;34m(*args, **kwargs)\u001b[0m\n\u001b[1;32m    618\u001b[0m             \u001b[0;32mfor\u001b[0m \u001b[0mk\u001b[0m\u001b[0;34m,\u001b[0m \u001b[0marg\u001b[0m \u001b[0;32min\u001b[0m \u001b[0mzip\u001b[0m\u001b[0;34m(\u001b[0m\u001b[0msig\u001b[0m\u001b[0;34m.\u001b[0m\u001b[0mparameters\u001b[0m\u001b[0;34m,\u001b[0m \u001b[0margs\u001b[0m\u001b[0;34m)\u001b[0m\u001b[0;34m:\u001b[0m\u001b[0;34m\u001b[0m\u001b[0;34m\u001b[0m\u001b[0m\n\u001b[1;32m    619\u001b[0m                 \u001b[0mkwargs\u001b[0m\u001b[0;34m[\u001b[0m\u001b[0mk\u001b[0m\u001b[0;34m]\u001b[0m \u001b[0;34m=\u001b[0m \u001b[0marg\u001b[0m\u001b[0;34m\u001b[0m\u001b[0;34m\u001b[0m\u001b[0m\n\u001b[0;32m--> 620\u001b[0;31m             \u001b[0;32mreturn\u001b[0m \u001b[0mfunc\u001b[0m\u001b[0;34m(\u001b[0m\u001b[0;34m**\u001b[0m\u001b[0mkwargs\u001b[0m\u001b[0;34m)\u001b[0m\u001b[0;34m\u001b[0m\u001b[0;34m\u001b[0m\u001b[0m\n\u001b[0m\u001b[1;32m    621\u001b[0m \u001b[0;34m\u001b[0m\u001b[0m\n\u001b[1;32m    622\u001b[0m         \u001b[0;32mreturn\u001b[0m \u001b[0minner_f\u001b[0m\u001b[0;34m\u001b[0m\u001b[0;34m\u001b[0m\u001b[0m\n",
            "\u001b[0;32m/usr/local/lib/python3.9/dist-packages/xgboost/training.py\u001b[0m in \u001b[0;36mtrain\u001b[0;34m(params, dtrain, num_boost_round, evals, obj, feval, maximize, early_stopping_rounds, evals_result, verbose_eval, xgb_model, callbacks, custom_metric)\u001b[0m\n\u001b[1;32m    183\u001b[0m         \u001b[0;32mif\u001b[0m \u001b[0mcb_container\u001b[0m\u001b[0;34m.\u001b[0m\u001b[0mbefore_iteration\u001b[0m\u001b[0;34m(\u001b[0m\u001b[0mbst\u001b[0m\u001b[0;34m,\u001b[0m \u001b[0mi\u001b[0m\u001b[0;34m,\u001b[0m \u001b[0mdtrain\u001b[0m\u001b[0;34m,\u001b[0m \u001b[0mevals\u001b[0m\u001b[0;34m)\u001b[0m\u001b[0;34m:\u001b[0m\u001b[0;34m\u001b[0m\u001b[0;34m\u001b[0m\u001b[0m\n\u001b[1;32m    184\u001b[0m             \u001b[0;32mbreak\u001b[0m\u001b[0;34m\u001b[0m\u001b[0;34m\u001b[0m\u001b[0m\n\u001b[0;32m--> 185\u001b[0;31m         \u001b[0mbst\u001b[0m\u001b[0;34m.\u001b[0m\u001b[0mupdate\u001b[0m\u001b[0;34m(\u001b[0m\u001b[0mdtrain\u001b[0m\u001b[0;34m,\u001b[0m \u001b[0mi\u001b[0m\u001b[0;34m,\u001b[0m \u001b[0mobj\u001b[0m\u001b[0;34m)\u001b[0m\u001b[0;34m\u001b[0m\u001b[0;34m\u001b[0m\u001b[0m\n\u001b[0m\u001b[1;32m    186\u001b[0m         \u001b[0;32mif\u001b[0m \u001b[0mcb_container\u001b[0m\u001b[0;34m.\u001b[0m\u001b[0mafter_iteration\u001b[0m\u001b[0;34m(\u001b[0m\u001b[0mbst\u001b[0m\u001b[0;34m,\u001b[0m \u001b[0mi\u001b[0m\u001b[0;34m,\u001b[0m \u001b[0mdtrain\u001b[0m\u001b[0;34m,\u001b[0m \u001b[0mevals\u001b[0m\u001b[0;34m)\u001b[0m\u001b[0;34m:\u001b[0m\u001b[0;34m\u001b[0m\u001b[0;34m\u001b[0m\u001b[0m\n\u001b[1;32m    187\u001b[0m             \u001b[0;32mbreak\u001b[0m\u001b[0;34m\u001b[0m\u001b[0;34m\u001b[0m\u001b[0m\n",
            "\u001b[0;32m/usr/local/lib/python3.9/dist-packages/xgboost/core.py\u001b[0m in \u001b[0;36mupdate\u001b[0;34m(self, dtrain, iteration, fobj)\u001b[0m\n\u001b[1;32m   1916\u001b[0m \u001b[0;34m\u001b[0m\u001b[0m\n\u001b[1;32m   1917\u001b[0m         \u001b[0;32mif\u001b[0m \u001b[0mfobj\u001b[0m \u001b[0;32mis\u001b[0m \u001b[0;32mNone\u001b[0m\u001b[0;34m:\u001b[0m\u001b[0;34m\u001b[0m\u001b[0;34m\u001b[0m\u001b[0m\n\u001b[0;32m-> 1918\u001b[0;31m             _check_call(_LIB.XGBoosterUpdateOneIter(self.handle,\n\u001b[0m\u001b[1;32m   1919\u001b[0m                                                     \u001b[0mctypes\u001b[0m\u001b[0;34m.\u001b[0m\u001b[0mc_int\u001b[0m\u001b[0;34m(\u001b[0m\u001b[0miteration\u001b[0m\u001b[0;34m)\u001b[0m\u001b[0;34m,\u001b[0m\u001b[0;34m\u001b[0m\u001b[0;34m\u001b[0m\u001b[0m\n\u001b[1;32m   1920\u001b[0m                                                     dtrain.handle))\n",
            "\u001b[0;31mKeyboardInterrupt\u001b[0m: "
          ]
        }
      ]
    },
    {
      "cell_type": "code",
      "source": [
        "import matplotlib.pyplot as plt\n",
        "\n",
        "preds_corn = []\n",
        "for model in xgb_models:\n",
        "    preds_corn.append(model.predict(X_val_corn))\n",
        "\n",
        "# take the mean of the test predictions\n",
        "mean_test_preds_corn = np.mean(preds_corn, axis=0)\n",
        "\n",
        "# Plot the actual vs predicted values\n",
        "plt.scatter(y_val_corn, mean_test_preds_corn)\n",
        "plt.plot(np.linspace(min(y_val_corn), max(y_val_corn)), np.linspace(min(y_val_corn), max(y_val_corn)), color='red')\n",
        "plt.xlabel('Actual')\n",
        "plt.ylabel('Predicted')\n",
        "plt.title('Actual vs Predicted values')\n",
        "plt.show()"
      ],
      "metadata": {
        "id": "NZaUrxipGnnS",
        "colab": {
          "base_uri": "https://localhost:8080/",
          "height": 472
        },
        "outputId": "d7f77622-5c14-45f6-eaba-5802560f34ff"
      },
      "execution_count": null,
      "outputs": [
        {
          "output_type": "display_data",
          "data": {
            "text/plain": [
              "<Figure size 640x480 with 1 Axes>"
            ],
            "image/png": "[encoded data removed]"
          },
          "metadata": {}
        }
      ]
    },
    {
      "cell_type": "markdown",
      "source": [
        "# Oats\n"
      ],
      "metadata": {
        "id": "9qKNvBJ0qTp8"
      }
    },
    {
      "cell_type": "code",
      "source": [
        "from sklearn.metrics import mean_absolute_error, roc_auc_score\n",
        "from sklearn.model_selection import KFold\n",
        "\n",
        "oat_models = []\n",
        "scores = []\n",
        "feature_importances = []\n",
        "\n",
        "skf = KFold(n_splits=20, shuffle=True, random_state=0)\n",
        "for fold, (train_idx, val_idx) in enumerate(skf.split(X_oat, y_oat)):\n",
        "    \n",
        "    X_train_oat, y_train_oat = X_oat.iloc[train_idx], y_oat.iloc[train_idx]\n",
        "    X_valid_oat, y_valid_oat = X_oat.iloc[val_idx], y_oat.iloc[val_idx]\n",
        "    evaluation = [(X_train_oat, y_train_oat), (X_valid_oat, y_valid_oat)]\n",
        "\n",
        "    model = XGBRegressor(**params, n_jobs=-1, early_stopping_rounds=30)\n",
        "    model.fit(X_train_oat, y_train_oat, eval_set=evaluation, verbose=0)\n",
        "\n",
        "    val_preds = model.predict(X_valid_oat)\n",
        "    val_score = mean_absolute_error(y_valid_oat, val_preds)\n",
        "    best_iter = model.best_iteration\n",
        "\n",
        "    feature_importances.append({i: j for i in model.feature_names_in_ for j in model.feature_importances_ })\n",
        "    print(f'mae: {val_score:.5f}    best iteration: {best_iter}')\n",
        "    \n",
        "    if (val_score < 11):\n",
        "        scores.append(val_score)\n",
        "        oat_models.append(model)\n",
        "        \n",
        "mean_val_auc = np.array(scores).mean(0)\n",
        "print(f'MAE: {mean_val_auc}')"
      ],
      "metadata": {
        "id": "LD3Ot5jxqWnG"
      },
      "execution_count": null,
      "outputs": []
    },
    {
      "cell_type": "code",
      "source": [
        "import matplotlib.pyplot as plt\n",
        "\n",
        "preds_oat = []\n",
        "for model in oat_models:\n",
        "    preds_oat.append(model.predict(X_valid_oat))\n",
        "\n",
        "# take the mean of the test predictions\n",
        "mean_test_preds_oat = np.mean(preds_oat, axis=0)\n",
        "\n",
        "# Plot the actual vs predicted values\n",
        "plt.scatter(y_valid_oat, mean_test_preds_oat)\n",
        "plt.plot(np.linspace(min(y_valid_oat), max(y_valid_oat)), np.linspace(min(y_valid_oat), max(y_valid_oat)), color='red')\n",
        "plt.xlabel('Actual')\n",
        "plt.ylabel('Predicted')\n",
        "plt.title('Actual vs Predicted values for Oat')\n",
        "plt.show()"
      ],
      "metadata": {
        "id": "_AudrJUcqjov"
      },
      "execution_count": null,
      "outputs": []
    },
    {
      "cell_type": "code",
      "source": [
        "\n",
        "    for meta, pred in zip(preds_meta, mean_test_preds_corn):\n",
        "        f.write(f'\"{meta[\"code\"]}\",{meta[\"year\"]},\"CORN\",{pred}\\n')"
      ],
      "metadata": {
        "id": "uXu8K5xH664B"
      },
      "execution_count": null,
      "outputs": []
    },
    {
      "cell_type": "markdown",
      "source": [
        "# Soybeans"
      ],
      "metadata": {
        "id": "I2ahEaS4qXQh"
      }
    },
    {
      "cell_type": "code",
      "source": [
        "from sklearn.metrics import mean_absolute_error, roc_auc_score\n",
        "from sklearn.model_selection import KFold\n",
        "\n",
        "soybean_models = []\n",
        "scores = []\n",
        "feature_importances = []\n",
        "\n",
        "skf = KFold(n_splits=20, shuffle=True, random_state=0)\n",
        "for fold, (train_idx, val_idx) in enumerate(skf.split(X_soybean, y_soybean)):\n",
        "    \n",
        "    X_train_soybean, y_train_soybean = X_soybean.iloc[train_idx], y_soybean.iloc[train_idx]\n",
        "    X_valid_soybean, y_valid_soybean = X_soybean.iloc[val_idx], y_soybean.iloc[val_idx]\n",
        "    evaluation = [(X_train_soybean, y_train_soybean), (X_valid_soybean, y_valid_soybean)]\n",
        "\n",
        "    model = XGBRegressor(**params, n_jobs=-1, early_stopping_rounds=30)\n",
        "    model.fit(X_train_soybean, y_train_soybean, eval_set=evaluation, verbose=0)\n",
        "\n",
        "    val_preds = model.predict(X_valid_soybean)\n",
        "    val_score = mean_absolute_error(y_valid_soybean, val_preds)\n",
        "    best_iter = model.best_iteration\n",
        "\n",
        "    feature_importances.append({i: j for i in model.feature_names_in_ for j in model.feature_importances_ })\n",
        "    print(f'mae: {val_score:.5f}    best iteration: {best_iter}')\n",
        "    \n",
        "    if (val_score < 11):\n",
        "        scores.append(val_score)\n",
        "        soybean_models.append(model)\n",
        "        \n",
        "mean_val_auc = np.array(scores).mean(0)\n",
        "print(f'MAE: {mean_val_auc}')"
      ],
      "metadata": {
        "id": "tjXfOhH7qco7"
      },
      "execution_count": null,
      "outputs": []
    },
    {
      "cell_type": "code",
      "source": [
        "preds_soybean = []\n",
        "for model in soybean_models:\n",
        "    preds_soybean.append(model.predict(X_valid_soybean))\n",
        "\n",
        "# take the mean of the test predictions\n",
        "mean_test_preds_soybean = np.mean(preds_soybean, axis=0)\n",
        "\n",
        "# Plot the actual vs predicted values\n",
        "plt.scatter(y_valid_soybean, mean_test_preds_soybean)\n",
        "plt.plot(np.linspace(min(y_valid_soybean), max(y_valid_soybean)), np.linspace(min(y_valid_soybean), max(y_valid_soybean)), color='red')\n",
        "plt.xlabel('Actual')\n",
        "plt.ylabel('Predicted')\n",
        "plt.title('Actual vs Predicted values for Soybean')\n",
        "plt.show()"
      ],
      "metadata": {
        "id": "kSLqsVwgqjG9"
      },
      "execution_count": null,
      "outputs": []
    },
    {
      "cell_type": "markdown",
      "source": [
        "# Exporting the predictions"
      ],
      "metadata": {
        "id": "teblsTs07xDT"
      }
    },
    {
      "cell_type": "code",
      "source": [
        "with open('output.csv', 'w') as f:\n",
        "    f.write('\"Target location\",\"Year\",\"Crop\",\"Predicted yield (BU/acre)\"\\n')\n",
        "    \n",
        "    for meta, pred in zip(preds_meta, mean_test_preds_corn):\n",
        "        f.write(f'\"{meta[\"code\"]}\",{meta[\"year\"]},\"CORN\",{pred}\\n')\n",
        "    for meta, pred in zip(preds_meta, mean_test_preds_oat):\n",
        "        f.write(f'\"{meta[\"code\"]}\",{meta[\"year\"]},\"OAT\",{pred}\\n')\n",
        "    for meta, pred in zip(preds_meta, mean_test_preds_soybean):\n",
        "        f.write(f'\"{meta[\"code\"]}\",{meta[\"year\"]},\"SOYBEAN\",{pred}\\n')"
      ],
      "metadata": {
        "id": "vQsVnqfl7wem"
      },
      "execution_count": null,
      "outputs": []
    }
  ]
}