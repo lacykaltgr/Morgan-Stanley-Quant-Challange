{
  "nbformat": 4,
  "nbformat_minor": 0,
  "metadata": {
    "colab": {
      "provenance": [],
      "include_colab_link": true
    },
    "kernelspec": {
      "name": "python3",
      "display_name": "Python 3"
    },
    "language_info": {
      "name": "python"
    },
    "accelerator": "GPU",
    "gpuClass": "standard"
  },
  "cells": [
    {
      "cell_type": "markdown",
      "metadata": {
        "id": "view-in-github",
        "colab_type": "text"
      },
      "source": [
        "<a href=\"https://colab.research.google.com/github/lacykaltgr/quant/blob/main/quant.ipynb\" target=\"_parent\"><img src=\"https://colab.research.google.com/assets/colab-badge.svg\" alt=\"Open In Colab\"/></a>"
      ]
    },
    {
      "cell_type": "code",
      "execution_count": 5,
      "metadata": {
        "colab": {
          "base_uri": "https://localhost:8080/"
        },
        "id": "fxqi0jj6r1x0",
        "outputId": "1cc3c635-fb9f-4996-8ed7-544eec4950b9"
      },
      "outputs": [
        {
          "output_type": "stream",
          "name": "stdout",
          "text": [
            "Drive already mounted at /content/drive; to attempt to forcibly remount, call drive.mount(\"/content/drive\", force_remount=True).\n"
          ]
        }
      ],
      "source": [
        "from google.colab import drive\n",
        "drive.mount('/content/drive')"
      ]
    },
    {
      "cell_type": "markdown",
      "source": [
        "# Setup"
      ],
      "metadata": {
        "id": "o42LfRisTqTI"
      }
    },
    {
      "cell_type": "code",
      "source": [
        "import pandas as pd\n",
        "import numpy as np"
      ],
      "metadata": {
        "id": "gYfYs6LWs_qY"
      },
      "execution_count": 2,
      "outputs": []
    },
    {
      "cell_type": "code",
      "source": [
        "quant_folder_location = \"/content/drive/MyDrive/quant\"\n",
        "weather_prepared_file_path = quant_folder_location + \"/weather_df.csv\"\n",
        "county_location_file_path = quant_folder_location + \"/agri/minnesota_county_location.csv\"\n",
        "county_agr_prod_file_path = quant_folder_location + \"/agri/minnesota_county_yearly_agricultural_production.csv\"\n",
        "station_location_file_path = quant_folder_location + \"/weather/minnesota_station_location.csv\"\n",
        "\n",
        "def station_weather_fp(station_name):\n",
        "  return quant_folder_location + \"/weather/minnesota_daily/\" + str(station_name) + \".csv\""
      ],
      "metadata": {
        "id": "HlpjPkaztxe8"
      },
      "execution_count": 3,
      "outputs": []
    },
    {
      "cell_type": "markdown",
      "source": [
        "# Prepare weather data\n"
      ],
      "metadata": {
        "id": "8JmR0-bWTceU"
      }
    },
    {
      "cell_type": "code",
      "source": [
        "#átugrási lehetőség\n",
        "weather_df = pd.read_csv(weather_prepared_file_path)"
      ],
      "metadata": {
        "id": "hpg84zW0NMyB",
        "colab": {
          "base_uri": "https://localhost:8080/"
        },
        "outputId": "445ff1ed-9d29-4f6f-b8e5-887df8167556"
      },
      "execution_count": 4,
      "outputs": [
        {
          "output_type": "stream",
          "name": "stderr",
          "text": [
            "<ipython-input-4-b90705cc2f0b>:2: DtypeWarning: Columns (6) have mixed types. Specify dtype option on import or set low_memory=False.\n",
            "  weather_df = pd.read_csv(weather_prepared_file_path)\n"
          ]
        }
      ]
    },
    {
      "cell_type": "code",
      "source": [
        "weather_df.info()"
      ],
      "metadata": {
        "colab": {
          "base_uri": "https://localhost:8080/"
        },
        "id": "JA4tCn9KrsN2",
        "outputId": "5c32ea6a-b768-4095-d246-032ffdce2fc1"
      },
      "execution_count": 7,
      "outputs": [
        {
          "output_type": "stream",
          "name": "stdout",
          "text": [
            "<class 'pandas.core.frame.DataFrame'>\n",
            "RangeIndex: 603227 entries, 0 to 603226\n",
            "Data columns (total 9 columns):\n",
            " #   Column      Non-Null Count   Dtype  \n",
            "---  ------      --------------   -----  \n",
            " 0   Unnamed: 0  603227 non-null  int64  \n",
            " 1   date        603227 non-null  object \n",
            " 2   avg         603227 non-null  float64\n",
            " 3   min         603227 non-null  float64\n",
            " 4   max         603227 non-null  float64\n",
            " 5   rain        603227 non-null  float64\n",
            " 6   code        603227 non-null  object \n",
            " 7   lat         603227 non-null  float64\n",
            " 8   lon         603227 non-null  float64\n",
            "dtypes: float64(6), int64(1), object(2)\n",
            "memory usage: 41.4+ MB\n"
          ]
        }
      ]
    },
    {
      "cell_type": "code",
      "source": [
        "station_location_df = pd.read_csv(station_location_file_path)\n",
        "station_weather_df_list = []\n",
        "station_codes = np.unique(station_location_df.Code)\n",
        "for code in station_codes:\n",
        "  try:\n",
        "      station_df = pd.read_csv(station_weather_fp(code), header=None, index_col=False, names=[\"date\", \"avg\", \"min\", \"max\", \"rain\"])\n",
        "      station_weather_df_list.append(station_df)\n",
        "  except:\n",
        "      station_codes.remove(code)\n",
        "      print(f\"Hibás/üres fájl: {code}\")"
      ],
      "metadata": {
        "id": "s3DPxLZjtsAV"
      },
      "execution_count": 6,
      "outputs": []
    },
    {
      "cell_type": "code",
      "source": [
        "from dateutil.relativedelta import relativedelta\n",
        "import math\n",
        "\n",
        "for station in station_weather_df_list:\n",
        "  station[\"date\"] = pd.to_datetime(station[\"date\"])\n",
        "  station[\"min\"] = station[\"min\"].interpolate(method=\"linear\", limit=21)\n",
        "  station[\"max\"] = station[\"max\"].interpolate(method=\"linear\", limit=21)\n",
        "  for index, record in station.iterrows():\n",
        "    if math.isnan(record[\"min\"]):\n",
        "      for i in range(index, index+10*365+1, 365):\n",
        "        if not math.isnan(station.iloc[i+365][\"min\"]):\n",
        "          station.loc[index, \"min\"] = station.iloc[i+365][\"min\"]\n",
        "          break\n",
        "        else: \n",
        "          if not math.isnan(station.iloc[i-365][\"min\"]):\n",
        "            station.loc[index, \"min\"] = station.iloc[i-365][\"min\"]\n",
        "            break\n",
        "    if math.isnan(record[\"max\"]):\n",
        "      for i in range(index, index+15*365+1, 365):\n",
        "        if not math.isnan(station.iloc[i+365][\"max\"]):\n",
        "          station.loc[index, \"max\"] = station.iloc[i+365][\"max\"]\n",
        "          break\n",
        "        else:\n",
        "          if not math.isnan(station.iloc[i-365][\"max\"]):\n",
        "            station.loc[index, \"max\"] = station.iloc[i-365][\"max\"]\n",
        "            break\n",
        "    if math.isnan(record[\"rain\"]):\n",
        "      i = index+365\n",
        "      while i < len(station):\n",
        "        if not math.isnan(station.iloc[i][\"rain\"]):\n",
        "          station.loc[index, \"rain\"] = station.iloc[i][\"rain\"]\n",
        "          break\n",
        "        i += 365"
      ],
      "metadata": {
        "id": "4idZtw-e6MUL",
        "colab": {
          "base_uri": "https://localhost:8080/",
          "height": 407
        },
        "outputId": "13201d26-1d11-46b6-c907-a5b0aa17218a"
      },
      "execution_count": 16,
      "outputs": [
        {
          "output_type": "error",
          "ename": "KeyboardInterrupt",
          "evalue": "ignored",
          "traceback": [
            "\u001b[0;31m---------------------------------------------------------------------------\u001b[0m",
            "\u001b[0;31mKeyboardInterrupt\u001b[0m                         Traceback (most recent call last)",
            "\u001b[0;32m<ipython-input-16-850f41636fbd>\u001b[0m in \u001b[0;36m<module>\u001b[0;34m\u001b[0m\n\u001b[1;32m     29\u001b[0m       \u001b[0;32mwhile\u001b[0m \u001b[0mi\u001b[0m \u001b[0;34m<\u001b[0m \u001b[0mlen\u001b[0m\u001b[0;34m(\u001b[0m\u001b[0mstation\u001b[0m\u001b[0;34m)\u001b[0m\u001b[0;34m:\u001b[0m\u001b[0;34m\u001b[0m\u001b[0;34m\u001b[0m\u001b[0m\n\u001b[1;32m     30\u001b[0m         \u001b[0;32mif\u001b[0m \u001b[0;32mnot\u001b[0m \u001b[0mmath\u001b[0m\u001b[0;34m.\u001b[0m\u001b[0misnan\u001b[0m\u001b[0;34m(\u001b[0m\u001b[0mstation\u001b[0m\u001b[0;34m.\u001b[0m\u001b[0miloc\u001b[0m\u001b[0;34m[\u001b[0m\u001b[0mi\u001b[0m\u001b[0;34m]\u001b[0m\u001b[0;34m[\u001b[0m\u001b[0;34m\"rain\"\u001b[0m\u001b[0;34m]\u001b[0m\u001b[0;34m)\u001b[0m\u001b[0;34m:\u001b[0m\u001b[0;34m\u001b[0m\u001b[0;34m\u001b[0m\u001b[0m\n\u001b[0;32m---> 31\u001b[0;31m           \u001b[0mstation\u001b[0m\u001b[0;34m.\u001b[0m\u001b[0mloc\u001b[0m\u001b[0;34m[\u001b[0m\u001b[0mindex\u001b[0m\u001b[0;34m,\u001b[0m \u001b[0;34m\"rain\"\u001b[0m\u001b[0;34m]\u001b[0m \u001b[0;34m=\u001b[0m \u001b[0mstation\u001b[0m\u001b[0;34m.\u001b[0m\u001b[0miloc\u001b[0m\u001b[0;34m[\u001b[0m\u001b[0mi\u001b[0m\u001b[0;34m]\u001b[0m\u001b[0;34m[\u001b[0m\u001b[0;34m\"rain\"\u001b[0m\u001b[0;34m]\u001b[0m\u001b[0;34m\u001b[0m\u001b[0;34m\u001b[0m\u001b[0m\n\u001b[0m\u001b[1;32m     32\u001b[0m           \u001b[0;32mbreak\u001b[0m\u001b[0;34m\u001b[0m\u001b[0;34m\u001b[0m\u001b[0m\n\u001b[1;32m     33\u001b[0m         \u001b[0mi\u001b[0m \u001b[0;34m+=\u001b[0m \u001b[0;36m365\u001b[0m\u001b[0;34m\u001b[0m\u001b[0;34m\u001b[0m\u001b[0m\n",
            "\u001b[0;32m/usr/local/lib/python3.9/dist-packages/pandas/core/indexing.py\u001b[0m in \u001b[0;36m__setitem__\u001b[0;34m(self, key, value)\u001b[0m\n\u001b[1;32m    714\u001b[0m \u001b[0;34m\u001b[0m\u001b[0m\n\u001b[1;32m    715\u001b[0m         \u001b[0miloc\u001b[0m \u001b[0;34m=\u001b[0m \u001b[0mself\u001b[0m \u001b[0;32mif\u001b[0m \u001b[0mself\u001b[0m\u001b[0;34m.\u001b[0m\u001b[0mname\u001b[0m \u001b[0;34m==\u001b[0m \u001b[0;34m\"iloc\"\u001b[0m \u001b[0;32melse\u001b[0m \u001b[0mself\u001b[0m\u001b[0;34m.\u001b[0m\u001b[0mobj\u001b[0m\u001b[0;34m.\u001b[0m\u001b[0miloc\u001b[0m\u001b[0;34m\u001b[0m\u001b[0;34m\u001b[0m\u001b[0m\n\u001b[0;32m--> 716\u001b[0;31m         \u001b[0miloc\u001b[0m\u001b[0;34m.\u001b[0m\u001b[0m_setitem_with_indexer\u001b[0m\u001b[0;34m(\u001b[0m\u001b[0mindexer\u001b[0m\u001b[0;34m,\u001b[0m \u001b[0mvalue\u001b[0m\u001b[0;34m,\u001b[0m \u001b[0mself\u001b[0m\u001b[0;34m.\u001b[0m\u001b[0mname\u001b[0m\u001b[0;34m)\u001b[0m\u001b[0;34m\u001b[0m\u001b[0;34m\u001b[0m\u001b[0m\n\u001b[0m\u001b[1;32m    717\u001b[0m \u001b[0;34m\u001b[0m\u001b[0m\n\u001b[1;32m    718\u001b[0m     \u001b[0;32mdef\u001b[0m \u001b[0m_validate_key\u001b[0m\u001b[0;34m(\u001b[0m\u001b[0mself\u001b[0m\u001b[0;34m,\u001b[0m \u001b[0mkey\u001b[0m\u001b[0;34m,\u001b[0m \u001b[0maxis\u001b[0m\u001b[0;34m:\u001b[0m \u001b[0mint\u001b[0m\u001b[0;34m)\u001b[0m\u001b[0;34m:\u001b[0m\u001b[0;34m\u001b[0m\u001b[0;34m\u001b[0m\u001b[0m\n",
            "\u001b[0;32m/usr/local/lib/python3.9/dist-packages/pandas/core/indexing.py\u001b[0m in \u001b[0;36m_setitem_with_indexer\u001b[0;34m(self, indexer, value, name)\u001b[0m\n\u001b[1;32m   1689\u001b[0m         \u001b[0;32mif\u001b[0m \u001b[0mtake_split_path\u001b[0m\u001b[0;34m:\u001b[0m\u001b[0;34m\u001b[0m\u001b[0;34m\u001b[0m\u001b[0m\n\u001b[1;32m   1690\u001b[0m             \u001b[0;31m# We have to operate column-wise\u001b[0m\u001b[0;34m\u001b[0m\u001b[0;34m\u001b[0m\u001b[0m\n\u001b[0;32m-> 1691\u001b[0;31m             \u001b[0mself\u001b[0m\u001b[0;34m.\u001b[0m\u001b[0m_setitem_with_indexer_split_path\u001b[0m\u001b[0;34m(\u001b[0m\u001b[0mindexer\u001b[0m\u001b[0;34m,\u001b[0m \u001b[0mvalue\u001b[0m\u001b[0;34m,\u001b[0m \u001b[0mname\u001b[0m\u001b[0;34m)\u001b[0m\u001b[0;34m\u001b[0m\u001b[0;34m\u001b[0m\u001b[0m\n\u001b[0m\u001b[1;32m   1692\u001b[0m         \u001b[0;32melse\u001b[0m\u001b[0;34m:\u001b[0m\u001b[0;34m\u001b[0m\u001b[0;34m\u001b[0m\u001b[0m\n\u001b[1;32m   1693\u001b[0m             \u001b[0mself\u001b[0m\u001b[0;34m.\u001b[0m\u001b[0m_setitem_single_block\u001b[0m\u001b[0;34m(\u001b[0m\u001b[0mindexer\u001b[0m\u001b[0;34m,\u001b[0m \u001b[0mvalue\u001b[0m\u001b[0;34m,\u001b[0m \u001b[0mname\u001b[0m\u001b[0;34m)\u001b[0m\u001b[0;34m\u001b[0m\u001b[0;34m\u001b[0m\u001b[0m\n",
            "\u001b[0;32m/usr/local/lib/python3.9/dist-packages/pandas/core/indexing.py\u001b[0m in \u001b[0;36m_setitem_with_indexer_split_path\u001b[0;34m(self, indexer, value, name)\u001b[0m\n\u001b[1;32m   1782\u001b[0m             \u001b[0;31m# scalar value\u001b[0m\u001b[0;34m\u001b[0m\u001b[0;34m\u001b[0m\u001b[0m\n\u001b[1;32m   1783\u001b[0m             \u001b[0;32mfor\u001b[0m \u001b[0mloc\u001b[0m \u001b[0;32min\u001b[0m \u001b[0milocs\u001b[0m\u001b[0;34m:\u001b[0m\u001b[0;34m\u001b[0m\u001b[0;34m\u001b[0m\u001b[0m\n\u001b[0;32m-> 1784\u001b[0;31m                 \u001b[0mself\u001b[0m\u001b[0;34m.\u001b[0m\u001b[0m_setitem_single_column\u001b[0m\u001b[0;34m(\u001b[0m\u001b[0mloc\u001b[0m\u001b[0;34m,\u001b[0m \u001b[0mvalue\u001b[0m\u001b[0;34m,\u001b[0m \u001b[0mpi\u001b[0m\u001b[0;34m)\u001b[0m\u001b[0;34m\u001b[0m\u001b[0;34m\u001b[0m\u001b[0m\n\u001b[0m\u001b[1;32m   1785\u001b[0m \u001b[0;34m\u001b[0m\u001b[0m\n\u001b[1;32m   1786\u001b[0m     \u001b[0;32mdef\u001b[0m \u001b[0m_setitem_with_indexer_2d_value\u001b[0m\u001b[0;34m(\u001b[0m\u001b[0mself\u001b[0m\u001b[0;34m,\u001b[0m \u001b[0mindexer\u001b[0m\u001b[0;34m,\u001b[0m \u001b[0mvalue\u001b[0m\u001b[0;34m)\u001b[0m\u001b[0;34m:\u001b[0m\u001b[0;34m\u001b[0m\u001b[0;34m\u001b[0m\u001b[0m\n",
            "\u001b[0;32m/usr/local/lib/python3.9/dist-packages/pandas/core/indexing.py\u001b[0m in \u001b[0;36m_setitem_single_column\u001b[0;34m(self, loc, value, plane_indexer)\u001b[0m\n\u001b[1;32m   1863\u001b[0m         \u001b[0mpi\u001b[0m \u001b[0;34m=\u001b[0m \u001b[0mplane_indexer\u001b[0m\u001b[0;34m\u001b[0m\u001b[0;34m\u001b[0m\u001b[0m\n\u001b[1;32m   1864\u001b[0m \u001b[0;34m\u001b[0m\u001b[0m\n\u001b[0;32m-> 1865\u001b[0;31m         \u001b[0mser\u001b[0m \u001b[0;34m=\u001b[0m \u001b[0mself\u001b[0m\u001b[0;34m.\u001b[0m\u001b[0mobj\u001b[0m\u001b[0;34m.\u001b[0m\u001b[0m_ixs\u001b[0m\u001b[0;34m(\u001b[0m\u001b[0mloc\u001b[0m\u001b[0;34m,\u001b[0m \u001b[0maxis\u001b[0m\u001b[0;34m=\u001b[0m\u001b[0;36m1\u001b[0m\u001b[0;34m)\u001b[0m\u001b[0;34m\u001b[0m\u001b[0;34m\u001b[0m\u001b[0m\n\u001b[0m\u001b[1;32m   1866\u001b[0m \u001b[0;34m\u001b[0m\u001b[0m\n\u001b[1;32m   1867\u001b[0m         \u001b[0;31m# perform the equivalent of a setitem on the info axis\u001b[0m\u001b[0;34m\u001b[0m\u001b[0;34m\u001b[0m\u001b[0m\n",
            "\u001b[0;32m/usr/local/lib/python3.9/dist-packages/pandas/core/frame.py\u001b[0m in \u001b[0;36m_ixs\u001b[0;34m(self, i, axis)\u001b[0m\n\u001b[1;32m   3439\u001b[0m             \u001b[0mlabel\u001b[0m \u001b[0;34m=\u001b[0m \u001b[0mself\u001b[0m\u001b[0;34m.\u001b[0m\u001b[0mcolumns\u001b[0m\u001b[0;34m[\u001b[0m\u001b[0mi\u001b[0m\u001b[0;34m]\u001b[0m\u001b[0;34m\u001b[0m\u001b[0;34m\u001b[0m\u001b[0m\n\u001b[1;32m   3440\u001b[0m \u001b[0;34m\u001b[0m\u001b[0m\n\u001b[0;32m-> 3441\u001b[0;31m             \u001b[0mcol_mgr\u001b[0m \u001b[0;34m=\u001b[0m \u001b[0mself\u001b[0m\u001b[0;34m.\u001b[0m\u001b[0m_mgr\u001b[0m\u001b[0;34m.\u001b[0m\u001b[0miget\u001b[0m\u001b[0;34m(\u001b[0m\u001b[0mi\u001b[0m\u001b[0;34m)\u001b[0m\u001b[0;34m\u001b[0m\u001b[0;34m\u001b[0m\u001b[0m\n\u001b[0m\u001b[1;32m   3442\u001b[0m             \u001b[0mresult\u001b[0m \u001b[0;34m=\u001b[0m \u001b[0mself\u001b[0m\u001b[0;34m.\u001b[0m\u001b[0m_box_col_values\u001b[0m\u001b[0;34m(\u001b[0m\u001b[0mcol_mgr\u001b[0m\u001b[0;34m,\u001b[0m \u001b[0mi\u001b[0m\u001b[0;34m)\u001b[0m\u001b[0;34m\u001b[0m\u001b[0;34m\u001b[0m\u001b[0m\n\u001b[1;32m   3443\u001b[0m \u001b[0;34m\u001b[0m\u001b[0m\n",
            "\u001b[0;32m/usr/local/lib/python3.9/dist-packages/pandas/core/internals/managers.py\u001b[0m in \u001b[0;36miget\u001b[0;34m(self, i)\u001b[0m\n\u001b[1;32m   1034\u001b[0m         \u001b[0mbp\u001b[0m \u001b[0;34m=\u001b[0m \u001b[0mBlockPlacement\u001b[0m\u001b[0;34m(\u001b[0m\u001b[0mslice\u001b[0m\u001b[0;34m(\u001b[0m\u001b[0;36m0\u001b[0m\u001b[0;34m,\u001b[0m \u001b[0mlen\u001b[0m\u001b[0;34m(\u001b[0m\u001b[0mvalues\u001b[0m\u001b[0;34m)\u001b[0m\u001b[0;34m)\u001b[0m\u001b[0;34m)\u001b[0m\u001b[0;34m\u001b[0m\u001b[0;34m\u001b[0m\u001b[0m\n\u001b[1;32m   1035\u001b[0m         \u001b[0mnb\u001b[0m \u001b[0;34m=\u001b[0m \u001b[0mtype\u001b[0m\u001b[0;34m(\u001b[0m\u001b[0mblock\u001b[0m\u001b[0;34m)\u001b[0m\u001b[0;34m(\u001b[0m\u001b[0mvalues\u001b[0m\u001b[0;34m,\u001b[0m \u001b[0mplacement\u001b[0m\u001b[0;34m=\u001b[0m\u001b[0mbp\u001b[0m\u001b[0;34m,\u001b[0m \u001b[0mndim\u001b[0m\u001b[0;34m=\u001b[0m\u001b[0;36m1\u001b[0m\u001b[0;34m)\u001b[0m\u001b[0;34m\u001b[0m\u001b[0;34m\u001b[0m\u001b[0m\n\u001b[0;32m-> 1036\u001b[0;31m         \u001b[0;32mreturn\u001b[0m \u001b[0mSingleBlockManager\u001b[0m\u001b[0;34m(\u001b[0m\u001b[0mnb\u001b[0m\u001b[0;34m,\u001b[0m \u001b[0mself\u001b[0m\u001b[0;34m.\u001b[0m\u001b[0maxes\u001b[0m\u001b[0;34m[\u001b[0m\u001b[0;36m1\u001b[0m\u001b[0;34m]\u001b[0m\u001b[0;34m)\u001b[0m\u001b[0;34m\u001b[0m\u001b[0;34m\u001b[0m\u001b[0m\n\u001b[0m\u001b[1;32m   1037\u001b[0m \u001b[0;34m\u001b[0m\u001b[0m\n\u001b[1;32m   1038\u001b[0m     \u001b[0;32mdef\u001b[0m \u001b[0miget_values\u001b[0m\u001b[0;34m(\u001b[0m\u001b[0mself\u001b[0m\u001b[0;34m,\u001b[0m \u001b[0mi\u001b[0m\u001b[0;34m:\u001b[0m \u001b[0mint\u001b[0m\u001b[0;34m)\u001b[0m \u001b[0;34m->\u001b[0m \u001b[0mArrayLike\u001b[0m\u001b[0;34m:\u001b[0m\u001b[0;34m\u001b[0m\u001b[0;34m\u001b[0m\u001b[0m\n",
            "\u001b[0;32m/usr/local/lib/python3.9/dist-packages/pandas/core/internals/managers.py\u001b[0m in \u001b[0;36m__init__\u001b[0;34m(self, block, axis, verify_integrity, fastpath)\u001b[0m\n\u001b[1;32m   1723\u001b[0m         \u001b[0;31m# assert isinstance(axis, Index), type(axis)\u001b[0m\u001b[0;34m\u001b[0m\u001b[0;34m\u001b[0m\u001b[0m\n\u001b[1;32m   1724\u001b[0m \u001b[0;34m\u001b[0m\u001b[0m\n\u001b[0;32m-> 1725\u001b[0;31m         \u001b[0;32mif\u001b[0m \u001b[0mfastpath\u001b[0m \u001b[0;32mis\u001b[0m \u001b[0;32mnot\u001b[0m \u001b[0mlib\u001b[0m\u001b[0;34m.\u001b[0m\u001b[0mno_default\u001b[0m\u001b[0;34m:\u001b[0m\u001b[0;34m\u001b[0m\u001b[0;34m\u001b[0m\u001b[0m\n\u001b[0m\u001b[1;32m   1726\u001b[0m             warnings.warn(\n\u001b[1;32m   1727\u001b[0m                 \u001b[0;34m\"The `fastpath` keyword is deprecated and will be removed \"\u001b[0m\u001b[0;34m\u001b[0m\u001b[0;34m\u001b[0m\u001b[0m\n",
            "\u001b[0;31mKeyboardInterrupt\u001b[0m: "
          ]
        }
      ]
    },
    {
      "cell_type": "code",
      "source": [
        "for i, (station_data, code) in enumerate(zip(station_weather_df_list, station_codes)):\n",
        "  lat = station_location_df[station_location_df[\"Code\"] == code ].Latitude.values[0]\n",
        "  lon = station_location_df[station_location_df[\"Code\"] == code ].Longitude.values[0]\n",
        "  station_weather_df_list[i] = station_data.assign(code = code, lat = lat, lon = lon)\n",
        "\n",
        "combined_weather_df = pd.concat(station_weather_df_list, axis=0)"
      ],
      "metadata": {
        "id": "cH2IoUgn1VsJ"
      },
      "execution_count": null,
      "outputs": []
    },
    {
      "cell_type": "code",
      "source": [
        "combined_weather_df[\"rain\"] = combined_weather_df[\"rain\"].fillna(0)"
      ],
      "metadata": {
        "id": "V_CAtt_1LlTA"
      },
      "execution_count": null,
      "outputs": []
    },
    {
      "cell_type": "code",
      "source": [
        "combined_weather_df.info()"
      ],
      "metadata": {
        "id": "5jWeVdcsMQVK"
      },
      "execution_count": null,
      "outputs": []
    },
    {
      "cell_type": "code",
      "source": [
        "from sklearn.model_selection import train_test_split, cross_val_score\n",
        "from xgboost import XGBRegressor\n",
        "\n",
        "no_missing_weather_df = combined_weather_df[combined_weather_df[\"avg\"].notnull()]\n",
        "no_missing_weather_train_df = no_missing_weather_df.drop([\"code\", \"rain\"], axis=1)\n",
        "no_missing_weather_train_df['year'] = no_missing_weather_train_df['date'].dt.year\n",
        "no_missing_weather_train_df['month'] = no_missing_weather_train_df['date'].dt.month\n",
        "no_missing_weather_train_df['day'] = no_missing_weather_train_df['date'].dt.day\n",
        "no_missing_weather_train_df = no_missing_weather_train_df.drop(\"date\", axis=1)\n",
        "\n",
        "X_fill_avg = no_missing_weather_train_df.drop(\"avg\", axis=1)\n",
        "y_fill_avg = no_missing_weather_train_df[\"avg\"]\n",
        "X_avg_train, X_avg_test, y_avg_train, y_avg_test = train_test_split(X_fill_avg, y_fill_avg, test_size=0.1)\n",
        "evaluation = [(X_avg_train, y_avg_train), (X_avg_test, y_avg_test)]\n",
        "\n",
        "model = XGBRegressor(early_stopping_rounds=300)\n",
        "model.fit(X_avg_train, y_avg_train, eval_set=evaluation, verbose=1)"
      ],
      "metadata": {
        "id": "3zmIAmj1Bp3f"
      },
      "execution_count": null,
      "outputs": []
    },
    {
      "cell_type": "code",
      "source": [
        "missing_avg_weather_df = combined_weather_df[combined_weather_df[\"avg\"].isnull()]\n",
        "missing_avg_weather_prediction_X_df = missing_avg_weather_df.drop([\"avg\", \"code\", \"rain\"], axis=1)\n",
        "missing_avg_weather_prediction_X_df['year'] = missing_avg_weather_prediction_X_df['date'].dt.year\n",
        "missing_avg_weather_prediction_X_df['month'] = missing_avg_weather_prediction_X_df['date'].dt.month\n",
        "missing_avg_weather_prediction_X_df['day'] = missing_avg_weather_prediction_X_df['date'].dt.day\n",
        "missing_avg_weather_prediction_X_df = missing_avg_weather_prediction_X_df.drop(\"date\", axis=1)\n",
        "\n",
        "missing_avg_weather_prediction_y_df = model.predict(missing_avg_weather_prediction_X_df)\n",
        "missing_avg_weather_df[\"avg\"] = missing_avg_weather_prediction_y_df"
      ],
      "metadata": {
        "id": "P6_m4l24P7Fs"
      },
      "execution_count": null,
      "outputs": []
    },
    {
      "cell_type": "code",
      "source": [
        "missing_avg_weather_df.info()"
      ],
      "metadata": {
        "id": "UjQnt97lXxpJ"
      },
      "execution_count": null,
      "outputs": []
    },
    {
      "cell_type": "code",
      "source": [
        "weather_df = pd.concat([missing_avg_weather_df, no_missing_weather_df], axis=0)"
      ],
      "metadata": {
        "id": "lkk1w2A7Vzdp"
      },
      "execution_count": null,
      "outputs": []
    },
    {
      "cell_type": "code",
      "source": [
        "weather_df.info()"
      ],
      "metadata": {
        "colab": {
          "base_uri": "https://localhost:8080/"
        },
        "id": "fGvdZ2V2M9Le",
        "outputId": "421c3d70-f6c6-4e31-d4da-22cf69551ad2"
      },
      "execution_count": 21,
      "outputs": [
        {
          "output_type": "stream",
          "name": "stdout",
          "text": [
            "<class 'pandas.core.frame.DataFrame'>\n",
            "RangeIndex: 603227 entries, 0 to 603226\n",
            "Data columns (total 9 columns):\n",
            " #   Column      Non-Null Count   Dtype  \n",
            "---  ------      --------------   -----  \n",
            " 0   Unnamed: 0  603227 non-null  int64  \n",
            " 1   date        603227 non-null  object \n",
            " 2   avg         603227 non-null  float64\n",
            " 3   min         603227 non-null  float64\n",
            " 4   max         603227 non-null  float64\n",
            " 5   rain        603227 non-null  float64\n",
            " 6   code        603227 non-null  object \n",
            " 7   lat         603227 non-null  float64\n",
            " 8   lon         603227 non-null  float64\n",
            "dtypes: float64(6), int64(1), object(2)\n",
            "memory usage: 41.4+ MB\n"
          ]
        }
      ]
    },
    {
      "cell_type": "code",
      "source": [
        "filename = 'weather_df.csv'\n",
        "weather_df.to_csv('/content/drive/MyDrive/quant' + filename)"
      ],
      "metadata": {
        "id": "KOTtbsmsM2QR"
      },
      "execution_count": 6,
      "outputs": []
    },
    {
      "cell_type": "code",
      "source": [
        "#normalizálás\n",
        "from sklearn.preprocessing import MinMaxScaler\n",
        "\n",
        "avg_scaler = MinMaxScaler()\n",
        "min_scaler = MinMaxScaler()\n",
        "max_scaler = MinMaxScaler()\n",
        "rain_scaler = MinMaxScaler()\n",
        "\n",
        "weather_df[\"avg\"] = avg_scaler.fit_transform(weather_df[\"avg\"])\n",
        "weather_df[\"min\"] = min_scaler.fit_transform(weather_df[\"min\"])\n",
        "weather_df[\"max\"] = max_scaler.fit_transform(weather_df[\"max\"])\n",
        "weather_df[\"rain\"] = rain_scaler.fit_transform(weather_df[\"rain\"])"
      ],
      "metadata": {
        "id": "k6BFlIU8QIfO",
        "outputId": "b0e7cdb6-56b9-4dcc-b06a-c90f8d38bf2d",
        "colab": {
          "base_uri": "https://localhost:8080/",
          "height": 496
        }
      },
      "execution_count": 34,
      "outputs": [
        {
          "output_type": "error",
          "ename": "ValueError",
          "evalue": "ignored",
          "traceback": [
            "\u001b[0;31m---------------------------------------------------------------------------\u001b[0m",
            "\u001b[0;31mValueError\u001b[0m                                Traceback (most recent call last)",
            "\u001b[0;32m<ipython-input-34-2e19c0d5219e>\u001b[0m in \u001b[0;36m<cell line: 9>\u001b[0;34m()\u001b[0m\n\u001b[1;32m      7\u001b[0m \u001b[0mrain_scaler\u001b[0m \u001b[0;34m=\u001b[0m \u001b[0mMinMaxScaler\u001b[0m\u001b[0;34m(\u001b[0m\u001b[0;34m)\u001b[0m\u001b[0;34m\u001b[0m\u001b[0;34m\u001b[0m\u001b[0m\n\u001b[1;32m      8\u001b[0m \u001b[0;34m\u001b[0m\u001b[0m\n\u001b[0;32m----> 9\u001b[0;31m \u001b[0mweather_df\u001b[0m\u001b[0;34m[\u001b[0m\u001b[0;34m\"avg\"\u001b[0m\u001b[0;34m]\u001b[0m \u001b[0;34m=\u001b[0m \u001b[0mavg_scaler\u001b[0m\u001b[0;34m.\u001b[0m\u001b[0mfit_transform\u001b[0m\u001b[0;34m(\u001b[0m\u001b[0mweather_df\u001b[0m\u001b[0;34m[\u001b[0m\u001b[0;34m\"avg\"\u001b[0m\u001b[0;34m]\u001b[0m\u001b[0;34m)\u001b[0m\u001b[0;34m\u001b[0m\u001b[0;34m\u001b[0m\u001b[0m\n\u001b[0m\u001b[1;32m     10\u001b[0m \u001b[0mweather_df\u001b[0m\u001b[0;34m[\u001b[0m\u001b[0;34m\"min\"\u001b[0m\u001b[0;34m]\u001b[0m \u001b[0;34m=\u001b[0m \u001b[0mmin_scaler\u001b[0m\u001b[0;34m.\u001b[0m\u001b[0mfit_transform\u001b[0m\u001b[0;34m(\u001b[0m\u001b[0mweather_df\u001b[0m\u001b[0;34m[\u001b[0m\u001b[0;34m\"min\"\u001b[0m\u001b[0;34m]\u001b[0m\u001b[0;34m)\u001b[0m\u001b[0;34m\u001b[0m\u001b[0;34m\u001b[0m\u001b[0m\n\u001b[1;32m     11\u001b[0m \u001b[0mweather_df\u001b[0m\u001b[0;34m[\u001b[0m\u001b[0;34m\"max\"\u001b[0m\u001b[0;34m]\u001b[0m \u001b[0;34m=\u001b[0m \u001b[0mmax_scaler\u001b[0m\u001b[0;34m.\u001b[0m\u001b[0mfit_transform\u001b[0m\u001b[0;34m(\u001b[0m\u001b[0mweather_df\u001b[0m\u001b[0;34m[\u001b[0m\u001b[0;34m\"max\"\u001b[0m\u001b[0;34m]\u001b[0m\u001b[0;34m)\u001b[0m\u001b[0;34m\u001b[0m\u001b[0;34m\u001b[0m\u001b[0m\n",
            "\u001b[0;32m/usr/local/lib/python3.9/dist-packages/sklearn/utils/_set_output.py\u001b[0m in \u001b[0;36mwrapped\u001b[0;34m(self, X, *args, **kwargs)\u001b[0m\n\u001b[1;32m    138\u001b[0m     \u001b[0;34m@\u001b[0m\u001b[0mwraps\u001b[0m\u001b[0;34m(\u001b[0m\u001b[0mf\u001b[0m\u001b[0;34m)\u001b[0m\u001b[0;34m\u001b[0m\u001b[0;34m\u001b[0m\u001b[0m\n\u001b[1;32m    139\u001b[0m     \u001b[0;32mdef\u001b[0m \u001b[0mwrapped\u001b[0m\u001b[0;34m(\u001b[0m\u001b[0mself\u001b[0m\u001b[0;34m,\u001b[0m \u001b[0mX\u001b[0m\u001b[0;34m,\u001b[0m \u001b[0;34m*\u001b[0m\u001b[0margs\u001b[0m\u001b[0;34m,\u001b[0m \u001b[0;34m**\u001b[0m\u001b[0mkwargs\u001b[0m\u001b[0;34m)\u001b[0m\u001b[0;34m:\u001b[0m\u001b[0;34m\u001b[0m\u001b[0;34m\u001b[0m\u001b[0m\n\u001b[0;32m--> 140\u001b[0;31m         \u001b[0mdata_to_wrap\u001b[0m \u001b[0;34m=\u001b[0m \u001b[0mf\u001b[0m\u001b[0;34m(\u001b[0m\u001b[0mself\u001b[0m\u001b[0;34m,\u001b[0m \u001b[0mX\u001b[0m\u001b[0;34m,\u001b[0m \u001b[0;34m*\u001b[0m\u001b[0margs\u001b[0m\u001b[0;34m,\u001b[0m \u001b[0;34m**\u001b[0m\u001b[0mkwargs\u001b[0m\u001b[0;34m)\u001b[0m\u001b[0;34m\u001b[0m\u001b[0;34m\u001b[0m\u001b[0m\n\u001b[0m\u001b[1;32m    141\u001b[0m         \u001b[0;32mif\u001b[0m \u001b[0misinstance\u001b[0m\u001b[0;34m(\u001b[0m\u001b[0mdata_to_wrap\u001b[0m\u001b[0;34m,\u001b[0m \u001b[0mtuple\u001b[0m\u001b[0;34m)\u001b[0m\u001b[0;34m:\u001b[0m\u001b[0;34m\u001b[0m\u001b[0;34m\u001b[0m\u001b[0m\n\u001b[1;32m    142\u001b[0m             \u001b[0;31m# only wrap the first output for cross decomposition\u001b[0m\u001b[0;34m\u001b[0m\u001b[0;34m\u001b[0m\u001b[0m\n",
            "\u001b[0;32m/usr/local/lib/python3.9/dist-packages/sklearn/base.py\u001b[0m in \u001b[0;36mfit_transform\u001b[0;34m(self, X, y, **fit_params)\u001b[0m\n\u001b[1;32m    876\u001b[0m         \u001b[0;32mif\u001b[0m \u001b[0my\u001b[0m \u001b[0;32mis\u001b[0m \u001b[0;32mNone\u001b[0m\u001b[0;34m:\u001b[0m\u001b[0;34m\u001b[0m\u001b[0;34m\u001b[0m\u001b[0m\n\u001b[1;32m    877\u001b[0m             \u001b[0;31m# fit method of arity 1 (unsupervised transformation)\u001b[0m\u001b[0;34m\u001b[0m\u001b[0;34m\u001b[0m\u001b[0m\n\u001b[0;32m--> 878\u001b[0;31m             \u001b[0;32mreturn\u001b[0m \u001b[0mself\u001b[0m\u001b[0;34m.\u001b[0m\u001b[0mfit\u001b[0m\u001b[0;34m(\u001b[0m\u001b[0mX\u001b[0m\u001b[0;34m,\u001b[0m \u001b[0;34m**\u001b[0m\u001b[0mfit_params\u001b[0m\u001b[0;34m)\u001b[0m\u001b[0;34m.\u001b[0m\u001b[0mtransform\u001b[0m\u001b[0;34m(\u001b[0m\u001b[0mX\u001b[0m\u001b[0;34m)\u001b[0m\u001b[0;34m\u001b[0m\u001b[0;34m\u001b[0m\u001b[0m\n\u001b[0m\u001b[1;32m    879\u001b[0m         \u001b[0;32melse\u001b[0m\u001b[0;34m:\u001b[0m\u001b[0;34m\u001b[0m\u001b[0;34m\u001b[0m\u001b[0m\n\u001b[1;32m    880\u001b[0m             \u001b[0;31m# fit method of arity 2 (supervised transformation)\u001b[0m\u001b[0;34m\u001b[0m\u001b[0;34m\u001b[0m\u001b[0m\n",
            "\u001b[0;32m/usr/local/lib/python3.9/dist-packages/sklearn/preprocessing/_data.py\u001b[0m in \u001b[0;36mfit\u001b[0;34m(self, X, y)\u001b[0m\n\u001b[1;32m    425\u001b[0m         \u001b[0;31m# Reset internal state before fitting\u001b[0m\u001b[0;34m\u001b[0m\u001b[0;34m\u001b[0m\u001b[0m\n\u001b[1;32m    426\u001b[0m         \u001b[0mself\u001b[0m\u001b[0;34m.\u001b[0m\u001b[0m_reset\u001b[0m\u001b[0;34m(\u001b[0m\u001b[0;34m)\u001b[0m\u001b[0;34m\u001b[0m\u001b[0;34m\u001b[0m\u001b[0m\n\u001b[0;32m--> 427\u001b[0;31m         \u001b[0;32mreturn\u001b[0m \u001b[0mself\u001b[0m\u001b[0;34m.\u001b[0m\u001b[0mpartial_fit\u001b[0m\u001b[0;34m(\u001b[0m\u001b[0mX\u001b[0m\u001b[0;34m,\u001b[0m \u001b[0my\u001b[0m\u001b[0;34m)\u001b[0m\u001b[0;34m\u001b[0m\u001b[0;34m\u001b[0m\u001b[0m\n\u001b[0m\u001b[1;32m    428\u001b[0m \u001b[0;34m\u001b[0m\u001b[0m\n\u001b[1;32m    429\u001b[0m     \u001b[0;32mdef\u001b[0m \u001b[0mpartial_fit\u001b[0m\u001b[0;34m(\u001b[0m\u001b[0mself\u001b[0m\u001b[0;34m,\u001b[0m \u001b[0mX\u001b[0m\u001b[0;34m,\u001b[0m \u001b[0my\u001b[0m\u001b[0;34m=\u001b[0m\u001b[0;32mNone\u001b[0m\u001b[0;34m)\u001b[0m\u001b[0;34m:\u001b[0m\u001b[0;34m\u001b[0m\u001b[0;34m\u001b[0m\u001b[0m\n",
            "\u001b[0;32m/usr/local/lib/python3.9/dist-packages/sklearn/preprocessing/_data.py\u001b[0m in \u001b[0;36mpartial_fit\u001b[0;34m(self, X, y)\u001b[0m\n\u001b[1;32m    464\u001b[0m \u001b[0;34m\u001b[0m\u001b[0m\n\u001b[1;32m    465\u001b[0m         \u001b[0mfirst_pass\u001b[0m \u001b[0;34m=\u001b[0m \u001b[0;32mnot\u001b[0m \u001b[0mhasattr\u001b[0m\u001b[0;34m(\u001b[0m\u001b[0mself\u001b[0m\u001b[0;34m,\u001b[0m \u001b[0;34m\"n_samples_seen_\"\u001b[0m\u001b[0;34m)\u001b[0m\u001b[0;34m\u001b[0m\u001b[0;34m\u001b[0m\u001b[0m\n\u001b[0;32m--> 466\u001b[0;31m         X = self._validate_data(\n\u001b[0m\u001b[1;32m    467\u001b[0m             \u001b[0mX\u001b[0m\u001b[0;34m,\u001b[0m\u001b[0;34m\u001b[0m\u001b[0;34m\u001b[0m\u001b[0m\n\u001b[1;32m    468\u001b[0m             \u001b[0mreset\u001b[0m\u001b[0;34m=\u001b[0m\u001b[0mfirst_pass\u001b[0m\u001b[0;34m,\u001b[0m\u001b[0;34m\u001b[0m\u001b[0;34m\u001b[0m\u001b[0m\n",
            "\u001b[0;32m/usr/local/lib/python3.9/dist-packages/sklearn/base.py\u001b[0m in \u001b[0;36m_validate_data\u001b[0;34m(self, X, y, reset, validate_separately, **check_params)\u001b[0m\n\u001b[1;32m    563\u001b[0m             \u001b[0;32mraise\u001b[0m \u001b[0mValueError\u001b[0m\u001b[0;34m(\u001b[0m\u001b[0;34m\"Validation should be done on X, y or both.\"\u001b[0m\u001b[0;34m)\u001b[0m\u001b[0;34m\u001b[0m\u001b[0;34m\u001b[0m\u001b[0m\n\u001b[1;32m    564\u001b[0m         \u001b[0;32melif\u001b[0m \u001b[0;32mnot\u001b[0m \u001b[0mno_val_X\u001b[0m \u001b[0;32mand\u001b[0m \u001b[0mno_val_y\u001b[0m\u001b[0;34m:\u001b[0m\u001b[0;34m\u001b[0m\u001b[0;34m\u001b[0m\u001b[0m\n\u001b[0;32m--> 565\u001b[0;31m             \u001b[0mX\u001b[0m \u001b[0;34m=\u001b[0m \u001b[0mcheck_array\u001b[0m\u001b[0;34m(\u001b[0m\u001b[0mX\u001b[0m\u001b[0;34m,\u001b[0m \u001b[0minput_name\u001b[0m\u001b[0;34m=\u001b[0m\u001b[0;34m\"X\"\u001b[0m\u001b[0;34m,\u001b[0m \u001b[0;34m**\u001b[0m\u001b[0mcheck_params\u001b[0m\u001b[0;34m)\u001b[0m\u001b[0;34m\u001b[0m\u001b[0;34m\u001b[0m\u001b[0m\n\u001b[0m\u001b[1;32m    566\u001b[0m             \u001b[0mout\u001b[0m \u001b[0;34m=\u001b[0m \u001b[0mX\u001b[0m\u001b[0;34m\u001b[0m\u001b[0;34m\u001b[0m\u001b[0m\n\u001b[1;32m    567\u001b[0m         \u001b[0;32melif\u001b[0m \u001b[0mno_val_X\u001b[0m \u001b[0;32mand\u001b[0m \u001b[0;32mnot\u001b[0m \u001b[0mno_val_y\u001b[0m\u001b[0;34m:\u001b[0m\u001b[0;34m\u001b[0m\u001b[0;34m\u001b[0m\u001b[0m\n",
            "\u001b[0;32m/usr/local/lib/python3.9/dist-packages/sklearn/utils/validation.py\u001b[0m in \u001b[0;36mcheck_array\u001b[0;34m(array, accept_sparse, accept_large_sparse, dtype, order, copy, force_all_finite, ensure_2d, allow_nd, ensure_min_samples, ensure_min_features, estimator, input_name)\u001b[0m\n\u001b[1;32m    900\u001b[0m             \u001b[0;31m# If input is 1D raise error\u001b[0m\u001b[0;34m\u001b[0m\u001b[0;34m\u001b[0m\u001b[0m\n\u001b[1;32m    901\u001b[0m             \u001b[0;32mif\u001b[0m \u001b[0marray\u001b[0m\u001b[0;34m.\u001b[0m\u001b[0mndim\u001b[0m \u001b[0;34m==\u001b[0m \u001b[0;36m1\u001b[0m\u001b[0;34m:\u001b[0m\u001b[0;34m\u001b[0m\u001b[0;34m\u001b[0m\u001b[0m\n\u001b[0;32m--> 902\u001b[0;31m                 raise ValueError(\n\u001b[0m\u001b[1;32m    903\u001b[0m                     \u001b[0;34m\"Expected 2D array, got 1D array instead:\\narray={}.\\n\"\u001b[0m\u001b[0;34m\u001b[0m\u001b[0;34m\u001b[0m\u001b[0m\n\u001b[1;32m    904\u001b[0m                     \u001b[0;34m\"Reshape your data either using array.reshape(-1, 1) if \"\u001b[0m\u001b[0;34m\u001b[0m\u001b[0;34m\u001b[0m\u001b[0m\n",
            "\u001b[0;31mValueError\u001b[0m: Expected 2D array, got 1D array instead:\narray=[-19.24879074 -13.54788399  -5.73062849 ...  19.9         21.1\n  17.7       ].\nReshape your data either using array.reshape(-1, 1) if your data has a single feature or array.reshape(1, -1) if it contains a single sample."
          ]
        }
      ]
    },
    {
      "cell_type": "code",
      "source": [
        "weather_stations = []\n",
        "for code in station_codes:\n",
        "  station = dict()\n",
        "  station[\"code\"] = code\n",
        "  station[\"lat\"] = station_location_df[station_location_df[\"Code\"] == code][\"Latitude\"].values[0]\n",
        "  station[\"lon\"] = station_location_df[station_location_df[\"Code\"] == code][\"Longitude\"].values[0]\n",
        "\n",
        "  weather_data = weather_df[weather_df['code'] == code].drop([\"code\", \"Unnamed: 0\", \"lat\", \"lon\"], axis=1)\n",
        "  station[\"weather_daily\"] = weather_data\n",
        "\n",
        "  weather_data[\"date\"] = pd.to_datetime(weather_data[\"date\"])\n",
        "  weather_data[\"year\"] = weather_data['date'].dt.year\n",
        "  weather_data['week'] = weather_data['date'].dt.isocalendar().week\n",
        "  weather_data = weather_data.drop(\"date\", axis=1)\n",
        "  weekly_stats = weather_data.groupby(['year', 'week']).agg({'min': ['mean', 'std'], 'max': ['mean', 'std'], 'avg': ['mean', 'std'], 'rain': ['mean', 'std']})\n",
        "  weekly_stats = weekly_stats.reset_index()\n",
        "  weekly_stats.columns = ['year', 'week', 'min_mean', 'min_std', 'max_mean', 'max_std', 'avg_mean', 'avg_std', 'rain_mean', 'rain_std']\n",
        "  weekly_stats = weekly_stats.fillna(0)\n",
        "  weekly_stats.set_index('week',inplace=True)\n",
        "\n",
        "  for i in range(1, 52+1):\n",
        "    if not (weekly_stats.index == i).any():\n",
        "      if i == 1:\n",
        "        weekly_stats.loc[i] = 0\n",
        "      else:\n",
        "        weekly_stats.loc[i] = weekly_stats.loc[i-1]\n",
        "  station[\"weather_weekly\"] = weekly_stats\n",
        "  weather_stations.append(station)\n",
        "len(weather_stations)"
      ],
      "metadata": {
        "colab": {
          "base_uri": "https://localhost:8080/"
        },
        "id": "V-BuKtvZP_P-",
        "outputId": "68dd2371-dd92-44a5-cabb-b77dd26e8d95"
      },
      "execution_count": 31,
      "outputs": [
        {
          "output_type": "execute_result",
          "data": {
            "text/plain": [
              "97"
            ]
          },
          "metadata": {},
          "execution_count": 31
        }
      ]
    },
    {
      "cell_type": "code",
      "source": [
        "weather_stations[0][\"weather_weekly\"].info()"
      ],
      "metadata": {
        "colab": {
          "base_uri": "https://localhost:8080/"
        },
        "id": "KRcdNc4dhRoZ",
        "outputId": "a0d60b77-d949-4835-e8fc-2cce3969860f"
      },
      "execution_count": 32,
      "outputs": [
        {
          "output_type": "stream",
          "name": "stdout",
          "text": [
            "<class 'pandas.core.frame.DataFrame'>\n",
            "Index: 2588 entries, 1 to 52\n",
            "Data columns (total 9 columns):\n",
            " #   Column     Non-Null Count  Dtype  \n",
            "---  ------     --------------  -----  \n",
            " 0   year       2588 non-null   int64  \n",
            " 1   min_mean   2588 non-null   float64\n",
            " 2   min_std    2588 non-null   float64\n",
            " 3   max_mean   2588 non-null   float64\n",
            " 4   max_std    2588 non-null   float64\n",
            " 5   avg_mean   2588 non-null   float64\n",
            " 6   avg_std    2588 non-null   float64\n",
            " 7   rain_mean  2588 non-null   float64\n",
            " 8   rain_std   2588 non-null   float64\n",
            "dtypes: float64(8), int64(1)\n",
            "memory usage: 194.6 KB\n"
          ]
        }
      ]
    },
    {
      "cell_type": "markdown",
      "source": [
        "# Prepare crop data"
      ],
      "metadata": {
        "id": "oTL5KERJY8Ls"
      }
    },
    {
      "cell_type": "code",
      "source": [
        "county_locations_df = pd.read_csv(county_location_file_path)\n",
        "county_agr_prod_df = pd.read_csv(county_agr_prod_file_path, decimal=',')"
      ],
      "metadata": {
        "id": "tOs48SDRSVcZ"
      },
      "execution_count": 33,
      "outputs": []
    },
    {
      "cell_type": "code",
      "source": [
        "county_agr_prod_df.info()"
      ],
      "metadata": {
        "colab": {
          "base_uri": "https://localhost:8080/"
        },
        "id": "GyM5JdLCxfHC",
        "outputId": "aeaad510-9614-43ea-e404-148eb7a3cc4f"
      },
      "execution_count": 9,
      "outputs": [
        {
          "output_type": "stream",
          "name": "stdout",
          "text": [
            "<class 'pandas.core.frame.DataFrame'>\n",
            "RangeIndex: 56268 entries, 0 to 56267\n",
            "Data columns (total 7 columns):\n",
            " #   Column                        Non-Null Count  Dtype \n",
            "---  ------                        --------------  ----- \n",
            " 0   Year                          56268 non-null  int64 \n",
            " 1   County                        56268 non-null  object\n",
            " 2   Commodity                     56268 non-null  object\n",
            " 3   Crop                          56268 non-null  object\n",
            " 4   ACRES HARVESTED               52674 non-null  object\n",
            " 5   PRODUCTION, MEASURED IN BU    33231 non-null  object\n",
            " 6   YIELD, MEASURED IN BU / ACRE  33232 non-null  object\n",
            "dtypes: int64(1), object(6)\n",
            "memory usage: 3.0+ MB\n"
          ]
        }
      ]
    },
    {
      "cell_type": "code",
      "source": [
        "county_agr_prod_df = county_agr_prod_df.rename(\n",
        "    columns={'ACRES HARVESTED': 'acres', \n",
        "             'PRODUCTION, MEASURED IN BU': 'production', \n",
        "             'YIELD, MEASURED IN BU / ACRE': 'yield'})\n",
        "county_agr_prod_df['acres'] = pd.to_numeric(county_agr_prod_df['acres'].astype(str).str.replace(',', '.'), errors='coerce')\n",
        "county_agr_prod_df['production'] = pd.to_numeric(county_agr_prod_df['production'].astype(str).str.replace(',', '.'), errors='coerce')\n",
        "county_agr_prod_df['yield'] = pd.to_numeric(county_agr_prod_df['yield'].astype(str).str.replace(',', '.'), errors='coerce')\n",
        "county_agr_prod_df = county_agr_prod_df[county_agr_prod_df['acres'].notnull() | county_agr_prod_df['production'].notnull() | county_agr_prod_df['yield'].notnull()]\n",
        "\n",
        "corn_df = county_agr_prod_df[county_agr_prod_df[\"Crop\"] == \"CORN, GRAIN\"] #| county_agr_prod_df[\"Crop\"] == \"CORN, SILAGE\"]\n",
        "oat_df = county_agr_prod_df[county_agr_prod_df[\"Crop\"] == \"OATS\"]\n",
        "soybean_df = county_agr_prod_df[county_agr_prod_df[\"Crop\"] == \"SOYBEANS\"]"
      ],
      "metadata": {
        "id": "b5jds8rVuQh0"
      },
      "execution_count": 9,
      "outputs": []
    },
    {
      "cell_type": "code",
      "source": [
        "import matplotlib.pyplot as plt\n",
        "import seaborn as sns\n",
        "\n",
        "plot = corn_df\n",
        "\n",
        "plot = plot[plot['acres'].notnull() & plot['production'].notnull() & plot['yield'].notnull()]\n",
        "numeric_columns = plot.select_dtypes(include=['int64', 'float64']).columns\n",
        "\n",
        "cm = np.corrcoef(plot[numeric_columns].values.T)\n",
        "fig = plt.gcf()\n",
        "fig.set_size_inches(8, 5)\n",
        "hm = sns.heatmap(cm, cbar=True, annot=True, square=True, fmt='.2f', annot_kws={'size': 10}, yticklabels=numeric_columns.values, xticklabels=numeric_columns.values)"
      ],
      "metadata": {
        "colab": {
          "base_uri": "https://localhost:8080/",
          "height": 451
        },
        "id": "9utKbQqPsgCP",
        "outputId": "4615a04e-2f18-4de3-d0b1-9ce8f0864b96"
      },
      "execution_count": 10,
      "outputs": [
        {
          "output_type": "display_data",
          "data": {
            "text/plain": [
              "<Figure size 800x500 with 2 Axes>"
            ],
            "image/png": "[encoded data removed]"
          },
          "metadata": {}
        }
      ]
    },
    {
      "cell_type": "code",
      "source": [
        "county_locations_df['county_name'] = county_locations_df['county_name'].apply(lambda x: ' '.join(x.split()[:-1]).upper())\n",
        "county_locations_df['county_name'] = county_locations_df['county_name'].str.replace('SAINT LOUIS', 'ST. LOUIS')\n",
        "corn_df_extended = pd.merge(corn_df, county_locations_df, how='outer', left_on='County', right_on='county_name')"
      ],
      "metadata": {
        "id": "QabfB3Ue0xPQ"
      },
      "execution_count": 11,
      "outputs": []
    },
    {
      "cell_type": "code",
      "source": [
        "corn_df_clean = corn_df_extended.drop([\"County\", \"Commodity\", \"Crop\", \"county_name\", \"capital_name\", \"production\", \"acres\"], axis=1)\n",
        "corn_df_clean = corn_df_clean[corn_df_clean[\"yield\"].notnull() & corn_df_clean[\"county_latitude\"].notnull() & corn_df_clean[\"county_longitude\"].notnull()]"
      ],
      "metadata": {
        "id": "o1YyMFKt2nwd"
      },
      "execution_count": 12,
      "outputs": []
    },
    {
      "cell_type": "markdown",
      "source": [
        "#Putting it all together..."
      ],
      "metadata": {
        "id": "Beqwdxfnjv2A"
      }
    },
    {
      "cell_type": "code",
      "source": [
        "corn_df_clean.info() #corn clean df"
      ],
      "metadata": {
        "colab": {
          "base_uri": "https://localhost:8080/"
        },
        "id": "cH8u1G-bKoYN",
        "outputId": "05877bc2-709f-4a0b-c9c7-fd6ae67de366"
      },
      "execution_count": 13,
      "outputs": [
        {
          "output_type": "stream",
          "name": "stdout",
          "text": [
            "<class 'pandas.core.frame.DataFrame'>\n",
            "Int64Index: 5014 entries, 0 to 5014\n",
            "Data columns (total 4 columns):\n",
            " #   Column            Non-Null Count  Dtype  \n",
            "---  ------            --------------  -----  \n",
            " 0   Year              5014 non-null   float64\n",
            " 1   yield             5014 non-null   float64\n",
            " 2   county_latitude   5014 non-null   float64\n",
            " 3   county_longitude  5014 non-null   float64\n",
            "dtypes: float64(4)\n",
            "memory usage: 195.9 KB\n"
          ]
        }
      ]
    },
    {
      "cell_type": "code",
      "source": [
        "from math import radians, sin, cos, sqrt, atan2\n",
        "\n",
        "def distance(lat1, lon1, lat2, lon2):\n",
        "    R = 6371  # Earth radius in km\n",
        "\n",
        "    # Convert latitude and longitude to radians\n",
        "    lat1 = radians(lat1)\n",
        "    lon1 = radians(lon1)\n",
        "    lat2 = radians(lat2)\n",
        "    lon2 = radians(lon2)\n",
        "\n",
        "    # Calculate the differences between the two points\n",
        "    dlat = lat2 - lat1\n",
        "    dlon = lon2 - lon1\n",
        "\n",
        "    # Calculate the haversine of half the differences\n",
        "    a = sin(dlat / 2) ** 2 + cos(lat1) * cos(lat2) * sin(dlon / 2) ** 2\n",
        "\n",
        "    # Calculate the great circle distance\n",
        "    c = 2 * atan2(sqrt(a), sqrt(1 - a))\n",
        "\n",
        "    # Calculate the distance in kilometers\n",
        "    dist = R * c\n",
        "\n",
        "    return dist\n",
        "\n",
        "\n",
        "def distance_from_station(weather_station, lat, lon):\n",
        "  return distance(weather_station[\"lat\"], weather_station[\"lon\"], lat, lon)\n"
      ],
      "metadata": {
        "id": "Ssfy3I5gezAQ"
      },
      "execution_count": 14,
      "outputs": []
    },
    {
      "cell_type": "code",
      "source": [
        "weather_staions = filter(lambda x: not x[\"weather_weekly\"].empty, weather_stations)"
      ],
      "metadata": {
        "id": "9-E-7HYRy1W5"
      },
      "execution_count": 15,
      "outputs": []
    },
    {
      "cell_type": "code",
      "source": [
        "data = []\n",
        "for _, y in corn_df_clean.iterrows():\n",
        "  yearly_data = dict()\n",
        "  yearly_data[\"year\"] = y[\"Year\"]\n",
        "  yearly_data[\"yield\"] = y[\"yield\"]\n",
        "  county_lat = y[\"county_latitude\"]\n",
        "  county_lon = y[\"county_longitude\"]\n",
        "  stations = sorted(weather_stations, key=lambda s:distance_from_station(s, county_lat, county_lon))\n",
        "\n",
        "  i = 0\n",
        "  while distance_from_station(stations[i], county_lat, county_lon) < 120:\n",
        "    station_weekly = stations[i][\"weather_weekly\"]\n",
        "    yearly_data[\"weather\"] = station_weekly[station_weekly[\"year\"] == y[\"Year\"]]\n",
        "    yearly_data[\"weather\"] = yearly_data[\"weather\"].drop([\"year\", \"week\"], axis=1)\n",
        "    if not yearly_data['weather'].empty:\n",
        "      data.append(yearly_data)\n",
        "      break\n",
        "    i += 1\n",
        "  \n",
        "len(data)"
      ],
      "metadata": {
        "colab": {
          "base_uri": "https://localhost:8080/"
        },
        "id": "lhrOAw9cY5so",
        "outputId": "1448be17-ad80-44a3-e93a-4da085d237fb"
      },
      "execution_count": 16,
      "outputs": [
        {
          "output_type": "execute_result",
          "data": {
            "text/plain": [
              "2860"
            ]
          },
          "metadata": {},
          "execution_count": 16
        }
      ]
    },
    {
      "cell_type": "code",
      "source": [
        "#valid_adatok = []\n",
        "#for tav in range(10, 200, 5):\n",
        "#  data = []\n",
        "#  for _, y in corn_df_clean.iterrows():\n",
        "#    yearly_data = dict()\n",
        "#    yearly_data[\"year\"] = y[\"Year\"]\n",
        "#    yearly_data[\"yield\"] = y[\"yield\"]\n",
        "#    county_lat = y[\"county_latitude\"]\n",
        "#    county_lon = y[\"county_longitude\"]\n",
        "#    stations = sorted(weather_stations, key=lambda s:distance_from_station(s, county_lat, county_lon))\n",
        "#\n",
        "#    i = 0\n",
        "#    while distance_from_station(stations[i], county_lat, county_lon) < tav:\n",
        "#      station_weekly = stations[i][\"weather_weekly\"]\n",
        "#      yearly_data[\"weather\"] = station_weekly[station_weekly[\"year\"] == y[\"Year\"]]\n",
        "#      if not yearly_data['weather'].empty:\n",
        "#        data.append(yearly_data)\n",
        "#        break\n",
        "#      i += 1\n",
        "    \n",
        "#  valid_adatok.append(len(data))"
      ],
      "metadata": {
        "id": "kLMw5UuN4WYs"
      },
      "execution_count": 20,
      "outputs": []
    },
    {
      "cell_type": "code",
      "source": [
        "#import matplotlib.pyplot as plt\n",
        "#x_values = [10+x*5 for x in range(len(valid_adatok))]\n",
        "#plt.xticks(range(len(valid_adatok)), x_values, rotation=90)\n",
        "#plt.plot(valid_adatok)"
      ],
      "metadata": {
        "id": "PnaGDlITs_po"
      },
      "execution_count": null,
      "outputs": []
    },
    {
      "cell_type": "code",
      "source": [
        "data = list(filter(lambda x: x[\"weather\"].to_numpy().shape[0] > 26, data))\n",
        "len(data)"
      ],
      "metadata": {
        "id": "wKM-f1R4k0pI",
        "outputId": "c9cea478-4089-4316-f7d8-bbe8c9426da9",
        "colab": {
          "base_uri": "https://localhost:8080/"
        }
      },
      "execution_count": 17,
      "outputs": [
        {
          "output_type": "execute_result",
          "data": {
            "text/plain": [
              "2742"
            ]
          },
          "metadata": {},
          "execution_count": 17
        }
      ]
    },
    {
      "cell_type": "code",
      "source": [
        "from tensorflow.keras.preprocessing.sequence import pad_sequences\n",
        "\n",
        "seq_len = 52\n",
        "num_features = 8\n",
        "\n",
        "X_weather = []\n",
        "for sample in data:\n",
        "    weather_data = sample[\"weather\"].to_numpy()\n",
        "    X_weather.append(weather_data)\n",
        "X_weather = pad_sequences(X_weather, maxlen=52, padding='post', truncating='post', dtype='float32')\n",
        "\n",
        "X_year = np.array(list(map(lambda s: s[\"year\"], data)))\n",
        "y = np.array(list(map(lambda s: s[\"yield\"], data)))"
      ],
      "metadata": {
        "id": "hggklvQMtaQD"
      },
      "execution_count": 81,
      "outputs": []
    },
    {
      "cell_type": "code",
      "source": [
        "from sklearn.preprocessing import MinMaxScaler\n",
        "\n",
        "split_ratio = 0.9\n",
        "split = int(len(data)*split_ratio)\n",
        "\n",
        "X_weather_train = np.stack(X_weather[:split])\n",
        "X_weather_val = np.stack(X_weather[split:])\n",
        "X_year_train = X_year[:split]\n",
        "X_year_val = X_year[split:]\n",
        "y_train = y[:split]\n",
        "y_val = y[split:]\n",
        "\n",
        "#scaler = MinMaxScaler()\n",
        "#X_weather_train = scaler.fit_transform(X_weather_train)\n",
        "#X_weather_val = scaler.transform(X_weather_val)\n",
        "#X_year_train = scaler.fit_transform(X_year_train)\n",
        "#X_year_val = scaler.transform(X_year_val)\n",
        "#y_train = scaler.fit_transform(y_train)\n",
        "#y_val = scaler.transform(y_val)"
      ],
      "metadata": {
        "id": "ow9ywribgee2"
      },
      "execution_count": 82,
      "outputs": []
    },
    {
      "cell_type": "code",
      "source": [
        "X_train.shape"
      ],
      "metadata": {
        "id": "zuvhZdaWoCOP",
        "outputId": "547a69db-fb61-4cbb-9f4b-f861d6960cb1",
        "colab": {
          "base_uri": "https://localhost:8080/"
        }
      },
      "execution_count": 84,
      "outputs": [
        {
          "output_type": "execute_result",
          "data": {
            "text/plain": [
              "(2467, 417)"
            ]
          },
          "metadata": {},
          "execution_count": 84
        }
      ]
    },
    {
      "cell_type": "code",
      "source": [
        "import tensorflow as tf\n",
        "from tensorflow.keras.layers import Input, Dense, LSTM, Dropout, Concatenate, BatchNormalization\n",
        "from tensorflow.keras.models import Model\n",
        "\n",
        "seq_input = Input(shape=(52, 8))\n",
        "int_input = Input(shape=(1,))\n",
        "\n",
        "lstm1 = LSTM(256, return_sequences=True, kernel_regularizer=\"l2\")(seq_input)\n",
        "drop1 = Dropout(0.2)(lstm1)\n",
        "lstm2 = LSTM(128, return_sequences=False, kernel_regularizer=\"l2\")(drop1)\n",
        "bn1 = BatchNormalization()(lstm2)\n",
        "drop2 = Dropout(0.2)(bn1)\n",
        "\n",
        "concat = Concatenate()([drop2, int_input])\n",
        "\n",
        "dense1 = Dense(32, activation='relu')(concat)\n",
        "dense2 = Dense(1, activation='linear')(dense1)\n",
        "\n",
        "model = Model(inputs=[seq_input, int_input], outputs=dense2)\n",
        "\n",
        "model.compile(optimizer='adam', loss='mean_squared_error')"
      ],
      "metadata": {
        "id": "HWlUq1jmZ0w-"
      },
      "execution_count": 77,
      "outputs": []
    },
    {
      "cell_type": "code",
      "source": [
        "model.summary()"
      ],
      "metadata": {
        "id": "aTi1A4r22uaO",
        "outputId": "b3ba64b0-43f6-4ab1-d48d-6facceaa1f78",
        "colab": {
          "base_uri": "https://localhost:8080/"
        }
      },
      "execution_count": 31,
      "outputs": [
        {
          "output_type": "stream",
          "name": "stdout",
          "text": [
            "Model: \"model_1\"\n",
            "__________________________________________________________________________________________________\n",
            " Layer (type)                   Output Shape         Param #     Connected to                     \n",
            "==================================================================================================\n",
            " input_3 (InputLayer)           [(None, 52, 8)]      0           []                               \n",
            "                                                                                                  \n",
            " lstm_2 (LSTM)                  (None, 52, 128)      70144       ['input_3[0][0]']                \n",
            "                                                                                                  \n",
            " batch_normalization (BatchNorm  (None, 52, 128)     512         ['lstm_2[0][0]']                 \n",
            " alization)                                                                                       \n",
            "                                                                                                  \n",
            " dropout_2 (Dropout)            (None, 52, 128)      0           ['batch_normalization[0][0]']    \n",
            "                                                                                                  \n",
            " lstm_3 (LSTM)                  (None, 64)           49408       ['dropout_2[0][0]']              \n",
            "                                                                                                  \n",
            " batch_normalization_1 (BatchNo  (None, 64)          256         ['lstm_3[0][0]']                 \n",
            " rmalization)                                                                                     \n",
            "                                                                                                  \n",
            " dropout_3 (Dropout)            (None, 64)           0           ['batch_normalization_1[0][0]']  \n",
            "                                                                                                  \n",
            " input_4 (InputLayer)           [(None, 1)]          0           []                               \n",
            "                                                                                                  \n",
            " concatenate_1 (Concatenate)    (None, 65)           0           ['dropout_3[0][0]',              \n",
            "                                                                  'input_4[0][0]']                \n",
            "                                                                                                  \n",
            " dense_2 (Dense)                (None, 32)           2112        ['concatenate_1[0][0]']          \n",
            "                                                                                                  \n",
            " dense_3 (Dense)                (None, 1)            33          ['dense_2[0][0]']                \n",
            "                                                                                                  \n",
            "==================================================================================================\n",
            "Total params: 122,465\n",
            "Trainable params: 122,081\n",
            "Non-trainable params: 384\n",
            "__________________________________________________________________________________________________\n"
          ]
        }
      ]
    },
    {
      "cell_type": "code",
      "source": [
        "from tensorflow.keras.callbacks import EarlyStopping, TensorBoard\n",
        "\n",
        "early_stopping = EarlyStopping(monitor='loss', restore_best_weights=True, patience=10)\n",
        "tb = TensorBoard(log_dir='content/logs', histogram_freq=1, write_graph=True)\n",
        "\n",
        "model.fit([X_weather_train, X_year_train], y_train, validation_data=([X_weather_val, X_year_val], y_val), epochs=1000, batch_size=64, callbacks=[early_stopping])"
      ],
      "metadata": {
        "colab": {
          "base_uri": "https://localhost:8080/"
        },
        "id": "qME-IZi-fzJz",
        "outputId": "66a3d1f4-7a37-4a11-cb2d-ec4ce0bca2e2"
      },
      "execution_count": 78,
      "outputs": [
        {
          "output_type": "stream",
          "name": "stdout",
          "text": [
            "Epoch 1/1000\n",
            "32/32 [==============================] - 6s 38ms/step - loss: 5176.8057 - val_loss: 2512.4248\n",
            "Epoch 2/1000\n",
            "32/32 [==============================] - 0s 11ms/step - loss: 1003.4471 - val_loss: 1395.1454\n",
            "Epoch 3/1000\n",
            "32/32 [==============================] - 0s 11ms/step - loss: 699.6997 - val_loss: 1297.8213\n",
            "Epoch 4/1000\n",
            "32/32 [==============================] - 0s 10ms/step - loss: 552.3714 - val_loss: 1199.7693\n",
            "Epoch 5/1000\n",
            "32/32 [==============================] - 0s 11ms/step - loss: 500.2223 - val_loss: 1099.4658\n",
            "Epoch 6/1000\n",
            "32/32 [==============================] - 0s 11ms/step - loss: 488.2756 - val_loss: 778.6960\n",
            "Epoch 7/1000\n",
            "32/32 [==============================] - 0s 11ms/step - loss: 466.7027 - val_loss: 906.3442\n",
            "Epoch 8/1000\n",
            "32/32 [==============================] - 0s 11ms/step - loss: 437.7279 - val_loss: 614.1481\n",
            "Epoch 9/1000\n",
            "32/32 [==============================] - 0s 11ms/step - loss: 394.5049 - val_loss: 995.3036\n",
            "Epoch 10/1000\n",
            "32/32 [==============================] - 0s 10ms/step - loss: 407.4181 - val_loss: 691.0591\n",
            "Epoch 11/1000\n",
            "32/32 [==============================] - 0s 11ms/step - loss: 372.8770 - val_loss: 1001.6033\n",
            "Epoch 12/1000\n",
            "32/32 [==============================] - 0s 10ms/step - loss: 382.3663 - val_loss: 456.0581\n",
            "Epoch 13/1000\n",
            "32/32 [==============================] - 0s 11ms/step - loss: 383.7336 - val_loss: 351.3692\n",
            "Epoch 14/1000\n",
            "32/32 [==============================] - 0s 11ms/step - loss: 408.6647 - val_loss: 647.1225\n",
            "Epoch 15/1000\n",
            "32/32 [==============================] - 0s 11ms/step - loss: 343.1978 - val_loss: 431.9774\n",
            "Epoch 16/1000\n",
            "32/32 [==============================] - 0s 11ms/step - loss: 369.8567 - val_loss: 285.0135\n",
            "Epoch 17/1000\n",
            "32/32 [==============================] - 0s 14ms/step - loss: 354.8279 - val_loss: 359.6630\n",
            "Epoch 18/1000\n",
            "32/32 [==============================] - 0s 14ms/step - loss: 333.2217 - val_loss: 290.8839\n",
            "Epoch 19/1000\n",
            "32/32 [==============================] - 1s 16ms/step - loss: 330.2341 - val_loss: 311.5002\n",
            "Epoch 20/1000\n",
            "32/32 [==============================] - 0s 15ms/step - loss: 315.7722 - val_loss: 381.7077\n",
            "Epoch 21/1000\n",
            "32/32 [==============================] - 0s 15ms/step - loss: 306.3930 - val_loss: 258.4178\n",
            "Epoch 22/1000\n",
            "32/32 [==============================] - 0s 15ms/step - loss: 282.2019 - val_loss: 279.1126\n",
            "Epoch 23/1000\n",
            "32/32 [==============================] - 0s 14ms/step - loss: 309.8369 - val_loss: 343.1382\n",
            "Epoch 24/1000\n",
            "32/32 [==============================] - 0s 13ms/step - loss: 315.0755 - val_loss: 234.3015\n",
            "Epoch 25/1000\n",
            "32/32 [==============================] - 0s 10ms/step - loss: 289.6318 - val_loss: 359.7504\n",
            "Epoch 26/1000\n",
            "32/32 [==============================] - 0s 11ms/step - loss: 312.9264 - val_loss: 434.4951\n",
            "Epoch 27/1000\n",
            "32/32 [==============================] - 0s 11ms/step - loss: 290.4532 - val_loss: 340.9550\n",
            "Epoch 28/1000\n",
            "32/32 [==============================] - 0s 11ms/step - loss: 288.9664 - val_loss: 315.1982\n",
            "Epoch 29/1000\n",
            "32/32 [==============================] - 0s 11ms/step - loss: 280.4513 - val_loss: 296.3294\n",
            "Epoch 30/1000\n",
            "32/32 [==============================] - 0s 11ms/step - loss: 291.3798 - val_loss: 280.6487\n",
            "Epoch 31/1000\n",
            "32/32 [==============================] - 0s 11ms/step - loss: 293.9720 - val_loss: 471.9021\n",
            "Epoch 32/1000\n",
            "32/32 [==============================] - 0s 11ms/step - loss: 274.7715 - val_loss: 641.2162\n",
            "Epoch 33/1000\n",
            "32/32 [==============================] - 0s 11ms/step - loss: 252.3666 - val_loss: 264.6871\n",
            "Epoch 34/1000\n",
            "32/32 [==============================] - 0s 11ms/step - loss: 257.2711 - val_loss: 248.1616\n",
            "Epoch 35/1000\n",
            "32/32 [==============================] - 0s 11ms/step - loss: 269.5468 - val_loss: 303.1851\n",
            "Epoch 36/1000\n",
            "32/32 [==============================] - 0s 11ms/step - loss: 268.2408 - val_loss: 317.4674\n",
            "Epoch 37/1000\n",
            "32/32 [==============================] - 0s 11ms/step - loss: 261.1736 - val_loss: 234.5044\n",
            "Epoch 38/1000\n",
            "32/32 [==============================] - 0s 11ms/step - loss: 254.1185 - val_loss: 248.1664\n",
            "Epoch 39/1000\n",
            "32/32 [==============================] - 0s 11ms/step - loss: 272.6535 - val_loss: 346.6021\n",
            "Epoch 40/1000\n",
            "32/32 [==============================] - 0s 11ms/step - loss: 264.5374 - val_loss: 235.9490\n",
            "Epoch 41/1000\n",
            "32/32 [==============================] - 0s 11ms/step - loss: 273.2596 - val_loss: 227.9472\n",
            "Epoch 42/1000\n",
            "32/32 [==============================] - 0s 11ms/step - loss: 291.1886 - val_loss: 237.6882\n",
            "Epoch 43/1000\n",
            "32/32 [==============================] - 0s 11ms/step - loss: 266.1427 - val_loss: 234.2957\n"
          ]
        },
        {
          "output_type": "execute_result",
          "data": {
            "text/plain": [
              "<keras.callbacks.History at 0x7f11ec80e220>"
            ]
          },
          "metadata": {},
          "execution_count": 78
        }
      ]
    },
    {
      "cell_type": "code",
      "source": [
        "%load_ext tensorboard\n",
        "%tensorboard --logdir content/logs --load_fast=fals\n",
        "#from tensorboard import notebook\n",
        "\n",
        "#notebook.list() \n",
        "#notebook.display(port=6007, height=600) "
      ],
      "metadata": {
        "id": "HW--UeE59Hy-",
        "outputId": "4c0810ab-3812-423d-ca43-4195d209222a",
        "colab": {
          "base_uri": "https://localhost:8080/",
          "height": 642
        }
      },
      "execution_count": 83,
      "outputs": [
        {
          "output_type": "stream",
          "name": "stdout",
          "text": [
            "The tensorboard extension is already loaded. To reload it, use:\n",
            "  %reload_ext tensorboard\n"
          ]
        },
        {
          "output_type": "display_data",
          "data": {
            "text/plain": [
              "ERROR: Failed to launch TensorBoard (exited with 2).\n",
              "Contents of stderr:\n",
              "2023-03-29 21:45:48.992610: W tensorflow/compiler/xla/stream_executor/platform/default/dso_loader.cc:64] Could not load dynamic library 'libnvinfer.so.7'; dlerror: libnvinfer.so.7: cannot open shared object file: No such file or directory; LD_LIBRARY_PATH: /usr/lib64-nvidia\n",
              "2023-03-29 21:45:48.992723: W tensorflow/compiler/xla/stream_executor/platform/default/dso_loader.cc:64] Could not load dynamic library 'libnvinfer_plugin.so.7'; dlerror: libnvinfer_plugin.so.7: cannot open shared object file: No such file or directory; LD_LIBRARY_PATH: /usr/lib64-nvidia\n",
              "2023-03-29 21:45:48.992736: W tensorflow/compiler/tf2tensorrt/utils/py_utils.cc:38] TF-TRT Warning: Cannot dlopen some TensorRT libraries. If you would like to use Nvidia GPU with TensorRT, please make sure the missing libraries mentioned above are installed properly.\n",
              "usage: tensorboard [-h] [--helpfull] [--logdir PATH] [--logdir_spec PATH_SPEC]\n",
              "                   [--host ADDR] [--bind_all] [--port PORT]\n",
              "                   [--reuse_port BOOL] [--load_fast {false,auto,true}]\n",
              "                   [--extra_data_server_flags EXTRA_DATA_SERVER_FLAGS]\n",
              "                   [--grpc_creds_type {local,ssl,ssl_dev}]\n",
              "                   [--grpc_data_provider PORT] [--purge_orphaned_data BOOL]\n",
              "                   [--db URI] [--db_import] [--inspect] [--version_tb]\n",
              "                   [--tag TAG] [--event_file PATH] [--path_prefix PATH]\n",
              "                   [--window_title TEXT] [--max_reload_threads COUNT]\n",
              "                   [--reload_interval SECONDS] [--reload_task TYPE]\n",
              "                   [--reload_multifile BOOL]\n",
              "                   [--reload_multifile_inactive_secs SECONDS]\n",
              "                   [--generic_data TYPE]\n",
              "                   [--samples_per_plugin SAMPLES_PER_PLUGIN]\n",
              "                   [--detect_file_replacement BOOL]\n",
              "                   [--whatif-use-unsafe-custom-prediction YOUR_CUSTOM_PREDICT_FUNCTION.py]\n",
              "                   [--whatif-data-dir PATH]\n",
              "                   {serve,dev} ...\n",
              "tensorboard: error: argument --load_fast: invalid choice: 'fals' (choose from 'false', 'auto', 'true')"
            ]
          },
          "metadata": {}
        }
      ]
    },
    {
      "cell_type": "code",
      "source": [
        "loss = model.evaluate([X_weather_, int_test], y_test)\n",
        "print('Test loss:', loss)"
      ],
      "metadata": {
        "id": "sFxSpj20f8vj"
      },
      "execution_count": null,
      "outputs": []
    },
    {
      "cell_type": "code",
      "source": [
        "y_pred = model.predict([X_new, int_new])"
      ],
      "metadata": {
        "id": "D6lPdf-8gBUZ"
      },
      "execution_count": null,
      "outputs": []
    },
    {
      "cell_type": "code",
      "source": [
        "from xgboost import XGBRegressor\n",
        "import numpy as np\n",
        "\n",
        "X = []\n",
        "X_train = []\n",
        "X_val = []\n",
        "for i in range(len(X_weather_train)):\n",
        "  X.append(np.append(X_year_train[i], np.array(X_weather_train[i]).flatten()))\n",
        "  X_train.append(np.append(X_year_train[i], np.array(X_weather_train[i]).flatten()))\n",
        "X_train = np.stack(X_train)\n",
        "\n",
        "#X_val = []\n",
        "for i in range(len(X_weather_val)):\n",
        "  X.append(np.append(X_year_val[i], np.array(X_weather_val[i]).flatten()))\n",
        "  X_val.append(np.append(X_year_val[i], np.array(X_weather_val[i]).flatten()))\n",
        "X_val = np.stack(X_val)\n",
        "\n",
        "#X_train = np.stack(X_val)\n",
        "X = pd.DataFrame(np.stack(X))"
      ],
      "metadata": {
        "id": "wOa59SwXax5a"
      },
      "execution_count": 85,
      "outputs": []
    },
    {
      "cell_type": "code",
      "source": [
        "param_grid = {'n_estimators': [ 1000, 1250, 1500, 1750, 2000, 2500, 3000],\n",
        "   \"learning_rate\": [0.03, 0.04, 0.045, 0.05,0.065 ],\n",
        "   \"max_depth\": [ 1, 2, 3, 4, 5, 6, 8],\n",
        "   \"min_child_weight\": [3, 4, 5, 6, 7],\n",
        "   \"gamma\": [ 0.3, 0.4, 0.5, 0.6, 0.7],\n",
        "   \"colsample_bytree\": [ 0.1, 0.2, 0.25, 0.3]\n",
        "}"
      ],
      "metadata": {
        "id": "_NxD_wV7ZuXr"
      },
      "execution_count": 88,
      "outputs": []
    },
    {
      "cell_type": "code",
      "source": [
        "from sklearn.model_selection import RandomizedSearchCV\n",
        "from xgboost import XGBRegressor\n",
        "\n",
        "RS_XGB = RandomizedSearchCV(estimator=XGBRegressor(early_stopping_rounds=50), param_distributions=param_grid, n_iter=200, cv=10 ,n_jobs=-1, random_state=0)\n",
        "RS_XGB.fit(X_train, y_train, eval_set=[(X_train,y_train),(X_val,y_val)],verbose=0)"
      ],
      "metadata": {
        "id": "RS29W9VCZxlx"
      },
      "execution_count": null,
      "outputs": []
    },
    {
      "cell_type": "code",
      "source": [
        "RS_XGB.best_params_"
      ],
      "metadata": {
        "id": "vFfCUlYr3pn2",
        "outputId": "eef5a1a8-157f-4f14-8793-365ecb7c85c5",
        "colab": {
          "base_uri": "https://localhost:8080/",
          "height": 169
        }
      },
      "execution_count": 1,
      "outputs": [
        {
          "output_type": "error",
          "ename": "NameError",
          "evalue": "ignored",
          "traceback": [
            "\u001b[0;31m---------------------------------------------------------------------------\u001b[0m",
            "\u001b[0;31mNameError\u001b[0m                                 Traceback (most recent call last)",
            "\u001b[0;32m<ipython-input-1-2463697da692>\u001b[0m in \u001b[0;36m<cell line: 1>\u001b[0;34m()\u001b[0m\n\u001b[0;32m----> 1\u001b[0;31m \u001b[0mRS_XGB\u001b[0m\u001b[0;34m.\u001b[0m\u001b[0mbest_params_\u001b[0m\u001b[0;34m\u001b[0m\u001b[0;34m\u001b[0m\u001b[0m\n\u001b[0m",
            "\u001b[0;31mNameError\u001b[0m: name 'RS_XGB' is not defined"
          ]
        }
      ]
    },
    {
      "cell_type": "code",
      "source": [
        "y = pd.DataFrame(y)"
      ],
      "metadata": {
        "id": "35pssLAdE4ay"
      },
      "execution_count": 97,
      "outputs": []
    },
    {
      "cell_type": "code",
      "source": [
        "from sklearn.metrics import mean_absolute_error, roc_auc_score\n",
        "from sklearn.model_selection import KFold\n",
        "\n",
        "\n",
        "xgb_models = []\n",
        "scores = []\n",
        "feature_importances = []\n",
        "\n",
        "skf = KFold(n_splits=10, shuffle=True, random_state=0)\n",
        "for fold, (train_idx, val_idx) in enumerate(skf.split(X, y)):\n",
        "    \n",
        "    X_train, y_train = X.iloc[train_idx], y.iloc[train_idx]\n",
        "    X_valid, y_valid = X.iloc[val_idx], y.iloc[val_idx]\n",
        "    evaluation = [(X_train, y_train), (X_valid, y_valid)]\n",
        "\n",
        "    model = XGBRegressor(**RS_XGB.best_params_, n_jobs=-1, early_stopping_rounds=30)\n",
        "    model.fit(X_train, y_train, eval_set=evaluation, verbose=0)\n",
        "\n",
        "    val_preds = model.predict(X_valid)\n",
        "    val_score = mean_absolute_error(y_valid, val_preds)\n",
        "    best_iter = model.best_iteration\n",
        "\n",
        "    feature_importances.append({i: j for i in model.feature_names_in_ for j in model.feature_importances_ })\n",
        "    print(f' mae :{val_score:.5f}    best iteration  :{best_iter}')\n",
        "    \n",
        "    if (val_score < 15):\n",
        "        scores.append(val_score)\n",
        "        xgb_models.append(model)\n",
        "        \n",
        "        \n",
        "mean_val_auc = np.array(scores).mean(0)\n",
        "print(f'MAE:  {mean_val_auc}')"
      ],
      "metadata": {
        "id": "CAGMKdZwZ4q8",
        "outputId": "46e1e0a1-c17a-432b-9f59-97716875bb44",
        "colab": {
          "base_uri": "https://localhost:8080/"
        }
      },
      "execution_count": 98,
      "outputs": [
        {
          "output_type": "stream",
          "name": "stdout",
          "text": [
            " auc :11.66816    best iteration  :1745\n",
            " auc :12.64076    best iteration  :540\n",
            " auc :12.83902    best iteration  :733\n",
            " auc :11.55413    best iteration  :873\n",
            " auc :10.26939    best iteration  :779\n",
            " auc :11.39682    best iteration  :1457\n",
            " auc :12.06055    best iteration  :1100\n",
            " auc :10.91902    best iteration  :1356\n",
            " auc :13.25852    best iteration  :393\n",
            " auc :10.29245    best iteration  :1190\n",
            " auc :12.00292    best iteration  :1742\n",
            " auc :11.73210    best iteration  :1084\n",
            " auc :15.98587    best iteration  :404\n",
            " auc :12.20406    best iteration  :860\n",
            " auc :11.49740    best iteration  :911\n",
            " auc :12.35793    best iteration  :1748\n",
            " auc :11.58691    best iteration  :579\n",
            " auc :11.30934    best iteration  :1163\n",
            " auc :13.91062    best iteration  :899\n",
            " auc :13.24469    best iteration  :750\n",
            " auc :12.14977    best iteration  :1430\n",
            " auc :12.19245    best iteration  :1352\n",
            " auc :14.31868    best iteration  :689\n",
            " auc :12.44630    best iteration  :488\n",
            " auc :12.97080    best iteration  :859\n",
            " auc :11.81266    best iteration  :1516\n",
            " auc :13.03441    best iteration  :524\n",
            " auc :11.73275    best iteration  :771\n",
            " auc :13.67130    best iteration  :448\n",
            " auc :12.32977    best iteration  :849\n",
            "MAE:  12.186333477008262\n"
          ]
        }
      ]
    },
    {
      "cell_type": "code",
      "source": [
        "y_pred = model.predict(X_test)\n",
        "\n",
        "# Plot the actual vs predicted values\n",
        "plt.scatter(y_test, y_pred)\n",
        "plt.plot(np.linspace(min(y_test), max(y_test)), np.linspace(min(y_test), max(y_test)), color='red')\n",
        "plt.xlabel('Actual')\n",
        "plt.ylabel('Predicted')\n",
        "plt.title('Actual vs Predicted values')\n",
        "plt.show()"
      ],
      "metadata": {
        "id": "NZaUrxipGnnS"
      },
      "execution_count": null,
      "outputs": []
    }
  ]
}